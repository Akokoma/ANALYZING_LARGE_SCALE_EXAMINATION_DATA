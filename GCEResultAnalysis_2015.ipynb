{
 "cells": [
  {
   "cell_type": "markdown",
   "source": [
    "Title of Project:  \n",
    "    Extracting and Analyzing Large Exam Datasets with Python DataFrames and Visualization with Tableau. \n",
    "    \n",
    "Description of project:\n",
    "    This project extracts large examination data from text files for five examinations years. \n",
    "    The data which contains the student information (Exam number, name, gender), subject codes \n",
    "    and scores for each student in each subject are read into a pandas DataFrame. Statistical \n",
    "    analyses of performance for each examination year, for each subject, and for each Examination \n",
    "    center are then performed. A transcript is produced for each student. A comparative analysis \n",
    "    of performance for the five examination years are also carried out. The data is visualized with Tableau. "
   ],
   "metadata": {
    "collapsed": false,
    "pycharm": {
     "name": "#%% md\n"
    }
   }
  },
  {
   "cell_type": "code",
   "execution_count": 1,
   "outputs": [],
   "source": [
    "#IMPORT DEPENDECIES\n",
    "import pandas as pd\n",
    "import numpy as np \n",
    "import functools\n",
    "from functools import reduce\n",
    "import time\n",
    "import xlsxwriter\n",
    "\n",
    "# DECLARTION OF CONSTANTS\n",
    "#grade limits\n",
    "NINETY = 90\n",
    "EIGHTY = 80\n",
    "SEVENTY = 70\n",
    "SIXTY_FIVE = 65\n",
    "SIXTY = 60\n",
    "FIFTY = 50\n",
    "FORTY = 40\n",
    "\n",
    "# Define Grades\n",
    "GRADE_A = \"A\"\n",
    "GRADE_B = \"B\"\n",
    "GRADE_C = \"C\"\n",
    "GRADE_D = \"D\"\n",
    "GRADE_F = \"F\"\n",
    "GRADE_U = \"U\"\n",
    "\n",
    "# Define grade boundaries\n",
    "def assign_grade(score):\n",
    "    grade = \"\"\n",
    "    if score >= EIGHTY:\n",
    "        grade = GRADE_A\n",
    "    elif EIGHTY > score >= SIXTY_FIVE:\n",
    "        grade = GRADE_B\n",
    "    elif SIXTY_FIVE > score >= FIFTY:\n",
    "        grade = GRADE_C\n",
    "    elif FIFTY > score >= FORTY:\n",
    "        grade = GRADE_D   \n",
    "    elif score < FORTY:\n",
    "        grade = GRADE_U       \n",
    "    return grade\n",
    "\n",
    "# Define pass grades\n",
    "def did_pass(grade):\n",
    "    passed = False\n",
    "    if grade == GRADE_A or \\\n",
    "        grade == GRADE_B or\\\n",
    "        grade == GRADE_C:\n",
    "        passed = True\n",
    "    return passed\n",
    "\n",
    "# Read the data file \n",
    "def read_data(file):\n",
    "    data = open(file, \"r\")\n",
    "    return data\n",
    "\n",
    "# Create an output dictionary \n",
    "def process_line_to_dictionary(data_line):\n",
    "    output_dictionary = {}\n",
    "    line = data_line.lstrip(\"{\").rstrip(\"}\\n\").replace(\"'\", \"\")\n",
    "    line_list = line.split(\",\")\n",
    "    student_names = line_list[0].split(\":\")[1].lstrip(\" \")\n",
    "    student_exam_number = line_list[1].split(\":\")[1].lstrip(\" \")\n",
    "    center_number = line_list[2].split(\":\")[1].lstrip(\" \")\n",
    "    gender = line_list[3].split(\":\")[1].lstrip(\" \")\n",
    "    year = line_list[4].split(\":\")[1].lstrip(\" \")\n",
    "    list_of_subjects = line_list[5:]\n",
    "    \n",
    "    output_dictionary[\"Student Names\"] = student_names\n",
    "    output_dictionary[\"Student Exam Number\"] = student_exam_number\n",
    "    output_dictionary[\"Center Number\"] = center_number\n",
    "    output_dictionary[\"Gender\"] = gender\n",
    "    output_dictionary[\"Exam Year\"] = str(year)\n",
    "    \n",
    "    for subject in list_of_subjects:\n",
    "        subject_content= subject.split(\":\")\n",
    "        subject_code = subject_content[0].lstrip(\" \")\n",
    "        subject_score = float(subject_content[1].lstrip(\" \"))\n",
    "        output_dictionary[subject_code] = subject_score\n",
    "\n",
    "    return output_dictionary"
   ],
   "metadata": {
    "collapsed": false,
    "pycharm": {
     "name": "#%%\n",
     "is_executing": false
    }
   }
  },
  {
   "cell_type": "markdown",
   "source": [
    "DATA\n",
    "Reading of the Data file for the Examination Year.\n",
    "•\tClean and mark out data positions in the text file.\n",
    "•\tCreate an output dictionary to store the data."
   ],
   "metadata": {
    "collapsed": false,
    "pycharm": {
     "name": "#%% md\n"
    }
   }
  },
  {
   "cell_type": "markdown",
   "source": [
    "METHODOLOGY\n",
    "•   Create a DataFrame (df_raw) and read data into it.\n",
    "•   Create another DataFrame (df_main2015) where the student numerical scores in \n",
    "    the df_raw DataFrame are converted into letter Grades.\n",
    "•   Index the ‘Student Exam Number’\n",
    "     "
   ],
   "metadata": {
    "collapsed": false,
    "pycharm": {
     "name": "#%% md\n"
    }
   }
  },
  {
   "cell_type": "code",
   "execution_count": 2,
   "outputs": [
    {
     "name": "stdout",
     "text": [
      "runtime\n",
      "1954.4114911556244\n"
     ],
     "output_type": "stream"
    }
   ],
   "source": [
    "#Create a pandas DataFrame\n",
    "start_time = time.time()\n",
    "df_raw = pd.DataFrame()\n",
    "data = read_data(\"GCE_2015.txt\")\n",
    "for line in data:\n",
    "    line_dictionary = process_line_to_dictionary(line)\n",
    "    df_raw = df_raw.append(line_dictionary, ignore_index=True)\n",
    "    line_dictionary.clear()\n",
    " \n",
    "print(\"runtime\")\n",
    "print((time.time() - start_time))   \n",
    "#df_raw"
   ],
   "metadata": {
    "collapsed": false,
    "pycharm": {
     "name": "#%%  \n",
     "is_executing": false
    }
   }
  },
  {
   "cell_type": "code",
   "execution_count": 3,
   "outputs": [],
   "source": [
    "#Setting the \"Student Exam Number\"  as an index after reading in data\n",
    "df_index = df_raw.set_index('Student Exam Number') \n",
    "#df_index"
   ],
   "metadata": {
    "collapsed": false,
    "pycharm": {
     "name": "#%%\n",
     "is_executing": false
    }
   }
  },
  {
   "cell_type": "code",
   "execution_count": 59,
   "outputs": [
    {
     "name": "stdout",
     "text": [
      "Print df2\n"
     ],
     "output_type": "stream"
    },
    {
     "data": {
      "text/plain": "                    Exam Year Center Number        Student Names Gender   505  \\\nStudent Exam Number                                                             \nOL1230                   2015          1110          njwo0 ngwo0      M  47.9   \nOL1231                   2015          1110          njwo1 ngwo1      M   NaN   \nOL1232                   2015          1175          njwo2 ngwo2      F  87.5   \nOL1233                   2015          1115          njwo3 ngwo3      M   NaN   \nOL1234                   2015          1124          njwo4 ngwo4      F   NaN   \n...                       ...           ...                  ...    ...   ...   \nOL12389995               2015          1146  njwo89995 ngwo89995      F   NaN   \nOL12389996               2015          1115  njwo89996 ngwo89996      F  79.9   \nOL12389997               2015          1146  njwo89997 ngwo89997      M   NaN   \nOL12389998               2015          1175  njwo89998 ngwo89998      F  86.1   \nOL12389999               2015          1131  njwo89999 ngwo89999      M   NaN   \n\n                      510   515   520   525   530  ...   545   550   560  \\\nStudent Exam Number                                ...                     \nOL1230               94.5   NaN  41.5   NaN   NaN  ...  28.3   NaN   NaN   \nOL1231                NaN  69.2  46.4  63.7   NaN  ...   NaN   NaN   NaN   \nOL1232                NaN   NaN   NaN   NaN  68.8  ...   NaN  40.1   NaN   \nOL1233                NaN   NaN   NaN  77.2  91.3  ...  97.5   NaN   NaN   \nOL1234                NaN  92.9  72.2  98.2   NaN  ...   NaN   NaN  79.9   \n...                   ...   ...   ...   ...   ...  ...   ...   ...   ...   \nOL12389995            NaN   NaN   NaN   NaN   NaN  ...  46.8   NaN  70.8   \nOL12389996            NaN   NaN   NaN   NaN   NaN  ...  38.4  42.7  56.9   \nOL12389997           82.1  77.8   NaN   NaN   NaN  ...   NaN  73.0   NaN   \nOL12389998            NaN  91.0  95.9  54.6  59.9  ...  43.3   NaN   NaN   \nOL12389999            NaN  63.3  40.6   NaN  84.0  ...   NaN  75.4   NaN   \n\n                      565   570   575   580   585   590   595  \nStudent Exam Number                                            \nOL1230                NaN   NaN  68.1   NaN   NaN   NaN  45.4  \nOL1231               69.6  63.9   NaN   NaN   NaN   NaN   NaN  \nOL1232               50.3   NaN   NaN  66.7  77.5   NaN   NaN  \nOL1233                NaN   NaN   NaN   NaN  94.8   NaN   NaN  \nOL1234                NaN   NaN   NaN   NaN   NaN   NaN  98.6  \n...                   ...   ...   ...   ...   ...   ...   ...  \nOL12389995            NaN   NaN  59.0  81.8   NaN   NaN  85.9  \nOL12389996           70.0   NaN  75.1  95.0  69.4   NaN   NaN  \nOL12389997            NaN   NaN   NaN   NaN  58.8   NaN   NaN  \nOL12389998            NaN   NaN  41.0  79.7  88.0  92.9   NaN  \nOL12389999           83.0   NaN  75.9  45.2   NaN  91.6  63.9  \n\n[90000 rows x 22 columns]",
      "text/html": "<div>\n<style scoped>\n    .dataframe tbody tr th:only-of-type {\n        vertical-align: middle;\n    }\n\n    .dataframe tbody tr th {\n        vertical-align: top;\n    }\n\n    .dataframe thead th {\n        text-align: right;\n    }\n</style>\n<table border=\"1\" class=\"dataframe\">\n  <thead>\n    <tr style=\"text-align: right;\">\n      <th></th>\n      <th>Exam Year</th>\n      <th>Center Number</th>\n      <th>Student Names</th>\n      <th>Gender</th>\n      <th>505</th>\n      <th>510</th>\n      <th>515</th>\n      <th>520</th>\n      <th>525</th>\n      <th>530</th>\n      <th>...</th>\n      <th>545</th>\n      <th>550</th>\n      <th>560</th>\n      <th>565</th>\n      <th>570</th>\n      <th>575</th>\n      <th>580</th>\n      <th>585</th>\n      <th>590</th>\n      <th>595</th>\n    </tr>\n    <tr>\n      <th>Student Exam Number</th>\n      <th></th>\n      <th></th>\n      <th></th>\n      <th></th>\n      <th></th>\n      <th></th>\n      <th></th>\n      <th></th>\n      <th></th>\n      <th></th>\n      <th></th>\n      <th></th>\n      <th></th>\n      <th></th>\n      <th></th>\n      <th></th>\n      <th></th>\n      <th></th>\n      <th></th>\n      <th></th>\n      <th></th>\n    </tr>\n  </thead>\n  <tbody>\n    <tr>\n      <th>OL1230</th>\n      <td>2015</td>\n      <td>1110</td>\n      <td>njwo0 ngwo0</td>\n      <td>M</td>\n      <td>47.9</td>\n      <td>94.5</td>\n      <td>NaN</td>\n      <td>41.5</td>\n      <td>NaN</td>\n      <td>NaN</td>\n      <td>...</td>\n      <td>28.3</td>\n      <td>NaN</td>\n      <td>NaN</td>\n      <td>NaN</td>\n      <td>NaN</td>\n      <td>68.1</td>\n      <td>NaN</td>\n      <td>NaN</td>\n      <td>NaN</td>\n      <td>45.4</td>\n    </tr>\n    <tr>\n      <th>OL1231</th>\n      <td>2015</td>\n      <td>1110</td>\n      <td>njwo1 ngwo1</td>\n      <td>M</td>\n      <td>NaN</td>\n      <td>NaN</td>\n      <td>69.2</td>\n      <td>46.4</td>\n      <td>63.7</td>\n      <td>NaN</td>\n      <td>...</td>\n      <td>NaN</td>\n      <td>NaN</td>\n      <td>NaN</td>\n      <td>69.6</td>\n      <td>63.9</td>\n      <td>NaN</td>\n      <td>NaN</td>\n      <td>NaN</td>\n      <td>NaN</td>\n      <td>NaN</td>\n    </tr>\n    <tr>\n      <th>OL1232</th>\n      <td>2015</td>\n      <td>1175</td>\n      <td>njwo2 ngwo2</td>\n      <td>F</td>\n      <td>87.5</td>\n      <td>NaN</td>\n      <td>NaN</td>\n      <td>NaN</td>\n      <td>NaN</td>\n      <td>68.8</td>\n      <td>...</td>\n      <td>NaN</td>\n      <td>40.1</td>\n      <td>NaN</td>\n      <td>50.3</td>\n      <td>NaN</td>\n      <td>NaN</td>\n      <td>66.7</td>\n      <td>77.5</td>\n      <td>NaN</td>\n      <td>NaN</td>\n    </tr>\n    <tr>\n      <th>OL1233</th>\n      <td>2015</td>\n      <td>1115</td>\n      <td>njwo3 ngwo3</td>\n      <td>M</td>\n      <td>NaN</td>\n      <td>NaN</td>\n      <td>NaN</td>\n      <td>NaN</td>\n      <td>77.2</td>\n      <td>91.3</td>\n      <td>...</td>\n      <td>97.5</td>\n      <td>NaN</td>\n      <td>NaN</td>\n      <td>NaN</td>\n      <td>NaN</td>\n      <td>NaN</td>\n      <td>NaN</td>\n      <td>94.8</td>\n      <td>NaN</td>\n      <td>NaN</td>\n    </tr>\n    <tr>\n      <th>OL1234</th>\n      <td>2015</td>\n      <td>1124</td>\n      <td>njwo4 ngwo4</td>\n      <td>F</td>\n      <td>NaN</td>\n      <td>NaN</td>\n      <td>92.9</td>\n      <td>72.2</td>\n      <td>98.2</td>\n      <td>NaN</td>\n      <td>...</td>\n      <td>NaN</td>\n      <td>NaN</td>\n      <td>79.9</td>\n      <td>NaN</td>\n      <td>NaN</td>\n      <td>NaN</td>\n      <td>NaN</td>\n      <td>NaN</td>\n      <td>NaN</td>\n      <td>98.6</td>\n    </tr>\n    <tr>\n      <th>...</th>\n      <td>...</td>\n      <td>...</td>\n      <td>...</td>\n      <td>...</td>\n      <td>...</td>\n      <td>...</td>\n      <td>...</td>\n      <td>...</td>\n      <td>...</td>\n      <td>...</td>\n      <td>...</td>\n      <td>...</td>\n      <td>...</td>\n      <td>...</td>\n      <td>...</td>\n      <td>...</td>\n      <td>...</td>\n      <td>...</td>\n      <td>...</td>\n      <td>...</td>\n      <td>...</td>\n    </tr>\n    <tr>\n      <th>OL12389995</th>\n      <td>2015</td>\n      <td>1146</td>\n      <td>njwo89995 ngwo89995</td>\n      <td>F</td>\n      <td>NaN</td>\n      <td>NaN</td>\n      <td>NaN</td>\n      <td>NaN</td>\n      <td>NaN</td>\n      <td>NaN</td>\n      <td>...</td>\n      <td>46.8</td>\n      <td>NaN</td>\n      <td>70.8</td>\n      <td>NaN</td>\n      <td>NaN</td>\n      <td>59.0</td>\n      <td>81.8</td>\n      <td>NaN</td>\n      <td>NaN</td>\n      <td>85.9</td>\n    </tr>\n    <tr>\n      <th>OL12389996</th>\n      <td>2015</td>\n      <td>1115</td>\n      <td>njwo89996 ngwo89996</td>\n      <td>F</td>\n      <td>79.9</td>\n      <td>NaN</td>\n      <td>NaN</td>\n      <td>NaN</td>\n      <td>NaN</td>\n      <td>NaN</td>\n      <td>...</td>\n      <td>38.4</td>\n      <td>42.7</td>\n      <td>56.9</td>\n      <td>70.0</td>\n      <td>NaN</td>\n      <td>75.1</td>\n      <td>95.0</td>\n      <td>69.4</td>\n      <td>NaN</td>\n      <td>NaN</td>\n    </tr>\n    <tr>\n      <th>OL12389997</th>\n      <td>2015</td>\n      <td>1146</td>\n      <td>njwo89997 ngwo89997</td>\n      <td>M</td>\n      <td>NaN</td>\n      <td>82.1</td>\n      <td>77.8</td>\n      <td>NaN</td>\n      <td>NaN</td>\n      <td>NaN</td>\n      <td>...</td>\n      <td>NaN</td>\n      <td>73.0</td>\n      <td>NaN</td>\n      <td>NaN</td>\n      <td>NaN</td>\n      <td>NaN</td>\n      <td>NaN</td>\n      <td>58.8</td>\n      <td>NaN</td>\n      <td>NaN</td>\n    </tr>\n    <tr>\n      <th>OL12389998</th>\n      <td>2015</td>\n      <td>1175</td>\n      <td>njwo89998 ngwo89998</td>\n      <td>F</td>\n      <td>86.1</td>\n      <td>NaN</td>\n      <td>91.0</td>\n      <td>95.9</td>\n      <td>54.6</td>\n      <td>59.9</td>\n      <td>...</td>\n      <td>43.3</td>\n      <td>NaN</td>\n      <td>NaN</td>\n      <td>NaN</td>\n      <td>NaN</td>\n      <td>41.0</td>\n      <td>79.7</td>\n      <td>88.0</td>\n      <td>92.9</td>\n      <td>NaN</td>\n    </tr>\n    <tr>\n      <th>OL12389999</th>\n      <td>2015</td>\n      <td>1131</td>\n      <td>njwo89999 ngwo89999</td>\n      <td>M</td>\n      <td>NaN</td>\n      <td>NaN</td>\n      <td>63.3</td>\n      <td>40.6</td>\n      <td>NaN</td>\n      <td>84.0</td>\n      <td>...</td>\n      <td>NaN</td>\n      <td>75.4</td>\n      <td>NaN</td>\n      <td>83.0</td>\n      <td>NaN</td>\n      <td>75.9</td>\n      <td>45.2</td>\n      <td>NaN</td>\n      <td>91.6</td>\n      <td>63.9</td>\n    </tr>\n  </tbody>\n</table>\n<p>90000 rows × 22 columns</p>\n</div>"
     },
     "metadata": {},
     "output_type": "execute_result",
     "execution_count": 59
    }
   ],
   "source": [
    "# Rearranging columns of the DataFrame\n",
    "print(\"Print df2\")\n",
    "df2 = df_index[['Exam Year','Center Number', 'Student Names', 'Gender', '505', '510',\n",
    "                 '515','520', '525', '530', '535','540', '545', '550', '560', \n",
    "                '565', '570', '575', '580', '585', '590', '595']]\n",
    "df2"
   ],
   "metadata": {
    "collapsed": false,
    "pycharm": {
     "name": "#%%\n",
     "is_executing": false
    }
   }
  },
  {
   "cell_type": "code",
   "execution_count": 73,
   "outputs": [],
   "source": [
    "# Export the DataFrame (df2) to excel for visualization with Tableau.\n",
    "# Import xlsxwiter\n",
    "import xlsxwriter\n",
    "writer = pd.ExcelWriter('C:\\\\Users\\\\akoko\\\\Desktop\\\\Results_Data_df2.xlsx', engine='xlsxwriter')\n",
    "df2.to_excel(writer, sheet_name='Sheet1')\n",
    "writer.save() "
   ],
   "metadata": {
    "collapsed": false,
    "pycharm": {
     "name": "#%%%\n",
     "is_executing": false
    }
   }
  },
  {
   "cell_type": "code",
   "execution_count": 64,
   "outputs": [
    {
     "name": "stdout",
     "text": [
      "Drop NaN Values from DataFrame\n"
     ],
     "output_type": "stream"
    },
    {
     "data": {
      "text/plain": "                    Exam Year Center Number        Student Names Gender   505  \\\nStudent Exam Number                                                             \nOL1230                   2015          1110          njwo0 ngwo0      M  47.9   \nOL1231                   2015          1110          njwo1 ngwo1      M         \nOL1232                   2015          1175          njwo2 ngwo2      F  87.5   \nOL1233                   2015          1115          njwo3 ngwo3      M         \nOL1234                   2015          1124          njwo4 ngwo4      F         \n...                       ...           ...                  ...    ...   ...   \nOL12389995               2015          1146  njwo89995 ngwo89995      F         \nOL12389996               2015          1115  njwo89996 ngwo89996      F  79.9   \nOL12389997               2015          1146  njwo89997 ngwo89997      M         \nOL12389998               2015          1175  njwo89998 ngwo89998      F  86.1   \nOL12389999               2015          1131  njwo89999 ngwo89999      M         \n\n                      510   515   520   525   530  ...   545   550   560  \\\nStudent Exam Number                                ...                     \nOL1230               94.5        41.5              ...  28.3               \nOL1231                     69.2  46.4  63.7        ...                     \nOL1232                                       68.8  ...        40.1         \nOL1233                                 77.2  91.3  ...  97.5               \nOL1234                     92.9  72.2  98.2        ...              79.9   \n...                   ...   ...   ...   ...   ...  ...   ...   ...   ...   \nOL12389995                                         ...  46.8        70.8   \nOL12389996                                         ...  38.4  42.7  56.9   \nOL12389997           82.1  77.8                    ...          73         \nOL12389998                   91  95.9  54.6  59.9  ...  43.3               \nOL12389999                 63.3  40.6          84  ...        75.4         \n\n                      565   570   575   580   585   590   595  \nStudent Exam Number                                            \nOL1230                           68.1                    45.4  \nOL1231               69.6  63.9                                \nOL1232               50.3              66.7  77.5              \nOL1233                                       94.8              \nOL1234                                                   98.6  \n...                   ...   ...   ...   ...   ...   ...   ...  \nOL12389995                         59  81.8              85.9  \nOL12389996             70        75.1    95  69.4              \nOL12389997                                   58.8              \nOL12389998                         41  79.7    88  92.9        \nOL12389999             83        75.9  45.2        91.6  63.9  \n\n[90000 rows x 22 columns]",
      "text/html": "<div>\n<style scoped>\n    .dataframe tbody tr th:only-of-type {\n        vertical-align: middle;\n    }\n\n    .dataframe tbody tr th {\n        vertical-align: top;\n    }\n\n    .dataframe thead th {\n        text-align: right;\n    }\n</style>\n<table border=\"1\" class=\"dataframe\">\n  <thead>\n    <tr style=\"text-align: right;\">\n      <th></th>\n      <th>Exam Year</th>\n      <th>Center Number</th>\n      <th>Student Names</th>\n      <th>Gender</th>\n      <th>505</th>\n      <th>510</th>\n      <th>515</th>\n      <th>520</th>\n      <th>525</th>\n      <th>530</th>\n      <th>...</th>\n      <th>545</th>\n      <th>550</th>\n      <th>560</th>\n      <th>565</th>\n      <th>570</th>\n      <th>575</th>\n      <th>580</th>\n      <th>585</th>\n      <th>590</th>\n      <th>595</th>\n    </tr>\n    <tr>\n      <th>Student Exam Number</th>\n      <th></th>\n      <th></th>\n      <th></th>\n      <th></th>\n      <th></th>\n      <th></th>\n      <th></th>\n      <th></th>\n      <th></th>\n      <th></th>\n      <th></th>\n      <th></th>\n      <th></th>\n      <th></th>\n      <th></th>\n      <th></th>\n      <th></th>\n      <th></th>\n      <th></th>\n      <th></th>\n      <th></th>\n    </tr>\n  </thead>\n  <tbody>\n    <tr>\n      <th>OL1230</th>\n      <td>2015</td>\n      <td>1110</td>\n      <td>njwo0 ngwo0</td>\n      <td>M</td>\n      <td>47.9</td>\n      <td>94.5</td>\n      <td></td>\n      <td>41.5</td>\n      <td></td>\n      <td></td>\n      <td>...</td>\n      <td>28.3</td>\n      <td></td>\n      <td></td>\n      <td></td>\n      <td></td>\n      <td>68.1</td>\n      <td></td>\n      <td></td>\n      <td></td>\n      <td>45.4</td>\n    </tr>\n    <tr>\n      <th>OL1231</th>\n      <td>2015</td>\n      <td>1110</td>\n      <td>njwo1 ngwo1</td>\n      <td>M</td>\n      <td></td>\n      <td></td>\n      <td>69.2</td>\n      <td>46.4</td>\n      <td>63.7</td>\n      <td></td>\n      <td>...</td>\n      <td></td>\n      <td></td>\n      <td></td>\n      <td>69.6</td>\n      <td>63.9</td>\n      <td></td>\n      <td></td>\n      <td></td>\n      <td></td>\n      <td></td>\n    </tr>\n    <tr>\n      <th>OL1232</th>\n      <td>2015</td>\n      <td>1175</td>\n      <td>njwo2 ngwo2</td>\n      <td>F</td>\n      <td>87.5</td>\n      <td></td>\n      <td></td>\n      <td></td>\n      <td></td>\n      <td>68.8</td>\n      <td>...</td>\n      <td></td>\n      <td>40.1</td>\n      <td></td>\n      <td>50.3</td>\n      <td></td>\n      <td></td>\n      <td>66.7</td>\n      <td>77.5</td>\n      <td></td>\n      <td></td>\n    </tr>\n    <tr>\n      <th>OL1233</th>\n      <td>2015</td>\n      <td>1115</td>\n      <td>njwo3 ngwo3</td>\n      <td>M</td>\n      <td></td>\n      <td></td>\n      <td></td>\n      <td></td>\n      <td>77.2</td>\n      <td>91.3</td>\n      <td>...</td>\n      <td>97.5</td>\n      <td></td>\n      <td></td>\n      <td></td>\n      <td></td>\n      <td></td>\n      <td></td>\n      <td>94.8</td>\n      <td></td>\n      <td></td>\n    </tr>\n    <tr>\n      <th>OL1234</th>\n      <td>2015</td>\n      <td>1124</td>\n      <td>njwo4 ngwo4</td>\n      <td>F</td>\n      <td></td>\n      <td></td>\n      <td>92.9</td>\n      <td>72.2</td>\n      <td>98.2</td>\n      <td></td>\n      <td>...</td>\n      <td></td>\n      <td></td>\n      <td>79.9</td>\n      <td></td>\n      <td></td>\n      <td></td>\n      <td></td>\n      <td></td>\n      <td></td>\n      <td>98.6</td>\n    </tr>\n    <tr>\n      <th>...</th>\n      <td>...</td>\n      <td>...</td>\n      <td>...</td>\n      <td>...</td>\n      <td>...</td>\n      <td>...</td>\n      <td>...</td>\n      <td>...</td>\n      <td>...</td>\n      <td>...</td>\n      <td>...</td>\n      <td>...</td>\n      <td>...</td>\n      <td>...</td>\n      <td>...</td>\n      <td>...</td>\n      <td>...</td>\n      <td>...</td>\n      <td>...</td>\n      <td>...</td>\n      <td>...</td>\n    </tr>\n    <tr>\n      <th>OL12389995</th>\n      <td>2015</td>\n      <td>1146</td>\n      <td>njwo89995 ngwo89995</td>\n      <td>F</td>\n      <td></td>\n      <td></td>\n      <td></td>\n      <td></td>\n      <td></td>\n      <td></td>\n      <td>...</td>\n      <td>46.8</td>\n      <td></td>\n      <td>70.8</td>\n      <td></td>\n      <td></td>\n      <td>59</td>\n      <td>81.8</td>\n      <td></td>\n      <td></td>\n      <td>85.9</td>\n    </tr>\n    <tr>\n      <th>OL12389996</th>\n      <td>2015</td>\n      <td>1115</td>\n      <td>njwo89996 ngwo89996</td>\n      <td>F</td>\n      <td>79.9</td>\n      <td></td>\n      <td></td>\n      <td></td>\n      <td></td>\n      <td></td>\n      <td>...</td>\n      <td>38.4</td>\n      <td>42.7</td>\n      <td>56.9</td>\n      <td>70</td>\n      <td></td>\n      <td>75.1</td>\n      <td>95</td>\n      <td>69.4</td>\n      <td></td>\n      <td></td>\n    </tr>\n    <tr>\n      <th>OL12389997</th>\n      <td>2015</td>\n      <td>1146</td>\n      <td>njwo89997 ngwo89997</td>\n      <td>M</td>\n      <td></td>\n      <td>82.1</td>\n      <td>77.8</td>\n      <td></td>\n      <td></td>\n      <td></td>\n      <td>...</td>\n      <td></td>\n      <td>73</td>\n      <td></td>\n      <td></td>\n      <td></td>\n      <td></td>\n      <td></td>\n      <td>58.8</td>\n      <td></td>\n      <td></td>\n    </tr>\n    <tr>\n      <th>OL12389998</th>\n      <td>2015</td>\n      <td>1175</td>\n      <td>njwo89998 ngwo89998</td>\n      <td>F</td>\n      <td>86.1</td>\n      <td></td>\n      <td>91</td>\n      <td>95.9</td>\n      <td>54.6</td>\n      <td>59.9</td>\n      <td>...</td>\n      <td>43.3</td>\n      <td></td>\n      <td></td>\n      <td></td>\n      <td></td>\n      <td>41</td>\n      <td>79.7</td>\n      <td>88</td>\n      <td>92.9</td>\n      <td></td>\n    </tr>\n    <tr>\n      <th>OL12389999</th>\n      <td>2015</td>\n      <td>1131</td>\n      <td>njwo89999 ngwo89999</td>\n      <td>M</td>\n      <td></td>\n      <td></td>\n      <td>63.3</td>\n      <td>40.6</td>\n      <td></td>\n      <td>84</td>\n      <td>...</td>\n      <td></td>\n      <td>75.4</td>\n      <td></td>\n      <td>83</td>\n      <td></td>\n      <td>75.9</td>\n      <td>45.2</td>\n      <td></td>\n      <td>91.6</td>\n      <td>63.9</td>\n    </tr>\n  </tbody>\n</table>\n<p>90000 rows × 22 columns</p>\n</div>"
     },
     "metadata": {},
     "output_type": "execute_result",
     "execution_count": 64
    }
   ],
   "source": [
    "# making new data frame with NaN values dropped \n",
    "print(\"Drop NaN Values from DataFrame\")\n",
    "df3 =df2\n",
    "df3 = df3.fillna(\" \") \n",
    "df3"
   ],
   "metadata": {
    "collapsed": false,
    "pycharm": {
     "name": "#%%\n",
     "is_executing": false
    }
   }
  },
  {
   "cell_type": "code",
   "execution_count": 72,
   "outputs": [],
   "source": [
    "# Export the DataFrame (df3) to excel for visualization with Tableau.\n",
    "import xlsxwriter\n",
    "writer = pd.ExcelWriter('C:\\\\Users\\\\akoko\\\\Desktop\\\\Results_Data_df3.xlsx', engine='xlsxwriter')\n",
    "df3.to_excel(writer, sheet_name='Sheet1')\n",
    "writer.save() "
   ],
   "metadata": {
    "collapsed": false,
    "pycharm": {
     "name": "#%%\n",
     "is_executing": false
    }
   }
  },
  {
   "cell_type": "code",
   "execution_count": 6,
   "outputs": [],
   "source": [
    "# Create a new DataFrame and convert scores to letter grades (505 ----> 505G)\n",
    "\n",
    "df4 = pd.DataFrame()\n",
    "newcols = ['505G', '510G','515G', '520G', '525G', '530G','535G', '540G',\n",
    "        '545G', '550G','560G', '565G', '570G', '575G','580G', '585G','590G', '595G']\n",
    "\n",
    "cols = ['505', '510','515', '520', '525', '530','535', '540',\n",
    "        '545', '550','560', '565', '570', '575','580', '585','590', '595']\n",
    "i = 0\n",
    "while i < 18:\n",
    "    df4[newcols[i]] = df2[cols[i]].apply(assign_grade)\n",
    "    i += 1\n",
    "\n",
    "# Add the 'Exam Year', 'Centre Number', 'Student Names' and 'Gender' to  DataFrame\n",
    "df4['Exam Year'] = df2['Exam Year']\n",
    "df4['Center Number'] = df2['Center Number']\n",
    "df4['Student Names'] = df2['Student Names']\n",
    "df4['Gender'] = df2['Gender']\n"
   ],
   "metadata": {
    "collapsed": false,
    "pycharm": {
     "name": "#%%\n",
     "is_executing": false
    }
   }
  },
  {
   "cell_type": "code",
   "execution_count": 7,
   "outputs": [],
   "source": [
    "# Computing total number of subjects registered by each candidate\n",
    "def compute_number_of_subjects_registered(list_of_grades):\n",
    "    total_number_of_registered = 0\n",
    "    for subjects_registered in list_of_grades:\n",
    "        if subjects_registered == GRADE_A or subjects_registered ==\\\n",
    "                GRADE_B or subjects_registered == GRADE_C or \\\n",
    "                subjects_registered == GRADE_D or subjects_registered == GRADE_U:\n",
    "                total_number_of_registered += 1\n",
    "    return total_number_of_registered\n",
    "\n",
    "# Compute total number of subjects passed by each candidate\n",
    "def compute_total_subjects_passed(list_of_grades):\n",
    "    total_subjects_passed = 0\n",
    "    for letter_grade in list_of_grades:     \n",
    "        if letter_grade == GRADE_A or letter_grade == GRADE_B or letter_grade == GRADE_C:\n",
    "            total_subjects_passed += 1\n",
    "    return total_subjects_passed\n",
    "\n",
    "# compute points scored from pass grades    \n",
    "def compute_points(letter_grade):\n",
    "    points = 0\n",
    "    if letter_grade == GRADE_A:\n",
    "        points = 3\n",
    "    if letter_grade == GRADE_B:\n",
    "        points = 2\n",
    "    if letter_grade == GRADE_C:\n",
    "        points = 1\n",
    "    return points\n",
    "    \n",
    "# Computing total points score by each candidate\n",
    "def compute_total_points(list_of_grades):\n",
    "    total_points = 0\n",
    "    for letter_grade in list_of_grades:\n",
    "        points = compute_points(letter_grade)\n",
    "        total_points += points\n",
    "    return total_points"
   ],
   "metadata": {
    "collapsed": false,
    "pycharm": {
     "name": "#%%\n",
     "is_executing": false
    }
   }
  },
  {
   "cell_type": "code",
   "execution_count": 8,
   "outputs": [
    {
     "name": "stdout",
     "text": [
      "OVERALL DATAFRAME - df_main2015\n"
     ],
     "output_type": "stream"
    }
   ],
   "source": [
    "# 1. CREATE OVERALL DATAFRAME (df_main2015) \n",
    "print(\"OVERALL DATAFRAME - df_main2015\")\n",
    "points_list = []\n",
    "grade_list = []\n",
    "registered_list = []\n",
    "list_of_student_exam_no = list(df_raw['Student Exam Number'])\n",
    "for exam_no in list_of_student_exam_no:\n",
    "    grades = list(df4.loc[exam_no, :])\n",
    "    subjects_passed = compute_total_subjects_passed(grades)\n",
    "    student_total_points = compute_total_points(grades)\n",
    "    subjects_registered = compute_number_of_subjects_registered(grades)\n",
    "    points_list.append(student_total_points)\n",
    "    grade_list.append(subjects_passed)\n",
    "    registered_list.append(subjects_registered)\n",
    "        \n",
    "df4['Points'] = points_list\n",
    "df4['Subjects Passed'] = grade_list\n",
    "df4['Subjects Registered'] = registered_list"
   ],
   "metadata": {
    "collapsed": false,
    "pycharm": {
     "name": "#%%\n",
     "is_executing": false
    }
   }
  },
  {
   "cell_type": "code",
   "execution_count": 9,
   "outputs": [
    {
     "name": "stdout",
     "text": [
      "new main Df\n"
     ],
     "output_type": "stream"
    },
    {
     "data": {
      "text/plain": "                    Student Exam No Center Number Exam Year  \\\nStudent Exam Number                                           \nOL1230                       OL1230          1110      2015   \nOL1231                       OL1231          1110      2015   \nOL1232                       OL1232          1175      2015   \nOL1233                       OL1233          1115      2015   \nOL1234                       OL1234          1124      2015   \n...                             ...           ...       ...   \nOL12389995               OL12389995          1146      2015   \nOL12389996               OL12389996          1115      2015   \nOL12389997               OL12389997          1146      2015   \nOL12389998               OL12389998          1175      2015   \nOL12389999               OL12389999          1131      2015   \n\n                           Student Names Gender 505G 510G 515G 520G 525G  ...  \\\nStudent Exam Number                                                       ...   \nOL1230                       njwo0 ngwo0      M    D    A         D       ...   \nOL1231                       njwo1 ngwo1      M              B    D    C  ...   \nOL1232                       njwo2 ngwo2      F    A                      ...   \nOL1233                       njwo3 ngwo3      M                        B  ...   \nOL1234                       njwo4 ngwo4      F              A    B    A  ...   \n...                                  ...    ...  ...  ...  ...  ...  ...  ...   \nOL12389995           njwo89995 ngwo89995      F                           ...   \nOL12389996           njwo89996 ngwo89996      F    B                      ...   \nOL12389997           njwo89997 ngwo89997      M         A    B            ...   \nOL12389998           njwo89998 ngwo89998      F    A         A    A    C  ...   \nOL12389999           njwo89999 ngwo89999      M              C    D       ...   \n\n                    565G 570G 575G 580G 585G 590G 595G Subjects Registered  \\\nStudent Exam Number                                                          \nOL1230                           B                   D                   7   \nOL1231                 B    C                                            5   \nOL1232                 C              B    B                             6   \nOL1233                                     A                             5   \nOL1234                                               A                   5   \n...                  ...  ...  ...  ...  ...  ...  ...                 ...   \nOL12389995                       C    A              A                   6   \nOL12389996             B         B    A    B                            10   \nOL12389997                                 C                             5   \nOL12389998                       D    B    A    A                       10   \nOL12389999             A         B    D         A    C                  10   \n\n                    Subjects Passed Points  \nStudent Exam Number                         \nOL1230                            3      6  \nOL1231                            4      6  \nOL1232                            5     10  \nOL1233                            5     13  \nOL1234                            5     13  \n...                             ...    ...  \nOL12389995                        5     12  \nOL12389996                        7     14  \nOL12389997                        5     11  \nOL12389998                        8     19  \nOL12389999                        8     16  \n\n[90000 rows x 26 columns]",
      "text/html": "<div>\n<style scoped>\n    .dataframe tbody tr th:only-of-type {\n        vertical-align: middle;\n    }\n\n    .dataframe tbody tr th {\n        vertical-align: top;\n    }\n\n    .dataframe thead th {\n        text-align: right;\n    }\n</style>\n<table border=\"1\" class=\"dataframe\">\n  <thead>\n    <tr style=\"text-align: right;\">\n      <th></th>\n      <th>Student Exam No</th>\n      <th>Center Number</th>\n      <th>Exam Year</th>\n      <th>Student Names</th>\n      <th>Gender</th>\n      <th>505G</th>\n      <th>510G</th>\n      <th>515G</th>\n      <th>520G</th>\n      <th>525G</th>\n      <th>...</th>\n      <th>565G</th>\n      <th>570G</th>\n      <th>575G</th>\n      <th>580G</th>\n      <th>585G</th>\n      <th>590G</th>\n      <th>595G</th>\n      <th>Subjects Registered</th>\n      <th>Subjects Passed</th>\n      <th>Points</th>\n    </tr>\n    <tr>\n      <th>Student Exam Number</th>\n      <th></th>\n      <th></th>\n      <th></th>\n      <th></th>\n      <th></th>\n      <th></th>\n      <th></th>\n      <th></th>\n      <th></th>\n      <th></th>\n      <th></th>\n      <th></th>\n      <th></th>\n      <th></th>\n      <th></th>\n      <th></th>\n      <th></th>\n      <th></th>\n      <th></th>\n      <th></th>\n      <th></th>\n    </tr>\n  </thead>\n  <tbody>\n    <tr>\n      <th>OL1230</th>\n      <td>OL1230</td>\n      <td>1110</td>\n      <td>2015</td>\n      <td>njwo0 ngwo0</td>\n      <td>M</td>\n      <td>D</td>\n      <td>A</td>\n      <td></td>\n      <td>D</td>\n      <td></td>\n      <td>...</td>\n      <td></td>\n      <td></td>\n      <td>B</td>\n      <td></td>\n      <td></td>\n      <td></td>\n      <td>D</td>\n      <td>7</td>\n      <td>3</td>\n      <td>6</td>\n    </tr>\n    <tr>\n      <th>OL1231</th>\n      <td>OL1231</td>\n      <td>1110</td>\n      <td>2015</td>\n      <td>njwo1 ngwo1</td>\n      <td>M</td>\n      <td></td>\n      <td></td>\n      <td>B</td>\n      <td>D</td>\n      <td>C</td>\n      <td>...</td>\n      <td>B</td>\n      <td>C</td>\n      <td></td>\n      <td></td>\n      <td></td>\n      <td></td>\n      <td></td>\n      <td>5</td>\n      <td>4</td>\n      <td>6</td>\n    </tr>\n    <tr>\n      <th>OL1232</th>\n      <td>OL1232</td>\n      <td>1175</td>\n      <td>2015</td>\n      <td>njwo2 ngwo2</td>\n      <td>F</td>\n      <td>A</td>\n      <td></td>\n      <td></td>\n      <td></td>\n      <td></td>\n      <td>...</td>\n      <td>C</td>\n      <td></td>\n      <td></td>\n      <td>B</td>\n      <td>B</td>\n      <td></td>\n      <td></td>\n      <td>6</td>\n      <td>5</td>\n      <td>10</td>\n    </tr>\n    <tr>\n      <th>OL1233</th>\n      <td>OL1233</td>\n      <td>1115</td>\n      <td>2015</td>\n      <td>njwo3 ngwo3</td>\n      <td>M</td>\n      <td></td>\n      <td></td>\n      <td></td>\n      <td></td>\n      <td>B</td>\n      <td>...</td>\n      <td></td>\n      <td></td>\n      <td></td>\n      <td></td>\n      <td>A</td>\n      <td></td>\n      <td></td>\n      <td>5</td>\n      <td>5</td>\n      <td>13</td>\n    </tr>\n    <tr>\n      <th>OL1234</th>\n      <td>OL1234</td>\n      <td>1124</td>\n      <td>2015</td>\n      <td>njwo4 ngwo4</td>\n      <td>F</td>\n      <td></td>\n      <td></td>\n      <td>A</td>\n      <td>B</td>\n      <td>A</td>\n      <td>...</td>\n      <td></td>\n      <td></td>\n      <td></td>\n      <td></td>\n      <td></td>\n      <td></td>\n      <td>A</td>\n      <td>5</td>\n      <td>5</td>\n      <td>13</td>\n    </tr>\n    <tr>\n      <th>...</th>\n      <td>...</td>\n      <td>...</td>\n      <td>...</td>\n      <td>...</td>\n      <td>...</td>\n      <td>...</td>\n      <td>...</td>\n      <td>...</td>\n      <td>...</td>\n      <td>...</td>\n      <td>...</td>\n      <td>...</td>\n      <td>...</td>\n      <td>...</td>\n      <td>...</td>\n      <td>...</td>\n      <td>...</td>\n      <td>...</td>\n      <td>...</td>\n      <td>...</td>\n      <td>...</td>\n    </tr>\n    <tr>\n      <th>OL12389995</th>\n      <td>OL12389995</td>\n      <td>1146</td>\n      <td>2015</td>\n      <td>njwo89995 ngwo89995</td>\n      <td>F</td>\n      <td></td>\n      <td></td>\n      <td></td>\n      <td></td>\n      <td></td>\n      <td>...</td>\n      <td></td>\n      <td></td>\n      <td>C</td>\n      <td>A</td>\n      <td></td>\n      <td></td>\n      <td>A</td>\n      <td>6</td>\n      <td>5</td>\n      <td>12</td>\n    </tr>\n    <tr>\n      <th>OL12389996</th>\n      <td>OL12389996</td>\n      <td>1115</td>\n      <td>2015</td>\n      <td>njwo89996 ngwo89996</td>\n      <td>F</td>\n      <td>B</td>\n      <td></td>\n      <td></td>\n      <td></td>\n      <td></td>\n      <td>...</td>\n      <td>B</td>\n      <td></td>\n      <td>B</td>\n      <td>A</td>\n      <td>B</td>\n      <td></td>\n      <td></td>\n      <td>10</td>\n      <td>7</td>\n      <td>14</td>\n    </tr>\n    <tr>\n      <th>OL12389997</th>\n      <td>OL12389997</td>\n      <td>1146</td>\n      <td>2015</td>\n      <td>njwo89997 ngwo89997</td>\n      <td>M</td>\n      <td></td>\n      <td>A</td>\n      <td>B</td>\n      <td></td>\n      <td></td>\n      <td>...</td>\n      <td></td>\n      <td></td>\n      <td></td>\n      <td></td>\n      <td>C</td>\n      <td></td>\n      <td></td>\n      <td>5</td>\n      <td>5</td>\n      <td>11</td>\n    </tr>\n    <tr>\n      <th>OL12389998</th>\n      <td>OL12389998</td>\n      <td>1175</td>\n      <td>2015</td>\n      <td>njwo89998 ngwo89998</td>\n      <td>F</td>\n      <td>A</td>\n      <td></td>\n      <td>A</td>\n      <td>A</td>\n      <td>C</td>\n      <td>...</td>\n      <td></td>\n      <td></td>\n      <td>D</td>\n      <td>B</td>\n      <td>A</td>\n      <td>A</td>\n      <td></td>\n      <td>10</td>\n      <td>8</td>\n      <td>19</td>\n    </tr>\n    <tr>\n      <th>OL12389999</th>\n      <td>OL12389999</td>\n      <td>1131</td>\n      <td>2015</td>\n      <td>njwo89999 ngwo89999</td>\n      <td>M</td>\n      <td></td>\n      <td></td>\n      <td>C</td>\n      <td>D</td>\n      <td></td>\n      <td>...</td>\n      <td>A</td>\n      <td></td>\n      <td>B</td>\n      <td>D</td>\n      <td></td>\n      <td>A</td>\n      <td>C</td>\n      <td>10</td>\n      <td>8</td>\n      <td>16</td>\n    </tr>\n  </tbody>\n</table>\n<p>90000 rows × 26 columns</p>\n</div>"
     },
     "metadata": {},
     "output_type": "execute_result",
     "execution_count": 9
    }
   ],
   "source": [
    "# Rearrange the columns to have a new DataFrame and name it \"df_main2015\"\n",
    "print(\"new main Df\")\n",
    "\n",
    "df4[\"Student Exam No\"] = list_of_student_exam_no\n",
    "\n",
    "df_main2015 = df4[['Student Exam No','Center Number','Exam Year','Student Names', 'Gender', \n",
    "               '505G', '510G','515G','520G', '525G', '530G','535G', '540G','545G', '550G',\n",
    "               '560G', '565G', '570G', '575G','580G', '585G','590G', '595G',\n",
    "               'Subjects Registered','Subjects Passed', 'Points']]\n",
    "df_main2015"
   ],
   "metadata": {
    "collapsed": false,
    "pycharm": {
     "name": "#%%\n",
     "is_executing": false
    }
   }
  },
  {
   "cell_type": "code",
   "execution_count": 10,
   "outputs": [
    {
     "name": "stdout",
     "text": [
      "Sorting by no of points scored\n"
     ],
     "output_type": "stream"
    },
    {
     "data": {
      "text/plain": "                    Student Exam No Center Number Exam Year  \\\nStudent Exam Number                                           \nOL12369572               OL12369572          1131      2015   \nOL12349265               OL12349265          1110      2015   \nOL12381138               OL12381138          1176      2015   \nOL12350251               OL12350251          1115      2015   \nOL12347960               OL12347960          1124      2015   \nOL12336195               OL12336195          1146      2015   \nOL12326868               OL12326868          1124      2015   \nOL12349228               OL12349228          1131      2015   \nOL12372064               OL12372064          1110      2015   \nOL12319122               OL12319122          1110      2015   \n\n                           Student Names Gender 505G 510G 515G 520G 525G  ...  \\\nStudent Exam Number                                                       ...   \nOL12369572           njwo69572 ngwo69572      F    A    A    A         B  ...   \nOL12349265           njwo49265 ngwo49265      F    A    A         B       ...   \nOL12381138           njwo81138 ngwo81138      F         A    A         A  ...   \nOL12350251           njwo50251 ngwo50251      F    A                      ...   \nOL12347960           njwo47960 ngwo47960      M    D         A    A       ...   \nOL12336195           njwo36195 ngwo36195      M         A    A         A  ...   \nOL12326868           njwo26868 ngwo26868      F    A    B    B            ...   \nOL12349228           njwo49228 ngwo49228      F         A    A         A  ...   \nOL12372064           njwo72064 ngwo72064      F    A    B    C         B  ...   \nOL12319122           njwo19122 ngwo19122      F    B    A    A            ...   \n\n                    565G 570G 575G 580G 585G 590G 595G Subjects Registered  \\\nStudent Exam Number                                                          \nOL12369572                            A         A                       11   \nOL12349265             A    A    B    A    A    B                       11   \nOL12381138                  A    A    A                                 11   \nOL12350251             A    A         A    A    C                       11   \nOL12347960             A         A    A         A    A                  11   \nOL12336195                       A    B              B                  11   \nOL12326868             A    A    B         A         B                  11   \nOL12349228                  A    A    A         A    A                  11   \nOL12372064             A         A                   A                  11   \nOL12319122                  A    B    A    A         A                  11   \n\n                    Subjects Passed Points  \nStudent Exam Number                         \nOL12369572                       11     31  \nOL12349265                       11     30  \nOL12381138                       11     30  \nOL12350251                       11     30  \nOL12347960                       10     29  \nOL12336195                       11     29  \nOL12326868                       11     29  \nOL12349228                       11     29  \nOL12372064                       11     29  \nOL12319122                       11     29  \n\n[10 rows x 26 columns]",
      "text/html": "<div>\n<style scoped>\n    .dataframe tbody tr th:only-of-type {\n        vertical-align: middle;\n    }\n\n    .dataframe tbody tr th {\n        vertical-align: top;\n    }\n\n    .dataframe thead th {\n        text-align: right;\n    }\n</style>\n<table border=\"1\" class=\"dataframe\">\n  <thead>\n    <tr style=\"text-align: right;\">\n      <th></th>\n      <th>Student Exam No</th>\n      <th>Center Number</th>\n      <th>Exam Year</th>\n      <th>Student Names</th>\n      <th>Gender</th>\n      <th>505G</th>\n      <th>510G</th>\n      <th>515G</th>\n      <th>520G</th>\n      <th>525G</th>\n      <th>...</th>\n      <th>565G</th>\n      <th>570G</th>\n      <th>575G</th>\n      <th>580G</th>\n      <th>585G</th>\n      <th>590G</th>\n      <th>595G</th>\n      <th>Subjects Registered</th>\n      <th>Subjects Passed</th>\n      <th>Points</th>\n    </tr>\n    <tr>\n      <th>Student Exam Number</th>\n      <th></th>\n      <th></th>\n      <th></th>\n      <th></th>\n      <th></th>\n      <th></th>\n      <th></th>\n      <th></th>\n      <th></th>\n      <th></th>\n      <th></th>\n      <th></th>\n      <th></th>\n      <th></th>\n      <th></th>\n      <th></th>\n      <th></th>\n      <th></th>\n      <th></th>\n      <th></th>\n      <th></th>\n    </tr>\n  </thead>\n  <tbody>\n    <tr>\n      <th>OL12369572</th>\n      <td>OL12369572</td>\n      <td>1131</td>\n      <td>2015</td>\n      <td>njwo69572 ngwo69572</td>\n      <td>F</td>\n      <td>A</td>\n      <td>A</td>\n      <td>A</td>\n      <td></td>\n      <td>B</td>\n      <td>...</td>\n      <td></td>\n      <td></td>\n      <td></td>\n      <td>A</td>\n      <td></td>\n      <td>A</td>\n      <td></td>\n      <td>11</td>\n      <td>11</td>\n      <td>31</td>\n    </tr>\n    <tr>\n      <th>OL12349265</th>\n      <td>OL12349265</td>\n      <td>1110</td>\n      <td>2015</td>\n      <td>njwo49265 ngwo49265</td>\n      <td>F</td>\n      <td>A</td>\n      <td>A</td>\n      <td></td>\n      <td>B</td>\n      <td></td>\n      <td>...</td>\n      <td>A</td>\n      <td>A</td>\n      <td>B</td>\n      <td>A</td>\n      <td>A</td>\n      <td>B</td>\n      <td></td>\n      <td>11</td>\n      <td>11</td>\n      <td>30</td>\n    </tr>\n    <tr>\n      <th>OL12381138</th>\n      <td>OL12381138</td>\n      <td>1176</td>\n      <td>2015</td>\n      <td>njwo81138 ngwo81138</td>\n      <td>F</td>\n      <td></td>\n      <td>A</td>\n      <td>A</td>\n      <td></td>\n      <td>A</td>\n      <td>...</td>\n      <td></td>\n      <td>A</td>\n      <td>A</td>\n      <td>A</td>\n      <td></td>\n      <td></td>\n      <td></td>\n      <td>11</td>\n      <td>11</td>\n      <td>30</td>\n    </tr>\n    <tr>\n      <th>OL12350251</th>\n      <td>OL12350251</td>\n      <td>1115</td>\n      <td>2015</td>\n      <td>njwo50251 ngwo50251</td>\n      <td>F</td>\n      <td>A</td>\n      <td></td>\n      <td></td>\n      <td></td>\n      <td></td>\n      <td>...</td>\n      <td>A</td>\n      <td>A</td>\n      <td></td>\n      <td>A</td>\n      <td>A</td>\n      <td>C</td>\n      <td></td>\n      <td>11</td>\n      <td>11</td>\n      <td>30</td>\n    </tr>\n    <tr>\n      <th>OL12347960</th>\n      <td>OL12347960</td>\n      <td>1124</td>\n      <td>2015</td>\n      <td>njwo47960 ngwo47960</td>\n      <td>M</td>\n      <td>D</td>\n      <td></td>\n      <td>A</td>\n      <td>A</td>\n      <td></td>\n      <td>...</td>\n      <td>A</td>\n      <td></td>\n      <td>A</td>\n      <td>A</td>\n      <td></td>\n      <td>A</td>\n      <td>A</td>\n      <td>11</td>\n      <td>10</td>\n      <td>29</td>\n    </tr>\n    <tr>\n      <th>OL12336195</th>\n      <td>OL12336195</td>\n      <td>1146</td>\n      <td>2015</td>\n      <td>njwo36195 ngwo36195</td>\n      <td>M</td>\n      <td></td>\n      <td>A</td>\n      <td>A</td>\n      <td></td>\n      <td>A</td>\n      <td>...</td>\n      <td></td>\n      <td></td>\n      <td>A</td>\n      <td>B</td>\n      <td></td>\n      <td></td>\n      <td>B</td>\n      <td>11</td>\n      <td>11</td>\n      <td>29</td>\n    </tr>\n    <tr>\n      <th>OL12326868</th>\n      <td>OL12326868</td>\n      <td>1124</td>\n      <td>2015</td>\n      <td>njwo26868 ngwo26868</td>\n      <td>F</td>\n      <td>A</td>\n      <td>B</td>\n      <td>B</td>\n      <td></td>\n      <td></td>\n      <td>...</td>\n      <td>A</td>\n      <td>A</td>\n      <td>B</td>\n      <td></td>\n      <td>A</td>\n      <td></td>\n      <td>B</td>\n      <td>11</td>\n      <td>11</td>\n      <td>29</td>\n    </tr>\n    <tr>\n      <th>OL12349228</th>\n      <td>OL12349228</td>\n      <td>1131</td>\n      <td>2015</td>\n      <td>njwo49228 ngwo49228</td>\n      <td>F</td>\n      <td></td>\n      <td>A</td>\n      <td>A</td>\n      <td></td>\n      <td>A</td>\n      <td>...</td>\n      <td></td>\n      <td>A</td>\n      <td>A</td>\n      <td>A</td>\n      <td></td>\n      <td>A</td>\n      <td>A</td>\n      <td>11</td>\n      <td>11</td>\n      <td>29</td>\n    </tr>\n    <tr>\n      <th>OL12372064</th>\n      <td>OL12372064</td>\n      <td>1110</td>\n      <td>2015</td>\n      <td>njwo72064 ngwo72064</td>\n      <td>F</td>\n      <td>A</td>\n      <td>B</td>\n      <td>C</td>\n      <td></td>\n      <td>B</td>\n      <td>...</td>\n      <td>A</td>\n      <td></td>\n      <td>A</td>\n      <td></td>\n      <td></td>\n      <td></td>\n      <td>A</td>\n      <td>11</td>\n      <td>11</td>\n      <td>29</td>\n    </tr>\n    <tr>\n      <th>OL12319122</th>\n      <td>OL12319122</td>\n      <td>1110</td>\n      <td>2015</td>\n      <td>njwo19122 ngwo19122</td>\n      <td>F</td>\n      <td>B</td>\n      <td>A</td>\n      <td>A</td>\n      <td></td>\n      <td></td>\n      <td>...</td>\n      <td></td>\n      <td>A</td>\n      <td>B</td>\n      <td>A</td>\n      <td>A</td>\n      <td></td>\n      <td>A</td>\n      <td>11</td>\n      <td>11</td>\n      <td>29</td>\n    </tr>\n  </tbody>\n</table>\n<p>10 rows × 26 columns</p>\n</div>"
     },
     "metadata": {},
     "output_type": "execute_result",
     "execution_count": 10
    }
   ],
   "source": [
    "# 2. OTHER DATAFRAMES-BY POINTS SCORED, SUBJECTS PASSED\n",
    "# Sort according to points scored\n",
    "print(\"Sorting by no of points scored\")\n",
    "cols = ['Points']\n",
    "df_points = df_main2015.sort_values(cols, ascending=False)\n",
    "df_points.head(10)"
   ],
   "metadata": {
    "collapsed": false,
    "pycharm": {
     "name": "#%%\n",
     "is_executing": false
    }
   }
  },
  {
   "cell_type": "code",
   "execution_count": 11,
   "outputs": [],
   "source": [
    "# Sort according to number of subjects passed\n",
    "#print(\"Sorting by no of Subjects passed\")\n",
    "#cols = ['Subjects Passed']\n",
    "#df_points = df_main2015.sort_values(cols, ascending=False)\n",
    "#df_points"
   ],
   "metadata": {
    "collapsed": false,
    "pycharm": {
     "name": "#%%\n",
     "is_executing": false
    }
   }
  },
  {
   "cell_type": "code",
   "execution_count": 12,
   "outputs": [],
   "source": [
    "# Sort by Exam Year\n",
    "#print(\"Sort by Exam Year\")\n",
    "#cols = ['Exam Year']\n",
    "#df_points = df_main2015.sort_values(cols, ascending=True)\n",
    "#df_points"
   ],
   "metadata": {
    "collapsed": false,
    "pycharm": {
     "name": "#%%\n",
     "is_executing": false
    }
   }
  },
  {
   "cell_type": "code",
   "execution_count": 13,
   "outputs": [],
   "source": [
    "# Count how many students registered for each year\n",
    "#print(\"Count number Registered by Exam Year\")\n",
    "#df_count_by_year = df_main2015['Exam Year'].value_counts()\n",
    "#df_count_by_year"
   ],
   "metadata": {
    "collapsed": false,
    "pycharm": {
     "name": "#%%\n",
     "is_executing": false
    }
   }
  },
  {
   "cell_type": "code",
   "execution_count": 14,
   "outputs": [],
   "source": [
    "# 3. DATAFRAME FOR EACH EXAMINATION YEAR 2015\n",
    "#DataFrame for Examination Year 2015 (df_2015)\n",
    "#print(\"Print DataFrames for Year 2015\")\n",
    "#df_main2015 = df_main2015.loc[df_main2015['Exam Year'] == '2015']\n",
    "#df_main2015"
   ],
   "metadata": {
    "collapsed": false,
    "pycharm": {
     "name": "#%%\n",
     "is_executing": false
    }
   }
  },
  {
   "cell_type": "code",
   "execution_count": 15,
   "outputs": [
    {
     "name": "stdout",
     "text": [
      "Statistics of Number of Males and females for entire exams - 2015\n",
      "{'Male': 44939, 'Female': 45061}\n"
     ],
     "output_type": "stream"
    }
   ],
   "source": [
    "# 4. COMPUTING OVERALL STATISTICS\n",
    "# 4.1 Statistics by Gender\n",
    "# Compute statistics of Males and females for entire exams for 2015)\n",
    "print(\"Statistics of Number of Males and females for entire exams - 2015\")\n",
    "def total_male_female(dataframe):\n",
    "    return {\"Male\":len(dataframe[dataframe['Gender'] == 'M']), \n",
    "            \"Female\":len(dataframe[dataframe['Gender'] == 'F'])}\n",
    "\n",
    "print(total_male_female(df_main2015))"
   ],
   "metadata": {
    "collapsed": false,
    "pycharm": {
     "name": "#%%\n",
     "is_executing": false
    }
   }
  },
  {
   "cell_type": "code",
   "execution_count": 16,
   "outputs": [
    {
     "name": "stdout",
     "text": [
      "Statistics of Number of passes and failures for entire exams - 2015\n",
      "{'Passed': 82142, 'Failed': 7858}\n"
     ],
     "output_type": "stream"
    }
   ],
   "source": [
    "# 4.2 Compute statistics of number of passes and failures for entire exams - 2015\n",
    "print(\"Statistics of Number of passes and failures for entire exams - 2015\")\n",
    "def pass_fail(dataframe):\n",
    "    return {\"Passed\":len(dataframe[dataframe['Subjects Passed'] >= 4]), \n",
    "            \"Failed\":len(dataframe[dataframe['Subjects Passed'] < 4 ])}\n",
    "print(pass_fail(df_main2015))\n",
    "  "
   ],
   "metadata": {
    "collapsed": false,
    "pycharm": {
     "name": "#%%\n",
     "is_executing": false
    }
   }
  },
  {
   "cell_type": "code",
   "execution_count": 17,
   "outputs": [
    {
     "name": "stdout",
     "text": [
      "Statistics for 2015\n",
      "90000\n"
     ],
     "output_type": "stream"
    },
    {
     "data": {
      "text/plain": "91.27"
     },
     "metadata": {},
     "output_type": "execute_result",
     "execution_count": 17
    }
   ],
   "source": [
    "# 5. COMPUTING STATISTICS BY EXAM YEAR\n",
    "# Computer number passed and percentage passed in 4 or more subjects for 2015 Exam Year\n",
    "print(\"Statistics for 2015\")\n",
    "total_passed_2015 = np.sum(df_main2015['Subjects Passed'] >= 4)\n",
    "total_registered_2015 = np.sum(df_main2015['Subjects Passed'] >= 0 )\n",
    "print(total_registered_2015)\n",
    "percent_passed_2015 = round((total_passed_2015)/(total_registered_2015) * 100, 2)\n",
    "percent_passed_2015\n"
   ],
   "metadata": {
    "collapsed": false,
    "pycharm": {
     "name": "#%%\n",
     "is_executing": false
    }
   }
  },
  {
   "cell_type": "code",
   "execution_count": 18,
   "outputs": [],
   "source": [
    "# 6 COMPUTING STATISTICS BY SUBJECT \n",
    "# Compute the statistics of performance in each subject for 2015 Exam Year\n",
    "def build_subject_stats_dataframe_by_year(panda_for_given_year):\n",
    "    statistical_pd = pd.DataFrame()\n",
    "    statistical_pd['Stats'] = [\"Number Registered\", \"Number Passed\", \"% Passed\", \"A Count\",\n",
    "                               \"B Count\", \"C Count\", \"D Count\", \"U Count\"]\n",
    "    A505 = int(np.sum(panda_for_given_year['505G'] == 'A'))\n",
    "    B505 = int(np.sum(panda_for_given_year['505G'] == 'B'))\n",
    "    C505 = int(np.sum(panda_for_given_year['505G'] == 'C'))\n",
    "    D505 = int(np.sum(panda_for_given_year['505G'] == 'D'))\n",
    "    U505 = int(np.sum(panda_for_given_year['505G'] == 'U'))\n",
    "    total_registered_505 = int(A505) + int(B505) + int(C505) + int(D505) + int(U505)\n",
    "    total_passed_505 = int(A505) + int(B505) + int(C505)\n",
    "    percent_passed_505 = round((total_passed_505/total_registered_505)*100,2)\n",
    "    statistical_pd['505'] = [total_registered_505, total_passed_505, percent_passed_505,int(A505),B505,C505,D505,U505]\n",
    "     \n",
    "    A510 = int(np.sum(panda_for_given_year['510G'] == 'A'))\n",
    "    B510 = int(np.sum(panda_for_given_year['510G'] == 'B'))\n",
    "    C510 = int(np.sum(panda_for_given_year['510G'] == 'C'))\n",
    "    D510 = int(np.sum(panda_for_given_year['510G'] == 'D'))\n",
    "    U510 = int(np.sum(panda_for_given_year['510G'] == 'U'))\n",
    "    total_registered_510 = A510 + B510 + C510 + D510 + U510\n",
    "    total_passed_510 = A510 + B510 + C510\n",
    "    percent_passed_510 = round((total_passed_510/total_registered_510)*100,2)\n",
    "    statistical_pd['510'] = [total_registered_510, total_passed_510, percent_passed_510,A510,B510,C510,D510,U510]\n",
    "     \n",
    "    A515 = int(np.sum(panda_for_given_year['515G'] == 'A'))\n",
    "    B515 = int(np.sum(panda_for_given_year['515G'] == 'B'))\n",
    "    C515 = int(np.sum(panda_for_given_year['515G'] == 'C'))\n",
    "    D515 = int(np.sum(panda_for_given_year['515G'] == 'D'))\n",
    "    U515 = int(np.sum(panda_for_given_year['515G'] == 'U'))\n",
    "    total_registered_515 = A515 + B515 + C515 + D515 + U515\n",
    "    total_passed_515 = A515 + B515 + C515\n",
    "    percent_passed_515 = round((total_passed_515/total_registered_515)*100,2)\n",
    "    statistical_pd['515'] = [total_registered_515, total_passed_515, percent_passed_515,A515,B515,C515,D515,U515]\n",
    "     \n",
    "    A520 = int(np.sum(panda_for_given_year['520G'] == 'A'))\n",
    "    B520 = int(np.sum(panda_for_given_year['520G'] == 'B'))\n",
    "    C520 = int(np.sum(panda_for_given_year['520G'] == 'C'))\n",
    "    D520 = int(np.sum(panda_for_given_year['520G'] == 'D'))\n",
    "    U520 = int(np.sum(panda_for_given_year['520G'] == 'U'))\n",
    "    total_registered_520 = A520 + B520 + C520 + D520 + U520\n",
    "    total_passed_520 = A520 + B520 + C520\n",
    "    percent_passed_520 = round((total_passed_520/total_registered_520)*100,2)\n",
    "    statistical_pd['520'] = [total_registered_520, total_passed_520, percent_passed_520,A520,B520,C520,D520,U520]\n",
    "     \n",
    "    A525 = int(np.sum(panda_for_given_year['525G'] == 'A'))\n",
    "    B525 = int(np.sum(panda_for_given_year['525G'] == 'B'))\n",
    "    C525 = int(np.sum(panda_for_given_year['525G'] == 'C'))\n",
    "    D525 = int(np.sum(panda_for_given_year['525G'] == 'D'))\n",
    "    U525 = int(np.sum(panda_for_given_year['525G'] == 'U'))\n",
    "    total_registered_525 = A525 + B525 + C525 + D525 + U525\n",
    "    total_passed_525 = A525 + B525 + C525\n",
    "    percent_passed_525 = round((total_passed_525/total_registered_525)*100,2)\n",
    "    statistical_pd['525'] = [total_registered_525, total_passed_525, percent_passed_525,A525,B525,C525,D525,U525]\n",
    "     \n",
    "    A530 = int(np.sum(panda_for_given_year['530G'] == 'A'))\n",
    "    B530 = int(np.sum(panda_for_given_year['530G'] == 'B'))\n",
    "    C530 = int(np.sum(panda_for_given_year['530G'] == 'C'))\n",
    "    D530 = int(np.sum(panda_for_given_year['530G'] == 'D'))\n",
    "    U530 = int(np.sum(panda_for_given_year['530G'] == 'U'))\n",
    "    total_registered_530 = A530 + B530 + C530 + D530 + U530\n",
    "    total_passed_530 = A530 + B530 + C530\n",
    "    percent_passed_530 = round((total_passed_530/total_registered_530)*100,2)\n",
    "    statistical_pd['530'] = [total_registered_530, total_passed_530, percent_passed_530,A530,B530,C530,D530,U530]\n",
    "     \n",
    "    A535 = int(np.sum(panda_for_given_year['535G'] == 'A'))\n",
    "    B535 = int(np.sum(panda_for_given_year['535G'] == 'B'))\n",
    "    C535 = int(np.sum(panda_for_given_year['535G'] == 'C'))\n",
    "    D535 = int(np.sum(panda_for_given_year['535G'] == 'D'))\n",
    "    U535 = int(np.sum(panda_for_given_year['535G'] == 'U'))\n",
    "    total_registered_535 = A535 + B535 + C535 + D535 + U535\n",
    "    total_passed_535 = A535 + B535 + C535\n",
    "    percent_passed_535 = round((total_passed_535/total_registered_535)*100,2)\n",
    "    statistical_pd['535'] = [total_registered_535, total_passed_535, percent_passed_535,A535,B535,C535,D535,U535]\n",
    "     \n",
    "    A540 = int(np.sum(panda_for_given_year['540G'] == 'A'))\n",
    "    B540 = int(np.sum(panda_for_given_year['540G'] == 'B'))\n",
    "    C540 = int(np.sum(panda_for_given_year['540G'] == 'C'))\n",
    "    D540 = int(np.sum(panda_for_given_year['540G'] == 'D'))\n",
    "    U540 = int(np.sum(panda_for_given_year['540G'] == 'U'))\n",
    "    total_registered_540 = A540 + B540 + C540 + D540 + U540\n",
    "    total_passed_540 = A540 + B540 + C540\n",
    "    percent_passed_540 = round((total_passed_540/total_registered_540)*100,2)\n",
    "    statistical_pd['540'] = [total_registered_540, total_passed_540, percent_passed_540,A540,B540,C540,D540,U540]\n",
    "     \n",
    "    A545 = int(np.sum(panda_for_given_year['545G'] == 'A'))\n",
    "    B545 = int(np.sum(panda_for_given_year['545G'] == 'B'))\n",
    "    C545 = int(np.sum(panda_for_given_year['545G'] == 'C'))\n",
    "    D545 = int(np.sum(panda_for_given_year['545G'] == 'D'))\n",
    "    U545 = int(np.sum(panda_for_given_year['545G'] == 'U'))\n",
    "    total_registered_545 = A545 + B545 + C545 + D545 + U545\n",
    "    total_passed_545 = A545 + B545 + C545\n",
    "    percent_passed_545 = round((total_passed_545/total_registered_545)*100,2)\n",
    "    statistical_pd['545'] = [total_registered_545, total_passed_545, percent_passed_545,A545,B545,C545,D545,U545]\n",
    "     \n",
    "    A550 = int(np.sum(panda_for_given_year['550G'] == 'A'))\n",
    "    B550 = int(np.sum(panda_for_given_year['550G'] == 'B'))\n",
    "    C550 = int(np.sum(panda_for_given_year['550G'] == 'C'))\n",
    "    D550 = int(np.sum(panda_for_given_year['550G'] == 'D'))\n",
    "    U550 = int(np.sum(panda_for_given_year['550G'] == 'U'))\n",
    "    total_registered_550 = A550 + B550 + C550 + D550 + U550\n",
    "    total_passed_550 = A550 + B550 + C550\n",
    "    percent_passed_550 = round((total_passed_550/total_registered_550)*100,2)\n",
    "    statistical_pd['550'] = [total_registered_550, total_passed_550, percent_passed_550,A550,B550,C550,D550,U550]\n",
    "     \n",
    "    A560 = int(np.sum(panda_for_given_year['560G'] == 'A'))\n",
    "    B560 = int(np.sum(panda_for_given_year['560G'] == 'B'))\n",
    "    C560 = int(np.sum(panda_for_given_year['560G'] == 'C'))\n",
    "    D560 = int(np.sum(panda_for_given_year['560G'] == 'D'))\n",
    "    U560 = int(np.sum(panda_for_given_year['560G'] == 'U'))\n",
    "    total_registered_560 = A560 + B560 + C560 + D560 + U560\n",
    "    total_passed_560 = A560 + B560 + C560\n",
    "    percent_passed_560 = round((total_passed_560/total_registered_560)*100,2)\n",
    "    statistical_pd['560'] = [total_registered_560, total_passed_560, percent_passed_560,A560,B560,C560,D560,U560]\n",
    "     \n",
    "    A565 = int(np.sum(panda_for_given_year['565G'] == 'A'))\n",
    "    B565 = int(np.sum(panda_for_given_year['565G'] == 'B'))\n",
    "    C565 = int(np.sum(panda_for_given_year['565G'] == 'C'))\n",
    "    D565 = int(np.sum(panda_for_given_year['565G'] == 'D'))\n",
    "    U565 = int(np.sum(panda_for_given_year['565G'] == 'U'))\n",
    "    total_registered_565 = A565 + B565 + C565 + D565 + U565\n",
    "    total_passed_565 = A565 + B565 + C565\n",
    "    percent_passed_565 = round((total_passed_565/total_registered_565)*100,2)\n",
    "    statistical_pd['565'] = [total_registered_565, total_passed_565, percent_passed_565,A565,B565,C565,D565,U565]\n",
    "     \n",
    "    A570 = int(np.sum(panda_for_given_year['570G'] == 'A'))\n",
    "    B570 = int(np.sum(panda_for_given_year['570G'] == 'B'))\n",
    "    C570 = int(np.sum(panda_for_given_year['570G'] == 'C'))\n",
    "    D570 = int(np.sum(panda_for_given_year['570G'] == 'D'))\n",
    "    U570 = int(np.sum(panda_for_given_year['570G'] == 'U'))\n",
    "    total_registered_570 = A570 + B570 + C570 + D570 + U570\n",
    "    total_passed_570 = A570 + B570 + C570\n",
    "    percent_passed_570 = round((total_passed_570/total_registered_570)*100,2)\n",
    "    statistical_pd['570'] = [total_registered_570, total_passed_570, percent_passed_570,A570,B570,C570,D570,U570]\n",
    "     \n",
    "    A575 = int(np.sum(panda_for_given_year['575G'] == 'A'))\n",
    "    B575 = int(np.sum(panda_for_given_year['575G'] == 'B'))\n",
    "    C575 = int(np.sum(panda_for_given_year['575G'] == 'C'))\n",
    "    D575 = int(np.sum(panda_for_given_year['575G'] == 'D'))\n",
    "    U575 = int(np.sum(panda_for_given_year['575G'] == 'U'))\n",
    "    total_registered_575 = A575 + B575 + C575 + D575 + U575\n",
    "    total_passed_575 = A575 + B575 + C575\n",
    "    percent_passed_575 = round((total_passed_575/total_registered_575)*100,2)\n",
    "    statistical_pd['575'] = [total_registered_575, total_passed_575, percent_passed_575,A575,B575,C575,D575,U575]\n",
    "     \n",
    "    A580 = int(np.sum(panda_for_given_year['580G'] == 'A'))\n",
    "    B580 = int(np.sum(panda_for_given_year['580G'] == 'B'))\n",
    "    C580 = int(np.sum(panda_for_given_year['580G'] == 'C'))\n",
    "    D580 = int(np.sum(panda_for_given_year['580G'] == 'D'))\n",
    "    U580 = int(np.sum(panda_for_given_year['580G'] == 'U'))\n",
    "    total_registered_580 = A580 + B580 + C580 + D580 + U580\n",
    "    total_passed_580 = A580 + B580 + C580\n",
    "    percent_passed_580 = round((total_passed_580/total_registered_580)*100,2)\n",
    "    statistical_pd['580'] = [total_registered_580, total_passed_580, percent_passed_580,A580,B580,C580,D580,U580]\n",
    "     \n",
    "    A585 = int(np.sum(panda_for_given_year['585G'] == 'A'))\n",
    "    B585 = int(np.sum(panda_for_given_year['585G'] == 'B'))\n",
    "    C585 = int(np.sum(panda_for_given_year['585G'] == 'C'))\n",
    "    D585 = int(np.sum(panda_for_given_year['585G'] == 'D'))\n",
    "    U585 = int(np.sum(panda_for_given_year['585G'] == 'U'))\n",
    "    total_registered_585 = A585 + B585 + C585 + D585 + U585\n",
    "    total_passed_585 = A585 + B585 + C585\n",
    "    percent_passed_585 = round((total_passed_585/total_registered_585)*100,2)\n",
    "    statistical_pd['585'] = [total_registered_585, total_passed_585, percent_passed_585,A585,B585,C585,D585,U585]\n",
    "     \n",
    "    A590 = int(np.sum(panda_for_given_year['590G'] == 'A'))\n",
    "    B590 = int(np.sum(panda_for_given_year['590G'] == 'B'))\n",
    "    C590 = int(np.sum(panda_for_given_year['590G'] == 'C'))\n",
    "    D590 = int(np.sum(panda_for_given_year['590G'] == 'D'))\n",
    "    U590 = int(np.sum(panda_for_given_year['590G'] == 'U'))\n",
    "    total_registered_590 = A590 + B590 + C590 + D590 + U590\n",
    "    total_passed_590 = A590 + B590 + C590\n",
    "    percent_passed_590 = round((total_passed_590/total_registered_590)*100,2)\n",
    "    statistical_pd['590'] = [total_registered_590, total_passed_590, percent_passed_590,A590,B590,C590,D590,U590]\n",
    "     \n",
    "    A595 = int(np.sum(panda_for_given_year['595G'] == 'A'))\n",
    "    B595 = int(np.sum(panda_for_given_year['595G'] == 'B'))\n",
    "    C595 = int(np.sum(panda_for_given_year['595G'] == 'C'))\n",
    "    D595 = int(np.sum(panda_for_given_year['595G'] == 'D'))\n",
    "    U595 = int(np.sum(panda_for_given_year['595G'] == 'U'))\n",
    "    total_registered_595 = A595 + B595 + C595 + D595 + U595\n",
    "    total_passed_595 = A595 + B595 + C595\n",
    "    percent_passed_595 = round((total_passed_595/total_registered_595)*100,2)\n",
    "    statistical_pd['595'] = [total_registered_595, total_passed_595, percent_passed_595,A595,B595,C595,D595,U595]\n",
    "        \n",
    "    return statistical_pd\n",
    "   "
   ],
   "metadata": {
    "collapsed": false,
    "pycharm": {
     "name": "#%%\n",
     "is_executing": false
    }
   }
  },
  {
   "cell_type": "code",
   "execution_count": 19,
   "outputs": [
    {
     "name": "stdout",
     "text": [
      "Statistics for 2015\n"
     ],
     "output_type": "stream"
    },
    {
     "data": {
      "text/plain": "               Stats       505       510       515       520       525  \\\n0  Number Registered  39899.00  39909.00  39987.00  39982.00  39790.00   \n1      Number Passed  33283.00  33192.00  30768.00  30757.00  30549.00   \n2           % Passed     83.42     83.17     76.95     76.93     76.78   \n3            A Count  13490.00  13279.00  12339.00  12364.00  12228.00   \n4            B Count   9874.00   9815.00   9433.00   9166.00   9133.00   \n5            C Count   9919.00  10098.00   8996.00   9227.00   9188.00   \n6            D Count   6616.00   6717.00   6235.00   6165.00   6146.00   \n7            U Count      0.00      0.00   2984.00   3060.00   3095.00   \n\n        530       535       540       545       550       560       565  \\\n0  40170.00  40010.00  40064.00  39909.00  40083.00  39874.00  39874.00   \n1  28728.00  30863.00  30862.00  26593.00  31017.00  30653.00  30715.00   \n2     71.52     77.14     77.03     66.63     77.38     76.87     77.03   \n3  11423.00  12319.00  12363.00  10625.00  12465.00  12249.00  12322.00   \n4   8581.00   9212.00   9287.00   7944.00   9249.00   9287.00   9371.00   \n5   8724.00   9332.00   9212.00   8024.00   9303.00   9117.00   9022.00   \n6   5759.00   6113.00   6116.00   5346.00   6046.00   6180.00   6115.00   \n7   5683.00   3034.00   3086.00   7970.00   3020.00   3041.00   3044.00   \n\n        570       575       580       585       590       595  \n0  39786.00  39937.00  39914.00  40283.00  40176.00  39875.00  \n1  26531.00  30823.00  28603.00  30999.00  30692.00  30736.00  \n2     66.68     77.18     71.66     76.95     76.39     77.08  \n3  10702.00  12379.00  11584.00  12411.00  12190.00  12365.00  \n4   7868.00   9311.00   8542.00   9280.00   9282.00   9221.00  \n5   7961.00   9133.00   8477.00   9308.00   9220.00   9150.00  \n6   5332.00   6027.00   5653.00   6196.00   6365.00   6078.00  \n7   7923.00   3087.00   5658.00   3088.00   3119.00   3061.00  ",
      "text/html": "<div>\n<style scoped>\n    .dataframe tbody tr th:only-of-type {\n        vertical-align: middle;\n    }\n\n    .dataframe tbody tr th {\n        vertical-align: top;\n    }\n\n    .dataframe thead th {\n        text-align: right;\n    }\n</style>\n<table border=\"1\" class=\"dataframe\">\n  <thead>\n    <tr style=\"text-align: right;\">\n      <th></th>\n      <th>Stats</th>\n      <th>505</th>\n      <th>510</th>\n      <th>515</th>\n      <th>520</th>\n      <th>525</th>\n      <th>530</th>\n      <th>535</th>\n      <th>540</th>\n      <th>545</th>\n      <th>550</th>\n      <th>560</th>\n      <th>565</th>\n      <th>570</th>\n      <th>575</th>\n      <th>580</th>\n      <th>585</th>\n      <th>590</th>\n      <th>595</th>\n    </tr>\n  </thead>\n  <tbody>\n    <tr>\n      <th>0</th>\n      <td>Number Registered</td>\n      <td>39899.00</td>\n      <td>39909.00</td>\n      <td>39987.00</td>\n      <td>39982.00</td>\n      <td>39790.00</td>\n      <td>40170.00</td>\n      <td>40010.00</td>\n      <td>40064.00</td>\n      <td>39909.00</td>\n      <td>40083.00</td>\n      <td>39874.00</td>\n      <td>39874.00</td>\n      <td>39786.00</td>\n      <td>39937.00</td>\n      <td>39914.00</td>\n      <td>40283.00</td>\n      <td>40176.00</td>\n      <td>39875.00</td>\n    </tr>\n    <tr>\n      <th>1</th>\n      <td>Number Passed</td>\n      <td>33283.00</td>\n      <td>33192.00</td>\n      <td>30768.00</td>\n      <td>30757.00</td>\n      <td>30549.00</td>\n      <td>28728.00</td>\n      <td>30863.00</td>\n      <td>30862.00</td>\n      <td>26593.00</td>\n      <td>31017.00</td>\n      <td>30653.00</td>\n      <td>30715.00</td>\n      <td>26531.00</td>\n      <td>30823.00</td>\n      <td>28603.00</td>\n      <td>30999.00</td>\n      <td>30692.00</td>\n      <td>30736.00</td>\n    </tr>\n    <tr>\n      <th>2</th>\n      <td>% Passed</td>\n      <td>83.42</td>\n      <td>83.17</td>\n      <td>76.95</td>\n      <td>76.93</td>\n      <td>76.78</td>\n      <td>71.52</td>\n      <td>77.14</td>\n      <td>77.03</td>\n      <td>66.63</td>\n      <td>77.38</td>\n      <td>76.87</td>\n      <td>77.03</td>\n      <td>66.68</td>\n      <td>77.18</td>\n      <td>71.66</td>\n      <td>76.95</td>\n      <td>76.39</td>\n      <td>77.08</td>\n    </tr>\n    <tr>\n      <th>3</th>\n      <td>A Count</td>\n      <td>13490.00</td>\n      <td>13279.00</td>\n      <td>12339.00</td>\n      <td>12364.00</td>\n      <td>12228.00</td>\n      <td>11423.00</td>\n      <td>12319.00</td>\n      <td>12363.00</td>\n      <td>10625.00</td>\n      <td>12465.00</td>\n      <td>12249.00</td>\n      <td>12322.00</td>\n      <td>10702.00</td>\n      <td>12379.00</td>\n      <td>11584.00</td>\n      <td>12411.00</td>\n      <td>12190.00</td>\n      <td>12365.00</td>\n    </tr>\n    <tr>\n      <th>4</th>\n      <td>B Count</td>\n      <td>9874.00</td>\n      <td>9815.00</td>\n      <td>9433.00</td>\n      <td>9166.00</td>\n      <td>9133.00</td>\n      <td>8581.00</td>\n      <td>9212.00</td>\n      <td>9287.00</td>\n      <td>7944.00</td>\n      <td>9249.00</td>\n      <td>9287.00</td>\n      <td>9371.00</td>\n      <td>7868.00</td>\n      <td>9311.00</td>\n      <td>8542.00</td>\n      <td>9280.00</td>\n      <td>9282.00</td>\n      <td>9221.00</td>\n    </tr>\n    <tr>\n      <th>5</th>\n      <td>C Count</td>\n      <td>9919.00</td>\n      <td>10098.00</td>\n      <td>8996.00</td>\n      <td>9227.00</td>\n      <td>9188.00</td>\n      <td>8724.00</td>\n      <td>9332.00</td>\n      <td>9212.00</td>\n      <td>8024.00</td>\n      <td>9303.00</td>\n      <td>9117.00</td>\n      <td>9022.00</td>\n      <td>7961.00</td>\n      <td>9133.00</td>\n      <td>8477.00</td>\n      <td>9308.00</td>\n      <td>9220.00</td>\n      <td>9150.00</td>\n    </tr>\n    <tr>\n      <th>6</th>\n      <td>D Count</td>\n      <td>6616.00</td>\n      <td>6717.00</td>\n      <td>6235.00</td>\n      <td>6165.00</td>\n      <td>6146.00</td>\n      <td>5759.00</td>\n      <td>6113.00</td>\n      <td>6116.00</td>\n      <td>5346.00</td>\n      <td>6046.00</td>\n      <td>6180.00</td>\n      <td>6115.00</td>\n      <td>5332.00</td>\n      <td>6027.00</td>\n      <td>5653.00</td>\n      <td>6196.00</td>\n      <td>6365.00</td>\n      <td>6078.00</td>\n    </tr>\n    <tr>\n      <th>7</th>\n      <td>U Count</td>\n      <td>0.00</td>\n      <td>0.00</td>\n      <td>2984.00</td>\n      <td>3060.00</td>\n      <td>3095.00</td>\n      <td>5683.00</td>\n      <td>3034.00</td>\n      <td>3086.00</td>\n      <td>7970.00</td>\n      <td>3020.00</td>\n      <td>3041.00</td>\n      <td>3044.00</td>\n      <td>7923.00</td>\n      <td>3087.00</td>\n      <td>5658.00</td>\n      <td>3088.00</td>\n      <td>3119.00</td>\n      <td>3061.00</td>\n    </tr>\n  </tbody>\n</table>\n</div>"
     },
     "metadata": {},
     "output_type": "execute_result",
     "execution_count": 19
    }
   ],
   "source": [
    "# 6.2 Create DataFrames of Statistics of performance for each subject for 2015 Exam year\n",
    "print(\"Statistics for 2015\")\n",
    "stats_2015 = build_subject_stats_dataframe_by_year(df_main2015)\n",
    "stats_2015     "
   ],
   "metadata": {
    "collapsed": false,
    "pycharm": {
     "name": "#%%\n",
     "is_executing": false
    }
   }
  },
  {
   "cell_type": "code",
   "execution_count": 20,
   "outputs": [],
   "source": [
    "# Function to generate centre statistics by year into a dataframe \n",
    "def generate_center_stats_by_year(dataframe_for_that_year, center_number):\n",
    "     return dataframe_for_that_year.loc[dataframe_for_that_year['Center Number'] == center_number]"
   ],
   "metadata": {
    "collapsed": false,
    "pycharm": {
     "name": "#%%\n",
     "is_executing": false
    }
   }
  },
  {
   "cell_type": "code",
   "execution_count": 21,
   "outputs": [
    {
     "name": "stdout",
     "text": [
      "Statistics of 2015 for centre No 1110\n"
     ],
     "output_type": "stream"
    },
    {
     "data": {
      "text/plain": "               Stats      505      510      515      520     525      530  \\\n0  Number Registered  5022.00  5003.00  5030.00  5092.00  4974.0  4974.00   \n1      Number Passed  4177.00  4180.00  3850.00  3924.00  3790.0  3568.00   \n2           % Passed    83.17    83.55    76.54    77.06    76.2    71.73   \n3            A Count  1721.00  1675.00  1524.00  1560.00  1558.0  1423.00   \n4            B Count  1211.00  1201.00  1166.00  1205.00  1118.0  1084.00   \n5            C Count  1245.00  1304.00  1160.00  1159.00  1114.0  1061.00   \n6            D Count   845.00   823.00   801.00   773.00   783.0   705.00   \n7            U Count     0.00     0.00   379.00   395.00   401.0   701.00   \n\n       535      540      545      550      560      565      570      575  \\\n0  5093.00  5090.00  4969.00  5126.00  5059.00  5049.00  4997.00  5025.00   \n1  3936.00  3951.00  3303.00  3948.00  3917.00  3914.00  3304.00  3876.00   \n2    77.28    77.62    66.47    77.02    77.43    77.52    66.12    77.13   \n3  1559.00  1617.00  1316.00  1588.00  1534.00  1523.00  1310.00  1558.00   \n4  1167.00  1162.00   980.00  1150.00  1174.00  1223.00   987.00  1173.00   \n5  1210.00  1172.00  1007.00  1210.00  1209.00  1168.00  1007.00  1145.00   \n6   764.00   749.00   656.00   777.00   768.00   759.00   694.00   763.00   \n7   393.00   390.00  1010.00   401.00   374.00   376.00   999.00   386.00   \n\n       580      585     590      595  \n0  5043.00  5025.00  5090.0  5010.00  \n1  3564.00  3870.00  3889.0  3784.00  \n2    70.67    77.01    76.4    75.53  \n3  1432.00  1549.00  1537.0  1476.00  \n4  1042.00  1186.00  1199.0  1165.00  \n5  1090.00  1135.00  1153.0  1143.00  \n6   746.00   763.00   817.0   818.00  \n7   733.00   392.00   384.0   408.00  ",
      "text/html": "<div>\n<style scoped>\n    .dataframe tbody tr th:only-of-type {\n        vertical-align: middle;\n    }\n\n    .dataframe tbody tr th {\n        vertical-align: top;\n    }\n\n    .dataframe thead th {\n        text-align: right;\n    }\n</style>\n<table border=\"1\" class=\"dataframe\">\n  <thead>\n    <tr style=\"text-align: right;\">\n      <th></th>\n      <th>Stats</th>\n      <th>505</th>\n      <th>510</th>\n      <th>515</th>\n      <th>520</th>\n      <th>525</th>\n      <th>530</th>\n      <th>535</th>\n      <th>540</th>\n      <th>545</th>\n      <th>550</th>\n      <th>560</th>\n      <th>565</th>\n      <th>570</th>\n      <th>575</th>\n      <th>580</th>\n      <th>585</th>\n      <th>590</th>\n      <th>595</th>\n    </tr>\n  </thead>\n  <tbody>\n    <tr>\n      <th>0</th>\n      <td>Number Registered</td>\n      <td>5022.00</td>\n      <td>5003.00</td>\n      <td>5030.00</td>\n      <td>5092.00</td>\n      <td>4974.0</td>\n      <td>4974.00</td>\n      <td>5093.00</td>\n      <td>5090.00</td>\n      <td>4969.00</td>\n      <td>5126.00</td>\n      <td>5059.00</td>\n      <td>5049.00</td>\n      <td>4997.00</td>\n      <td>5025.00</td>\n      <td>5043.00</td>\n      <td>5025.00</td>\n      <td>5090.0</td>\n      <td>5010.00</td>\n    </tr>\n    <tr>\n      <th>1</th>\n      <td>Number Passed</td>\n      <td>4177.00</td>\n      <td>4180.00</td>\n      <td>3850.00</td>\n      <td>3924.00</td>\n      <td>3790.0</td>\n      <td>3568.00</td>\n      <td>3936.00</td>\n      <td>3951.00</td>\n      <td>3303.00</td>\n      <td>3948.00</td>\n      <td>3917.00</td>\n      <td>3914.00</td>\n      <td>3304.00</td>\n      <td>3876.00</td>\n      <td>3564.00</td>\n      <td>3870.00</td>\n      <td>3889.0</td>\n      <td>3784.00</td>\n    </tr>\n    <tr>\n      <th>2</th>\n      <td>% Passed</td>\n      <td>83.17</td>\n      <td>83.55</td>\n      <td>76.54</td>\n      <td>77.06</td>\n      <td>76.2</td>\n      <td>71.73</td>\n      <td>77.28</td>\n      <td>77.62</td>\n      <td>66.47</td>\n      <td>77.02</td>\n      <td>77.43</td>\n      <td>77.52</td>\n      <td>66.12</td>\n      <td>77.13</td>\n      <td>70.67</td>\n      <td>77.01</td>\n      <td>76.4</td>\n      <td>75.53</td>\n    </tr>\n    <tr>\n      <th>3</th>\n      <td>A Count</td>\n      <td>1721.00</td>\n      <td>1675.00</td>\n      <td>1524.00</td>\n      <td>1560.00</td>\n      <td>1558.0</td>\n      <td>1423.00</td>\n      <td>1559.00</td>\n      <td>1617.00</td>\n      <td>1316.00</td>\n      <td>1588.00</td>\n      <td>1534.00</td>\n      <td>1523.00</td>\n      <td>1310.00</td>\n      <td>1558.00</td>\n      <td>1432.00</td>\n      <td>1549.00</td>\n      <td>1537.0</td>\n      <td>1476.00</td>\n    </tr>\n    <tr>\n      <th>4</th>\n      <td>B Count</td>\n      <td>1211.00</td>\n      <td>1201.00</td>\n      <td>1166.00</td>\n      <td>1205.00</td>\n      <td>1118.0</td>\n      <td>1084.00</td>\n      <td>1167.00</td>\n      <td>1162.00</td>\n      <td>980.00</td>\n      <td>1150.00</td>\n      <td>1174.00</td>\n      <td>1223.00</td>\n      <td>987.00</td>\n      <td>1173.00</td>\n      <td>1042.00</td>\n      <td>1186.00</td>\n      <td>1199.0</td>\n      <td>1165.00</td>\n    </tr>\n    <tr>\n      <th>5</th>\n      <td>C Count</td>\n      <td>1245.00</td>\n      <td>1304.00</td>\n      <td>1160.00</td>\n      <td>1159.00</td>\n      <td>1114.0</td>\n      <td>1061.00</td>\n      <td>1210.00</td>\n      <td>1172.00</td>\n      <td>1007.00</td>\n      <td>1210.00</td>\n      <td>1209.00</td>\n      <td>1168.00</td>\n      <td>1007.00</td>\n      <td>1145.00</td>\n      <td>1090.00</td>\n      <td>1135.00</td>\n      <td>1153.0</td>\n      <td>1143.00</td>\n    </tr>\n    <tr>\n      <th>6</th>\n      <td>D Count</td>\n      <td>845.00</td>\n      <td>823.00</td>\n      <td>801.00</td>\n      <td>773.00</td>\n      <td>783.0</td>\n      <td>705.00</td>\n      <td>764.00</td>\n      <td>749.00</td>\n      <td>656.00</td>\n      <td>777.00</td>\n      <td>768.00</td>\n      <td>759.00</td>\n      <td>694.00</td>\n      <td>763.00</td>\n      <td>746.00</td>\n      <td>763.00</td>\n      <td>817.0</td>\n      <td>818.00</td>\n    </tr>\n    <tr>\n      <th>7</th>\n      <td>U Count</td>\n      <td>0.00</td>\n      <td>0.00</td>\n      <td>379.00</td>\n      <td>395.00</td>\n      <td>401.0</td>\n      <td>701.00</td>\n      <td>393.00</td>\n      <td>390.00</td>\n      <td>1010.00</td>\n      <td>401.00</td>\n      <td>374.00</td>\n      <td>376.00</td>\n      <td>999.00</td>\n      <td>386.00</td>\n      <td>733.00</td>\n      <td>392.00</td>\n      <td>384.0</td>\n      <td>408.00</td>\n    </tr>\n  </tbody>\n</table>\n</div>"
     },
     "metadata": {},
     "output_type": "execute_result",
     "execution_count": 21
    }
   ],
   "source": [
    "# 7. STATISTICS OF 2015 EXAMINBATION YEAR BY EXAM CENTERS\n",
    "\n",
    "# Statistics of 2015 for centre No 1110\n",
    "print(\"Statistics of 2015 for centre No 1110\")\n",
    "center_no_1110_2015 = generate_center_stats_by_year(df_main2015, \"1110\")\n",
    "center_no_1110_2015_stats = build_subject_stats_dataframe_by_year(center_no_1110_2015)\n",
    "center_no_1110_2015_stats"
   ],
   "metadata": {
    "collapsed": false,
    "pycharm": {
     "name": "#%%\n",
     "is_executing": false
    }
   }
  },
  {
   "cell_type": "code",
   "execution_count": 22,
   "outputs": [
    {
     "name": "stdout",
     "text": [
      "Statistics of 2015 for centre No 1115\n"
     ],
     "output_type": "stream"
    },
    {
     "data": {
      "text/plain": "               Stats      505      510      515      520      525      530  \\\n0  Number Registered  4968.00  4945.00  5011.00  5068.00  4948.00  5005.00   \n1      Number Passed  4190.00  4096.00  3845.00  3898.00  3818.00  3545.00   \n2           % Passed    84.34    82.83    76.73    76.91    77.16    70.83   \n3            A Count  1677.00  1574.00  1549.00  1529.00  1496.00  1358.00   \n4            B Count  1278.00  1217.00  1171.00  1192.00  1144.00  1084.00   \n5            C Count  1235.00  1305.00  1125.00  1177.00  1178.00  1103.00   \n6            D Count   778.00   849.00   800.00   798.00   739.00   721.00   \n7            U Count     0.00     0.00   366.00   372.00   391.00   739.00   \n\n       535      540      545      550      560      565      570      575  \\\n0  5052.00  5040.00  4876.00  5014.00  4902.00  4974.00  4853.00  4930.00   \n1  3926.00  3821.00  3230.00  3857.00  3772.00  3853.00  3219.00  3823.00   \n2    77.71    75.81    66.24    76.92    76.95    77.46    66.33    77.55   \n3  1557.00  1515.00  1260.00  1551.00  1520.00  1510.00  1281.00  1523.00   \n4  1193.00  1156.00  1014.00  1156.00  1159.00  1201.00   971.00  1145.00   \n5  1176.00  1150.00   956.00  1150.00  1093.00  1142.00   967.00  1155.00   \n6   749.00   814.00   652.00   798.00   760.00   716.00   638.00   713.00   \n7   377.00   405.00   994.00   359.00   370.00   405.00   996.00   394.00   \n\n       580     585      590      595  \n0  4968.00  5060.0  4986.00  4982.00  \n1  3531.00  3876.0  3775.00  3843.00  \n2    71.07    76.6    75.71    77.14  \n3  1446.00  1507.0  1488.00  1547.00  \n4  1078.00  1210.0  1145.00  1178.00  \n5  1007.00  1159.0  1142.00  1118.00  \n6   708.00   786.0   778.00   749.00  \n7   729.00   398.0   433.00   390.00  ",
      "text/html": "<div>\n<style scoped>\n    .dataframe tbody tr th:only-of-type {\n        vertical-align: middle;\n    }\n\n    .dataframe tbody tr th {\n        vertical-align: top;\n    }\n\n    .dataframe thead th {\n        text-align: right;\n    }\n</style>\n<table border=\"1\" class=\"dataframe\">\n  <thead>\n    <tr style=\"text-align: right;\">\n      <th></th>\n      <th>Stats</th>\n      <th>505</th>\n      <th>510</th>\n      <th>515</th>\n      <th>520</th>\n      <th>525</th>\n      <th>530</th>\n      <th>535</th>\n      <th>540</th>\n      <th>545</th>\n      <th>550</th>\n      <th>560</th>\n      <th>565</th>\n      <th>570</th>\n      <th>575</th>\n      <th>580</th>\n      <th>585</th>\n      <th>590</th>\n      <th>595</th>\n    </tr>\n  </thead>\n  <tbody>\n    <tr>\n      <th>0</th>\n      <td>Number Registered</td>\n      <td>4968.00</td>\n      <td>4945.00</td>\n      <td>5011.00</td>\n      <td>5068.00</td>\n      <td>4948.00</td>\n      <td>5005.00</td>\n      <td>5052.00</td>\n      <td>5040.00</td>\n      <td>4876.00</td>\n      <td>5014.00</td>\n      <td>4902.00</td>\n      <td>4974.00</td>\n      <td>4853.00</td>\n      <td>4930.00</td>\n      <td>4968.00</td>\n      <td>5060.0</td>\n      <td>4986.00</td>\n      <td>4982.00</td>\n    </tr>\n    <tr>\n      <th>1</th>\n      <td>Number Passed</td>\n      <td>4190.00</td>\n      <td>4096.00</td>\n      <td>3845.00</td>\n      <td>3898.00</td>\n      <td>3818.00</td>\n      <td>3545.00</td>\n      <td>3926.00</td>\n      <td>3821.00</td>\n      <td>3230.00</td>\n      <td>3857.00</td>\n      <td>3772.00</td>\n      <td>3853.00</td>\n      <td>3219.00</td>\n      <td>3823.00</td>\n      <td>3531.00</td>\n      <td>3876.0</td>\n      <td>3775.00</td>\n      <td>3843.00</td>\n    </tr>\n    <tr>\n      <th>2</th>\n      <td>% Passed</td>\n      <td>84.34</td>\n      <td>82.83</td>\n      <td>76.73</td>\n      <td>76.91</td>\n      <td>77.16</td>\n      <td>70.83</td>\n      <td>77.71</td>\n      <td>75.81</td>\n      <td>66.24</td>\n      <td>76.92</td>\n      <td>76.95</td>\n      <td>77.46</td>\n      <td>66.33</td>\n      <td>77.55</td>\n      <td>71.07</td>\n      <td>76.6</td>\n      <td>75.71</td>\n      <td>77.14</td>\n    </tr>\n    <tr>\n      <th>3</th>\n      <td>A Count</td>\n      <td>1677.00</td>\n      <td>1574.00</td>\n      <td>1549.00</td>\n      <td>1529.00</td>\n      <td>1496.00</td>\n      <td>1358.00</td>\n      <td>1557.00</td>\n      <td>1515.00</td>\n      <td>1260.00</td>\n      <td>1551.00</td>\n      <td>1520.00</td>\n      <td>1510.00</td>\n      <td>1281.00</td>\n      <td>1523.00</td>\n      <td>1446.00</td>\n      <td>1507.0</td>\n      <td>1488.00</td>\n      <td>1547.00</td>\n    </tr>\n    <tr>\n      <th>4</th>\n      <td>B Count</td>\n      <td>1278.00</td>\n      <td>1217.00</td>\n      <td>1171.00</td>\n      <td>1192.00</td>\n      <td>1144.00</td>\n      <td>1084.00</td>\n      <td>1193.00</td>\n      <td>1156.00</td>\n      <td>1014.00</td>\n      <td>1156.00</td>\n      <td>1159.00</td>\n      <td>1201.00</td>\n      <td>971.00</td>\n      <td>1145.00</td>\n      <td>1078.00</td>\n      <td>1210.0</td>\n      <td>1145.00</td>\n      <td>1178.00</td>\n    </tr>\n    <tr>\n      <th>5</th>\n      <td>C Count</td>\n      <td>1235.00</td>\n      <td>1305.00</td>\n      <td>1125.00</td>\n      <td>1177.00</td>\n      <td>1178.00</td>\n      <td>1103.00</td>\n      <td>1176.00</td>\n      <td>1150.00</td>\n      <td>956.00</td>\n      <td>1150.00</td>\n      <td>1093.00</td>\n      <td>1142.00</td>\n      <td>967.00</td>\n      <td>1155.00</td>\n      <td>1007.00</td>\n      <td>1159.0</td>\n      <td>1142.00</td>\n      <td>1118.00</td>\n    </tr>\n    <tr>\n      <th>6</th>\n      <td>D Count</td>\n      <td>778.00</td>\n      <td>849.00</td>\n      <td>800.00</td>\n      <td>798.00</td>\n      <td>739.00</td>\n      <td>721.00</td>\n      <td>749.00</td>\n      <td>814.00</td>\n      <td>652.00</td>\n      <td>798.00</td>\n      <td>760.00</td>\n      <td>716.00</td>\n      <td>638.00</td>\n      <td>713.00</td>\n      <td>708.00</td>\n      <td>786.0</td>\n      <td>778.00</td>\n      <td>749.00</td>\n    </tr>\n    <tr>\n      <th>7</th>\n      <td>U Count</td>\n      <td>0.00</td>\n      <td>0.00</td>\n      <td>366.00</td>\n      <td>372.00</td>\n      <td>391.00</td>\n      <td>739.00</td>\n      <td>377.00</td>\n      <td>405.00</td>\n      <td>994.00</td>\n      <td>359.00</td>\n      <td>370.00</td>\n      <td>405.00</td>\n      <td>996.00</td>\n      <td>394.00</td>\n      <td>729.00</td>\n      <td>398.0</td>\n      <td>433.00</td>\n      <td>390.00</td>\n    </tr>\n  </tbody>\n</table>\n</div>"
     },
     "metadata": {},
     "output_type": "execute_result",
     "execution_count": 22
    }
   ],
   "source": [
    "# Statistics of 2015 for centre No 1115\n",
    "print(\"Statistics of 2015 for centre No 1115\")\n",
    "center_no_1115_2015 = generate_center_stats_by_year(df_main2015, \"1115\")\n",
    "center_no_1115_2015_stats = build_subject_stats_dataframe_by_year(center_no_1115_2015)\n",
    "center_no_1115_2015_stats"
   ],
   "metadata": {
    "collapsed": false,
    "pycharm": {
     "name": "#%%\n",
     "is_executing": false
    }
   }
  },
  {
   "cell_type": "code",
   "execution_count": 23,
   "outputs": [
    {
     "name": "stdout",
     "text": [
      "Statistics of 2015 for centre No 1124\n"
     ],
     "output_type": "stream"
    },
    {
     "data": {
      "text/plain": "               Stats      505     510      515      520      525     530  \\\n0  Number Registered  4962.00  4977.0  4922.00  5002.00  4983.00  5045.0   \n1      Number Passed  4152.00  4106.0  3824.00  3858.00  3813.00  3612.0   \n2           % Passed    83.68    82.5    77.69    77.13    76.52    71.6   \n3            A Count  1636.00  1644.0  1586.00  1595.00  1502.00  1467.0   \n4            B Count  1230.00  1186.0  1163.00  1161.00  1168.00  1036.0   \n5            C Count  1286.00  1276.0  1075.00  1102.00  1143.00  1109.0   \n6            D Count   810.00   871.0   751.00   775.00   801.00   719.0   \n7            U Count     0.00     0.0   347.00   369.00   369.00   714.0   \n\n       535      540      545      550      560      565      570      575  \\\n0  5008.00  5003.00  4923.00  4923.00  4874.00  4824.00  4879.00  4907.00   \n1  3827.00  3876.00  3275.00  3816.00  3726.00  3716.00  3249.00  3804.00   \n2    76.42    77.47    66.52    77.51    76.45    77.03    66.59    77.52   \n3  1575.00  1530.00  1317.00  1541.00  1524.00  1515.00  1333.00  1506.00   \n4  1135.00  1192.00   971.00  1164.00  1112.00  1128.00   979.00  1183.00   \n5  1117.00  1154.00   987.00  1111.00  1090.00  1073.00   937.00  1115.00   \n6   774.00   763.00   661.00   762.00   770.00   740.00   652.00   705.00   \n7   407.00   364.00   987.00   345.00   378.00   368.00   978.00   398.00   \n\n       580     585      590      595  \n0  4900.00  4992.0  4951.00  4924.00  \n1  3547.00  3839.0  3794.00  3818.00  \n2    72.39    76.9    76.63    77.54  \n3  1418.00  1579.0  1454.00  1574.00  \n4  1056.00  1133.0  1205.00  1111.00  \n5  1073.00  1127.0  1135.00  1133.00  \n6   671.00   770.0   796.00   733.00  \n7   682.00   383.0   361.00   373.00  ",
      "text/html": "<div>\n<style scoped>\n    .dataframe tbody tr th:only-of-type {\n        vertical-align: middle;\n    }\n\n    .dataframe tbody tr th {\n        vertical-align: top;\n    }\n\n    .dataframe thead th {\n        text-align: right;\n    }\n</style>\n<table border=\"1\" class=\"dataframe\">\n  <thead>\n    <tr style=\"text-align: right;\">\n      <th></th>\n      <th>Stats</th>\n      <th>505</th>\n      <th>510</th>\n      <th>515</th>\n      <th>520</th>\n      <th>525</th>\n      <th>530</th>\n      <th>535</th>\n      <th>540</th>\n      <th>545</th>\n      <th>550</th>\n      <th>560</th>\n      <th>565</th>\n      <th>570</th>\n      <th>575</th>\n      <th>580</th>\n      <th>585</th>\n      <th>590</th>\n      <th>595</th>\n    </tr>\n  </thead>\n  <tbody>\n    <tr>\n      <th>0</th>\n      <td>Number Registered</td>\n      <td>4962.00</td>\n      <td>4977.0</td>\n      <td>4922.00</td>\n      <td>5002.00</td>\n      <td>4983.00</td>\n      <td>5045.0</td>\n      <td>5008.00</td>\n      <td>5003.00</td>\n      <td>4923.00</td>\n      <td>4923.00</td>\n      <td>4874.00</td>\n      <td>4824.00</td>\n      <td>4879.00</td>\n      <td>4907.00</td>\n      <td>4900.00</td>\n      <td>4992.0</td>\n      <td>4951.00</td>\n      <td>4924.00</td>\n    </tr>\n    <tr>\n      <th>1</th>\n      <td>Number Passed</td>\n      <td>4152.00</td>\n      <td>4106.0</td>\n      <td>3824.00</td>\n      <td>3858.00</td>\n      <td>3813.00</td>\n      <td>3612.0</td>\n      <td>3827.00</td>\n      <td>3876.00</td>\n      <td>3275.00</td>\n      <td>3816.00</td>\n      <td>3726.00</td>\n      <td>3716.00</td>\n      <td>3249.00</td>\n      <td>3804.00</td>\n      <td>3547.00</td>\n      <td>3839.0</td>\n      <td>3794.00</td>\n      <td>3818.00</td>\n    </tr>\n    <tr>\n      <th>2</th>\n      <td>% Passed</td>\n      <td>83.68</td>\n      <td>82.5</td>\n      <td>77.69</td>\n      <td>77.13</td>\n      <td>76.52</td>\n      <td>71.6</td>\n      <td>76.42</td>\n      <td>77.47</td>\n      <td>66.52</td>\n      <td>77.51</td>\n      <td>76.45</td>\n      <td>77.03</td>\n      <td>66.59</td>\n      <td>77.52</td>\n      <td>72.39</td>\n      <td>76.9</td>\n      <td>76.63</td>\n      <td>77.54</td>\n    </tr>\n    <tr>\n      <th>3</th>\n      <td>A Count</td>\n      <td>1636.00</td>\n      <td>1644.0</td>\n      <td>1586.00</td>\n      <td>1595.00</td>\n      <td>1502.00</td>\n      <td>1467.0</td>\n      <td>1575.00</td>\n      <td>1530.00</td>\n      <td>1317.00</td>\n      <td>1541.00</td>\n      <td>1524.00</td>\n      <td>1515.00</td>\n      <td>1333.00</td>\n      <td>1506.00</td>\n      <td>1418.00</td>\n      <td>1579.0</td>\n      <td>1454.00</td>\n      <td>1574.00</td>\n    </tr>\n    <tr>\n      <th>4</th>\n      <td>B Count</td>\n      <td>1230.00</td>\n      <td>1186.0</td>\n      <td>1163.00</td>\n      <td>1161.00</td>\n      <td>1168.00</td>\n      <td>1036.0</td>\n      <td>1135.00</td>\n      <td>1192.00</td>\n      <td>971.00</td>\n      <td>1164.00</td>\n      <td>1112.00</td>\n      <td>1128.00</td>\n      <td>979.00</td>\n      <td>1183.00</td>\n      <td>1056.00</td>\n      <td>1133.0</td>\n      <td>1205.00</td>\n      <td>1111.00</td>\n    </tr>\n    <tr>\n      <th>5</th>\n      <td>C Count</td>\n      <td>1286.00</td>\n      <td>1276.0</td>\n      <td>1075.00</td>\n      <td>1102.00</td>\n      <td>1143.00</td>\n      <td>1109.0</td>\n      <td>1117.00</td>\n      <td>1154.00</td>\n      <td>987.00</td>\n      <td>1111.00</td>\n      <td>1090.00</td>\n      <td>1073.00</td>\n      <td>937.00</td>\n      <td>1115.00</td>\n      <td>1073.00</td>\n      <td>1127.0</td>\n      <td>1135.00</td>\n      <td>1133.00</td>\n    </tr>\n    <tr>\n      <th>6</th>\n      <td>D Count</td>\n      <td>810.00</td>\n      <td>871.0</td>\n      <td>751.00</td>\n      <td>775.00</td>\n      <td>801.00</td>\n      <td>719.0</td>\n      <td>774.00</td>\n      <td>763.00</td>\n      <td>661.00</td>\n      <td>762.00</td>\n      <td>770.00</td>\n      <td>740.00</td>\n      <td>652.00</td>\n      <td>705.00</td>\n      <td>671.00</td>\n      <td>770.0</td>\n      <td>796.00</td>\n      <td>733.00</td>\n    </tr>\n    <tr>\n      <th>7</th>\n      <td>U Count</td>\n      <td>0.00</td>\n      <td>0.0</td>\n      <td>347.00</td>\n      <td>369.00</td>\n      <td>369.00</td>\n      <td>714.0</td>\n      <td>407.00</td>\n      <td>364.00</td>\n      <td>987.00</td>\n      <td>345.00</td>\n      <td>378.00</td>\n      <td>368.00</td>\n      <td>978.00</td>\n      <td>398.00</td>\n      <td>682.00</td>\n      <td>383.0</td>\n      <td>361.00</td>\n      <td>373.00</td>\n    </tr>\n  </tbody>\n</table>\n</div>"
     },
     "metadata": {},
     "output_type": "execute_result",
     "execution_count": 23
    }
   ],
   "source": [
    "# Statistics of 2015 for centre No 1124\n",
    "print(\"Statistics of 2015 for centre No 1124\")\n",
    "center_no_1124_2015 = generate_center_stats_by_year(df_main2015, \"1124\")\n",
    "center_no_1124_2015_stats = build_subject_stats_dataframe_by_year(center_no_1124_2015)\n",
    "center_no_1124_2015_stats"
   ],
   "metadata": {
    "collapsed": false,
    "pycharm": {
     "name": "#%%\n",
     "is_executing": false
    }
   }
  },
  {
   "cell_type": "code",
   "execution_count": 24,
   "outputs": [
    {
     "name": "stdout",
     "text": [
      "Statistics of 2015 for centre No 1131\n"
     ],
     "output_type": "stream"
    },
    {
     "data": {
      "text/plain": "               Stats      505      510      515     520      525      530  \\\n0  Number Registered  4954.00  4918.00  4998.00  5052.0  4965.00  4982.00   \n1      Number Passed  4113.00  4096.00  3850.00  3910.0  3781.00  3631.00   \n2           % Passed    83.02    83.29    77.03    77.4    76.15    72.88   \n3            A Count  1737.00  1616.00  1549.00  1556.0  1491.00  1437.00   \n4            B Count  1172.00  1245.00  1155.00  1184.0  1106.00  1095.00   \n5            C Count  1204.00  1235.00  1146.00  1170.0  1184.00  1099.00   \n6            D Count   841.00   822.00   770.00   733.0   797.00   685.00   \n7            U Count     0.00     0.00   378.00   409.0   387.00   666.00   \n\n       535      540      545      550      560      565      570      575  \\\n0  4884.00  4962.00  5008.00  4963.00  4990.00  5048.00  5027.00  4907.00   \n1  3763.00  3894.00  3387.00  3857.00  3827.00  3878.00  3339.00  3772.00   \n2    77.05    78.48    67.63    77.72    76.69    76.82    66.42    76.87   \n3  1496.00  1586.00  1366.00  1577.00  1560.00  1592.00  1332.00  1533.00   \n4  1158.00  1131.00   989.00  1171.00  1136.00  1137.00  1003.00  1141.00   \n5  1109.00  1177.00  1032.00  1109.00  1131.00  1149.00  1004.00  1098.00   \n6   744.00   700.00   617.00   716.00   784.00   760.00   691.00   773.00   \n7   377.00   368.00  1004.00   390.00   379.00   410.00   997.00   362.00   \n\n       580     585      590      595  \n0  4963.00  5041.0  5074.00  4943.00  \n1  3595.00  3917.0  3880.00  3823.00  \n2    72.44    77.7    76.47    77.34  \n3  1511.00  1567.0  1580.00  1542.00  \n4  1030.00  1148.0  1147.00  1141.00  \n5  1054.00  1202.0  1153.00  1140.00  \n6   692.00   734.0   801.00   725.00  \n7   676.00   390.0   393.00   395.00  ",
      "text/html": "<div>\n<style scoped>\n    .dataframe tbody tr th:only-of-type {\n        vertical-align: middle;\n    }\n\n    .dataframe tbody tr th {\n        vertical-align: top;\n    }\n\n    .dataframe thead th {\n        text-align: right;\n    }\n</style>\n<table border=\"1\" class=\"dataframe\">\n  <thead>\n    <tr style=\"text-align: right;\">\n      <th></th>\n      <th>Stats</th>\n      <th>505</th>\n      <th>510</th>\n      <th>515</th>\n      <th>520</th>\n      <th>525</th>\n      <th>530</th>\n      <th>535</th>\n      <th>540</th>\n      <th>545</th>\n      <th>550</th>\n      <th>560</th>\n      <th>565</th>\n      <th>570</th>\n      <th>575</th>\n      <th>580</th>\n      <th>585</th>\n      <th>590</th>\n      <th>595</th>\n    </tr>\n  </thead>\n  <tbody>\n    <tr>\n      <th>0</th>\n      <td>Number Registered</td>\n      <td>4954.00</td>\n      <td>4918.00</td>\n      <td>4998.00</td>\n      <td>5052.0</td>\n      <td>4965.00</td>\n      <td>4982.00</td>\n      <td>4884.00</td>\n      <td>4962.00</td>\n      <td>5008.00</td>\n      <td>4963.00</td>\n      <td>4990.00</td>\n      <td>5048.00</td>\n      <td>5027.00</td>\n      <td>4907.00</td>\n      <td>4963.00</td>\n      <td>5041.0</td>\n      <td>5074.00</td>\n      <td>4943.00</td>\n    </tr>\n    <tr>\n      <th>1</th>\n      <td>Number Passed</td>\n      <td>4113.00</td>\n      <td>4096.00</td>\n      <td>3850.00</td>\n      <td>3910.0</td>\n      <td>3781.00</td>\n      <td>3631.00</td>\n      <td>3763.00</td>\n      <td>3894.00</td>\n      <td>3387.00</td>\n      <td>3857.00</td>\n      <td>3827.00</td>\n      <td>3878.00</td>\n      <td>3339.00</td>\n      <td>3772.00</td>\n      <td>3595.00</td>\n      <td>3917.0</td>\n      <td>3880.00</td>\n      <td>3823.00</td>\n    </tr>\n    <tr>\n      <th>2</th>\n      <td>% Passed</td>\n      <td>83.02</td>\n      <td>83.29</td>\n      <td>77.03</td>\n      <td>77.4</td>\n      <td>76.15</td>\n      <td>72.88</td>\n      <td>77.05</td>\n      <td>78.48</td>\n      <td>67.63</td>\n      <td>77.72</td>\n      <td>76.69</td>\n      <td>76.82</td>\n      <td>66.42</td>\n      <td>76.87</td>\n      <td>72.44</td>\n      <td>77.7</td>\n      <td>76.47</td>\n      <td>77.34</td>\n    </tr>\n    <tr>\n      <th>3</th>\n      <td>A Count</td>\n      <td>1737.00</td>\n      <td>1616.00</td>\n      <td>1549.00</td>\n      <td>1556.0</td>\n      <td>1491.00</td>\n      <td>1437.00</td>\n      <td>1496.00</td>\n      <td>1586.00</td>\n      <td>1366.00</td>\n      <td>1577.00</td>\n      <td>1560.00</td>\n      <td>1592.00</td>\n      <td>1332.00</td>\n      <td>1533.00</td>\n      <td>1511.00</td>\n      <td>1567.0</td>\n      <td>1580.00</td>\n      <td>1542.00</td>\n    </tr>\n    <tr>\n      <th>4</th>\n      <td>B Count</td>\n      <td>1172.00</td>\n      <td>1245.00</td>\n      <td>1155.00</td>\n      <td>1184.0</td>\n      <td>1106.00</td>\n      <td>1095.00</td>\n      <td>1158.00</td>\n      <td>1131.00</td>\n      <td>989.00</td>\n      <td>1171.00</td>\n      <td>1136.00</td>\n      <td>1137.00</td>\n      <td>1003.00</td>\n      <td>1141.00</td>\n      <td>1030.00</td>\n      <td>1148.0</td>\n      <td>1147.00</td>\n      <td>1141.00</td>\n    </tr>\n    <tr>\n      <th>5</th>\n      <td>C Count</td>\n      <td>1204.00</td>\n      <td>1235.00</td>\n      <td>1146.00</td>\n      <td>1170.0</td>\n      <td>1184.00</td>\n      <td>1099.00</td>\n      <td>1109.00</td>\n      <td>1177.00</td>\n      <td>1032.00</td>\n      <td>1109.00</td>\n      <td>1131.00</td>\n      <td>1149.00</td>\n      <td>1004.00</td>\n      <td>1098.00</td>\n      <td>1054.00</td>\n      <td>1202.0</td>\n      <td>1153.00</td>\n      <td>1140.00</td>\n    </tr>\n    <tr>\n      <th>6</th>\n      <td>D Count</td>\n      <td>841.00</td>\n      <td>822.00</td>\n      <td>770.00</td>\n      <td>733.0</td>\n      <td>797.00</td>\n      <td>685.00</td>\n      <td>744.00</td>\n      <td>700.00</td>\n      <td>617.00</td>\n      <td>716.00</td>\n      <td>784.00</td>\n      <td>760.00</td>\n      <td>691.00</td>\n      <td>773.00</td>\n      <td>692.00</td>\n      <td>734.0</td>\n      <td>801.00</td>\n      <td>725.00</td>\n    </tr>\n    <tr>\n      <th>7</th>\n      <td>U Count</td>\n      <td>0.00</td>\n      <td>0.00</td>\n      <td>378.00</td>\n      <td>409.0</td>\n      <td>387.00</td>\n      <td>666.00</td>\n      <td>377.00</td>\n      <td>368.00</td>\n      <td>1004.00</td>\n      <td>390.00</td>\n      <td>379.00</td>\n      <td>410.00</td>\n      <td>997.00</td>\n      <td>362.00</td>\n      <td>676.00</td>\n      <td>390.0</td>\n      <td>393.00</td>\n      <td>395.00</td>\n    </tr>\n  </tbody>\n</table>\n</div>"
     },
     "metadata": {},
     "output_type": "execute_result",
     "execution_count": 24
    }
   ],
   "source": [
    "# Statistics of 2015 for centre No 1131\n",
    "print(\"Statistics of 2015 for centre No 1131\")\n",
    "center_no_1131_2015 = generate_center_stats_by_year(df_main2015, \"1131\")\n",
    "center_no_1131_2015_stats = build_subject_stats_dataframe_by_year(center_no_1131_2015)\n",
    "center_no_1131_2015_stats"
   ],
   "metadata": {
    "collapsed": false,
    "pycharm": {
     "name": "#%%\n",
     "is_executing": false
    }
   }
  },
  {
   "cell_type": "code",
   "execution_count": 25,
   "outputs": [
    {
     "name": "stdout",
     "text": [
      "Statistics of 2015 for centre No 1135\n"
     ],
     "output_type": "stream"
    },
    {
     "data": {
      "text/plain": "               Stats      505      510      515      520      525      530  \\\n0  Number Registered  4993.00  5033.00  4915.00  4840.00  5000.00  4944.00   \n1      Number Passed  4187.00  4174.00  3800.00  3713.00  3819.00  3516.00   \n2           % Passed    83.86    82.93    77.31    76.71    76.38    71.12   \n3            A Count  1677.00  1684.00  1523.00  1454.00  1523.00  1363.00   \n4            B Count  1252.00  1215.00  1143.00  1115.00  1140.00  1064.00   \n5            C Count  1258.00  1275.00  1134.00  1144.00  1156.00  1089.00   \n6            D Count   806.00   859.00   767.00   762.00   788.00   734.00   \n7            U Count     0.00     0.00   348.00   365.00   393.00   694.00   \n\n       535      540      545      550      560      565     570      575  \\\n0  4972.00  4923.00  5108.00  5002.00  4981.00  5009.00  5093.0  5030.00   \n1  3846.00  3763.00  3376.00  3875.00  3857.00  3833.00  3407.0  3851.00   \n2    77.35    76.44    66.09    77.47    77.43    76.52    66.9    76.56   \n3  1525.00  1507.00  1357.00  1583.00  1522.00  1509.00  1384.0  1507.00   \n4  1162.00  1164.00   985.00  1168.00  1182.00  1163.00   963.0  1207.00   \n5  1159.00  1092.00  1034.00  1124.00  1153.00  1161.00  1060.0  1137.00   \n6   737.00   768.00   731.00   764.00   755.00   786.00   655.0   783.00   \n7   389.00   392.00  1001.00   363.00   369.00   390.00  1031.0   396.00   \n\n       580      585      590      595  \n0  5039.00  5054.00  5003.00  4957.00  \n1  3659.00  3875.00  3847.00  3829.00  \n2    72.61    76.67    76.89    77.24  \n3  1462.00  1610.00  1538.00  1561.00  \n4  1092.00  1155.00  1137.00  1118.00  \n5  1105.00  1110.00  1172.00  1150.00  \n6   688.00   778.00   798.00   758.00  \n7   692.00   401.00   358.00   370.00  ",
      "text/html": "<div>\n<style scoped>\n    .dataframe tbody tr th:only-of-type {\n        vertical-align: middle;\n    }\n\n    .dataframe tbody tr th {\n        vertical-align: top;\n    }\n\n    .dataframe thead th {\n        text-align: right;\n    }\n</style>\n<table border=\"1\" class=\"dataframe\">\n  <thead>\n    <tr style=\"text-align: right;\">\n      <th></th>\n      <th>Stats</th>\n      <th>505</th>\n      <th>510</th>\n      <th>515</th>\n      <th>520</th>\n      <th>525</th>\n      <th>530</th>\n      <th>535</th>\n      <th>540</th>\n      <th>545</th>\n      <th>550</th>\n      <th>560</th>\n      <th>565</th>\n      <th>570</th>\n      <th>575</th>\n      <th>580</th>\n      <th>585</th>\n      <th>590</th>\n      <th>595</th>\n    </tr>\n  </thead>\n  <tbody>\n    <tr>\n      <th>0</th>\n      <td>Number Registered</td>\n      <td>4993.00</td>\n      <td>5033.00</td>\n      <td>4915.00</td>\n      <td>4840.00</td>\n      <td>5000.00</td>\n      <td>4944.00</td>\n      <td>4972.00</td>\n      <td>4923.00</td>\n      <td>5108.00</td>\n      <td>5002.00</td>\n      <td>4981.00</td>\n      <td>5009.00</td>\n      <td>5093.0</td>\n      <td>5030.00</td>\n      <td>5039.00</td>\n      <td>5054.00</td>\n      <td>5003.00</td>\n      <td>4957.00</td>\n    </tr>\n    <tr>\n      <th>1</th>\n      <td>Number Passed</td>\n      <td>4187.00</td>\n      <td>4174.00</td>\n      <td>3800.00</td>\n      <td>3713.00</td>\n      <td>3819.00</td>\n      <td>3516.00</td>\n      <td>3846.00</td>\n      <td>3763.00</td>\n      <td>3376.00</td>\n      <td>3875.00</td>\n      <td>3857.00</td>\n      <td>3833.00</td>\n      <td>3407.0</td>\n      <td>3851.00</td>\n      <td>3659.00</td>\n      <td>3875.00</td>\n      <td>3847.00</td>\n      <td>3829.00</td>\n    </tr>\n    <tr>\n      <th>2</th>\n      <td>% Passed</td>\n      <td>83.86</td>\n      <td>82.93</td>\n      <td>77.31</td>\n      <td>76.71</td>\n      <td>76.38</td>\n      <td>71.12</td>\n      <td>77.35</td>\n      <td>76.44</td>\n      <td>66.09</td>\n      <td>77.47</td>\n      <td>77.43</td>\n      <td>76.52</td>\n      <td>66.9</td>\n      <td>76.56</td>\n      <td>72.61</td>\n      <td>76.67</td>\n      <td>76.89</td>\n      <td>77.24</td>\n    </tr>\n    <tr>\n      <th>3</th>\n      <td>A Count</td>\n      <td>1677.00</td>\n      <td>1684.00</td>\n      <td>1523.00</td>\n      <td>1454.00</td>\n      <td>1523.00</td>\n      <td>1363.00</td>\n      <td>1525.00</td>\n      <td>1507.00</td>\n      <td>1357.00</td>\n      <td>1583.00</td>\n      <td>1522.00</td>\n      <td>1509.00</td>\n      <td>1384.0</td>\n      <td>1507.00</td>\n      <td>1462.00</td>\n      <td>1610.00</td>\n      <td>1538.00</td>\n      <td>1561.00</td>\n    </tr>\n    <tr>\n      <th>4</th>\n      <td>B Count</td>\n      <td>1252.00</td>\n      <td>1215.00</td>\n      <td>1143.00</td>\n      <td>1115.00</td>\n      <td>1140.00</td>\n      <td>1064.00</td>\n      <td>1162.00</td>\n      <td>1164.00</td>\n      <td>985.00</td>\n      <td>1168.00</td>\n      <td>1182.00</td>\n      <td>1163.00</td>\n      <td>963.0</td>\n      <td>1207.00</td>\n      <td>1092.00</td>\n      <td>1155.00</td>\n      <td>1137.00</td>\n      <td>1118.00</td>\n    </tr>\n    <tr>\n      <th>5</th>\n      <td>C Count</td>\n      <td>1258.00</td>\n      <td>1275.00</td>\n      <td>1134.00</td>\n      <td>1144.00</td>\n      <td>1156.00</td>\n      <td>1089.00</td>\n      <td>1159.00</td>\n      <td>1092.00</td>\n      <td>1034.00</td>\n      <td>1124.00</td>\n      <td>1153.00</td>\n      <td>1161.00</td>\n      <td>1060.0</td>\n      <td>1137.00</td>\n      <td>1105.00</td>\n      <td>1110.00</td>\n      <td>1172.00</td>\n      <td>1150.00</td>\n    </tr>\n    <tr>\n      <th>6</th>\n      <td>D Count</td>\n      <td>806.00</td>\n      <td>859.00</td>\n      <td>767.00</td>\n      <td>762.00</td>\n      <td>788.00</td>\n      <td>734.00</td>\n      <td>737.00</td>\n      <td>768.00</td>\n      <td>731.00</td>\n      <td>764.00</td>\n      <td>755.00</td>\n      <td>786.00</td>\n      <td>655.0</td>\n      <td>783.00</td>\n      <td>688.00</td>\n      <td>778.00</td>\n      <td>798.00</td>\n      <td>758.00</td>\n    </tr>\n    <tr>\n      <th>7</th>\n      <td>U Count</td>\n      <td>0.00</td>\n      <td>0.00</td>\n      <td>348.00</td>\n      <td>365.00</td>\n      <td>393.00</td>\n      <td>694.00</td>\n      <td>389.00</td>\n      <td>392.00</td>\n      <td>1001.00</td>\n      <td>363.00</td>\n      <td>369.00</td>\n      <td>390.00</td>\n      <td>1031.0</td>\n      <td>396.00</td>\n      <td>692.00</td>\n      <td>401.00</td>\n      <td>358.00</td>\n      <td>370.00</td>\n    </tr>\n  </tbody>\n</table>\n</div>"
     },
     "metadata": {},
     "output_type": "execute_result",
     "execution_count": 25
    }
   ],
   "source": [
    "# Statistics of 2015 for centre No 1135\n",
    "print(\"Statistics of 2015 for centre No 1135\")\n",
    "center_no_1135_2015 = generate_center_stats_by_year(df_main2015, \"1135\")\n",
    "center_no_1135_2015_stats = build_subject_stats_dataframe_by_year(center_no_1135_2015)\n",
    "center_no_1135_2015_stats"
   ],
   "metadata": {
    "collapsed": false,
    "pycharm": {
     "name": "#%%\n",
     "is_executing": false
    }
   }
  },
  {
   "cell_type": "code",
   "execution_count": 26,
   "outputs": [
    {
     "name": "stdout",
     "text": [
      "Statistics of 2015 for centre No 1146\n"
     ],
     "output_type": "stream"
    },
    {
     "data": {
      "text/plain": "               Stats     505      510      515      520      525      530  \\\n0  Number Registered  4993.0  5052.00  5070.00  4999.00  5073.00  5205.00   \n1      Number Passed  4154.0  4232.00  3855.00  3840.00  3903.00  3759.00   \n2           % Passed    83.2    83.77    76.04    76.82    76.94    72.22   \n3            A Count  1671.0  1650.00  1501.00  1554.00  1595.00  1477.00   \n4            B Count  1241.0  1323.00  1248.00  1101.00  1161.00  1125.00   \n5            C Count  1242.0  1259.00  1106.00  1185.00  1147.00  1157.00   \n6            D Count   839.0   820.00   803.00   781.00   754.00   734.00   \n7            U Count     0.0     0.00   412.00   378.00   416.00   712.00   \n\n       535      540      545      550      560      565      570      575  \\\n0  4990.00  5073.00  5038.00  5017.00  5096.00  5024.00  5083.00  5115.00   \n1  3838.00  3854.00  3361.00  3879.00  3913.00  3851.00  3394.00  3925.00   \n2    76.91    75.97    66.71    77.32    76.79    76.65    66.77    76.74   \n3  1556.00  1555.00  1377.00  1529.00  1569.00  1573.00  1372.00  1581.00   \n4  1106.00  1150.00  1007.00  1158.00  1190.00  1150.00  1017.00  1179.00   \n5  1176.00  1149.00   977.00  1192.00  1154.00  1128.00  1005.00  1165.00   \n6   807.00   803.00   678.00   742.00   779.00   789.00   654.00   802.00   \n7   345.00   416.00   999.00   396.00   404.00   384.00  1035.00   388.00   \n\n       580      585      590      595  \n0  5058.00  5039.00  5108.00  4971.00  \n1  3598.00  3881.00  3926.00  3865.00  \n2    71.13    77.02    76.86    77.75  \n3  1432.00  1539.00  1507.00  1559.00  \n4  1099.00  1160.00  1191.00  1155.00  \n5  1067.00  1182.00  1228.00  1151.00  \n6   739.00   785.00   805.00   730.00  \n7   721.00   373.00   377.00   376.00  ",
      "text/html": "<div>\n<style scoped>\n    .dataframe tbody tr th:only-of-type {\n        vertical-align: middle;\n    }\n\n    .dataframe tbody tr th {\n        vertical-align: top;\n    }\n\n    .dataframe thead th {\n        text-align: right;\n    }\n</style>\n<table border=\"1\" class=\"dataframe\">\n  <thead>\n    <tr style=\"text-align: right;\">\n      <th></th>\n      <th>Stats</th>\n      <th>505</th>\n      <th>510</th>\n      <th>515</th>\n      <th>520</th>\n      <th>525</th>\n      <th>530</th>\n      <th>535</th>\n      <th>540</th>\n      <th>545</th>\n      <th>550</th>\n      <th>560</th>\n      <th>565</th>\n      <th>570</th>\n      <th>575</th>\n      <th>580</th>\n      <th>585</th>\n      <th>590</th>\n      <th>595</th>\n    </tr>\n  </thead>\n  <tbody>\n    <tr>\n      <th>0</th>\n      <td>Number Registered</td>\n      <td>4993.0</td>\n      <td>5052.00</td>\n      <td>5070.00</td>\n      <td>4999.00</td>\n      <td>5073.00</td>\n      <td>5205.00</td>\n      <td>4990.00</td>\n      <td>5073.00</td>\n      <td>5038.00</td>\n      <td>5017.00</td>\n      <td>5096.00</td>\n      <td>5024.00</td>\n      <td>5083.00</td>\n      <td>5115.00</td>\n      <td>5058.00</td>\n      <td>5039.00</td>\n      <td>5108.00</td>\n      <td>4971.00</td>\n    </tr>\n    <tr>\n      <th>1</th>\n      <td>Number Passed</td>\n      <td>4154.0</td>\n      <td>4232.00</td>\n      <td>3855.00</td>\n      <td>3840.00</td>\n      <td>3903.00</td>\n      <td>3759.00</td>\n      <td>3838.00</td>\n      <td>3854.00</td>\n      <td>3361.00</td>\n      <td>3879.00</td>\n      <td>3913.00</td>\n      <td>3851.00</td>\n      <td>3394.00</td>\n      <td>3925.00</td>\n      <td>3598.00</td>\n      <td>3881.00</td>\n      <td>3926.00</td>\n      <td>3865.00</td>\n    </tr>\n    <tr>\n      <th>2</th>\n      <td>% Passed</td>\n      <td>83.2</td>\n      <td>83.77</td>\n      <td>76.04</td>\n      <td>76.82</td>\n      <td>76.94</td>\n      <td>72.22</td>\n      <td>76.91</td>\n      <td>75.97</td>\n      <td>66.71</td>\n      <td>77.32</td>\n      <td>76.79</td>\n      <td>76.65</td>\n      <td>66.77</td>\n      <td>76.74</td>\n      <td>71.13</td>\n      <td>77.02</td>\n      <td>76.86</td>\n      <td>77.75</td>\n    </tr>\n    <tr>\n      <th>3</th>\n      <td>A Count</td>\n      <td>1671.0</td>\n      <td>1650.00</td>\n      <td>1501.00</td>\n      <td>1554.00</td>\n      <td>1595.00</td>\n      <td>1477.00</td>\n      <td>1556.00</td>\n      <td>1555.00</td>\n      <td>1377.00</td>\n      <td>1529.00</td>\n      <td>1569.00</td>\n      <td>1573.00</td>\n      <td>1372.00</td>\n      <td>1581.00</td>\n      <td>1432.00</td>\n      <td>1539.00</td>\n      <td>1507.00</td>\n      <td>1559.00</td>\n    </tr>\n    <tr>\n      <th>4</th>\n      <td>B Count</td>\n      <td>1241.0</td>\n      <td>1323.00</td>\n      <td>1248.00</td>\n      <td>1101.00</td>\n      <td>1161.00</td>\n      <td>1125.00</td>\n      <td>1106.00</td>\n      <td>1150.00</td>\n      <td>1007.00</td>\n      <td>1158.00</td>\n      <td>1190.00</td>\n      <td>1150.00</td>\n      <td>1017.00</td>\n      <td>1179.00</td>\n      <td>1099.00</td>\n      <td>1160.00</td>\n      <td>1191.00</td>\n      <td>1155.00</td>\n    </tr>\n    <tr>\n      <th>5</th>\n      <td>C Count</td>\n      <td>1242.0</td>\n      <td>1259.00</td>\n      <td>1106.00</td>\n      <td>1185.00</td>\n      <td>1147.00</td>\n      <td>1157.00</td>\n      <td>1176.00</td>\n      <td>1149.00</td>\n      <td>977.00</td>\n      <td>1192.00</td>\n      <td>1154.00</td>\n      <td>1128.00</td>\n      <td>1005.00</td>\n      <td>1165.00</td>\n      <td>1067.00</td>\n      <td>1182.00</td>\n      <td>1228.00</td>\n      <td>1151.00</td>\n    </tr>\n    <tr>\n      <th>6</th>\n      <td>D Count</td>\n      <td>839.0</td>\n      <td>820.00</td>\n      <td>803.00</td>\n      <td>781.00</td>\n      <td>754.00</td>\n      <td>734.00</td>\n      <td>807.00</td>\n      <td>803.00</td>\n      <td>678.00</td>\n      <td>742.00</td>\n      <td>779.00</td>\n      <td>789.00</td>\n      <td>654.00</td>\n      <td>802.00</td>\n      <td>739.00</td>\n      <td>785.00</td>\n      <td>805.00</td>\n      <td>730.00</td>\n    </tr>\n    <tr>\n      <th>7</th>\n      <td>U Count</td>\n      <td>0.0</td>\n      <td>0.00</td>\n      <td>412.00</td>\n      <td>378.00</td>\n      <td>416.00</td>\n      <td>712.00</td>\n      <td>345.00</td>\n      <td>416.00</td>\n      <td>999.00</td>\n      <td>396.00</td>\n      <td>404.00</td>\n      <td>384.00</td>\n      <td>1035.00</td>\n      <td>388.00</td>\n      <td>721.00</td>\n      <td>373.00</td>\n      <td>377.00</td>\n      <td>376.00</td>\n    </tr>\n  </tbody>\n</table>\n</div>"
     },
     "metadata": {},
     "output_type": "execute_result",
     "execution_count": 26
    }
   ],
   "source": [
    "# Statistics of 2015 for centre No 1146\n",
    "print(\"Statistics of 2015 for centre No 1146\")\n",
    "center_no_1146_2015 = generate_center_stats_by_year(df_main2015, \"1146\")\n",
    "center_no_1146_2015_stats = build_subject_stats_dataframe_by_year(center_no_1146_2015)\n",
    "center_no_1146_2015_stats"
   ],
   "metadata": {
    "collapsed": false,
    "pycharm": {
     "name": "#%%\n",
     "is_executing": false
    }
   }
  },
  {
   "cell_type": "code",
   "execution_count": 27,
   "outputs": [
    {
     "name": "stdout",
     "text": [
      "Statistics of 2015 for centre No 1175\n"
     ],
     "output_type": "stream"
    },
    {
     "data": {
      "text/plain": "               Stats      505      510      515      520      525      530  \\\n0  Number Registered  4999.00  4997.00  5020.00  4967.00  4921.00  5012.00   \n1      Number Passed  4155.00  4144.00  3870.00  3782.00  3782.00  3593.00   \n2           % Passed    83.12    82.93    77.09    76.14    76.85    71.69   \n3            A Count  1687.00  1721.00  1550.00  1533.00  1511.00  1486.00   \n4            B Count  1250.00  1205.00  1207.00  1072.00  1134.00  1047.00   \n5            C Count  1218.00  1218.00  1113.00  1177.00  1137.00  1060.00   \n6            D Count   844.00   853.00   768.00   806.00   757.00   699.00   \n7            U Count     0.00     0.00   382.00   379.00   382.00   720.00   \n\n       535      540      545      550      560      565      570      575  \\\n0  5013.00  4978.00  4988.00  5025.00  4980.00  4909.00  4943.00  4984.00   \n1  3892.00  3847.00  3333.00  3910.00  3822.00  3760.00  3333.00  3875.00   \n2    77.64    77.28    66.82    77.81    76.75    76.59    67.43    77.75   \n3  1516.00  1566.00  1313.00  1612.00  1552.00  1504.00  1369.00  1562.00   \n4  1175.00  1159.00  1008.00  1121.00  1145.00  1164.00   954.00  1137.00   \n5  1201.00  1122.00  1012.00  1177.00  1125.00  1092.00  1010.00  1176.00   \n6   753.00   741.00   675.00   722.00   774.00   782.00   679.00   727.00   \n7   368.00   390.00   980.00   393.00   384.00   367.00   931.00   382.00   \n\n       580      585      590      595  \n0  4942.00  5047.00  4907.00  5047.00  \n1  3549.00  3870.00  3738.00  3863.00  \n2    71.81    76.68    76.18    76.54  \n3  1441.00  1464.00  1520.00  1561.00  \n4  1064.00  1198.00  1168.00  1165.00  \n5  1044.00  1208.00  1050.00  1137.00  \n6   678.00   803.00   788.00   792.00  \n7   715.00   374.00   381.00   392.00  ",
      "text/html": "<div>\n<style scoped>\n    .dataframe tbody tr th:only-of-type {\n        vertical-align: middle;\n    }\n\n    .dataframe tbody tr th {\n        vertical-align: top;\n    }\n\n    .dataframe thead th {\n        text-align: right;\n    }\n</style>\n<table border=\"1\" class=\"dataframe\">\n  <thead>\n    <tr style=\"text-align: right;\">\n      <th></th>\n      <th>Stats</th>\n      <th>505</th>\n      <th>510</th>\n      <th>515</th>\n      <th>520</th>\n      <th>525</th>\n      <th>530</th>\n      <th>535</th>\n      <th>540</th>\n      <th>545</th>\n      <th>550</th>\n      <th>560</th>\n      <th>565</th>\n      <th>570</th>\n      <th>575</th>\n      <th>580</th>\n      <th>585</th>\n      <th>590</th>\n      <th>595</th>\n    </tr>\n  </thead>\n  <tbody>\n    <tr>\n      <th>0</th>\n      <td>Number Registered</td>\n      <td>4999.00</td>\n      <td>4997.00</td>\n      <td>5020.00</td>\n      <td>4967.00</td>\n      <td>4921.00</td>\n      <td>5012.00</td>\n      <td>5013.00</td>\n      <td>4978.00</td>\n      <td>4988.00</td>\n      <td>5025.00</td>\n      <td>4980.00</td>\n      <td>4909.00</td>\n      <td>4943.00</td>\n      <td>4984.00</td>\n      <td>4942.00</td>\n      <td>5047.00</td>\n      <td>4907.00</td>\n      <td>5047.00</td>\n    </tr>\n    <tr>\n      <th>1</th>\n      <td>Number Passed</td>\n      <td>4155.00</td>\n      <td>4144.00</td>\n      <td>3870.00</td>\n      <td>3782.00</td>\n      <td>3782.00</td>\n      <td>3593.00</td>\n      <td>3892.00</td>\n      <td>3847.00</td>\n      <td>3333.00</td>\n      <td>3910.00</td>\n      <td>3822.00</td>\n      <td>3760.00</td>\n      <td>3333.00</td>\n      <td>3875.00</td>\n      <td>3549.00</td>\n      <td>3870.00</td>\n      <td>3738.00</td>\n      <td>3863.00</td>\n    </tr>\n    <tr>\n      <th>2</th>\n      <td>% Passed</td>\n      <td>83.12</td>\n      <td>82.93</td>\n      <td>77.09</td>\n      <td>76.14</td>\n      <td>76.85</td>\n      <td>71.69</td>\n      <td>77.64</td>\n      <td>77.28</td>\n      <td>66.82</td>\n      <td>77.81</td>\n      <td>76.75</td>\n      <td>76.59</td>\n      <td>67.43</td>\n      <td>77.75</td>\n      <td>71.81</td>\n      <td>76.68</td>\n      <td>76.18</td>\n      <td>76.54</td>\n    </tr>\n    <tr>\n      <th>3</th>\n      <td>A Count</td>\n      <td>1687.00</td>\n      <td>1721.00</td>\n      <td>1550.00</td>\n      <td>1533.00</td>\n      <td>1511.00</td>\n      <td>1486.00</td>\n      <td>1516.00</td>\n      <td>1566.00</td>\n      <td>1313.00</td>\n      <td>1612.00</td>\n      <td>1552.00</td>\n      <td>1504.00</td>\n      <td>1369.00</td>\n      <td>1562.00</td>\n      <td>1441.00</td>\n      <td>1464.00</td>\n      <td>1520.00</td>\n      <td>1561.00</td>\n    </tr>\n    <tr>\n      <th>4</th>\n      <td>B Count</td>\n      <td>1250.00</td>\n      <td>1205.00</td>\n      <td>1207.00</td>\n      <td>1072.00</td>\n      <td>1134.00</td>\n      <td>1047.00</td>\n      <td>1175.00</td>\n      <td>1159.00</td>\n      <td>1008.00</td>\n      <td>1121.00</td>\n      <td>1145.00</td>\n      <td>1164.00</td>\n      <td>954.00</td>\n      <td>1137.00</td>\n      <td>1064.00</td>\n      <td>1198.00</td>\n      <td>1168.00</td>\n      <td>1165.00</td>\n    </tr>\n    <tr>\n      <th>5</th>\n      <td>C Count</td>\n      <td>1218.00</td>\n      <td>1218.00</td>\n      <td>1113.00</td>\n      <td>1177.00</td>\n      <td>1137.00</td>\n      <td>1060.00</td>\n      <td>1201.00</td>\n      <td>1122.00</td>\n      <td>1012.00</td>\n      <td>1177.00</td>\n      <td>1125.00</td>\n      <td>1092.00</td>\n      <td>1010.00</td>\n      <td>1176.00</td>\n      <td>1044.00</td>\n      <td>1208.00</td>\n      <td>1050.00</td>\n      <td>1137.00</td>\n    </tr>\n    <tr>\n      <th>6</th>\n      <td>D Count</td>\n      <td>844.00</td>\n      <td>853.00</td>\n      <td>768.00</td>\n      <td>806.00</td>\n      <td>757.00</td>\n      <td>699.00</td>\n      <td>753.00</td>\n      <td>741.00</td>\n      <td>675.00</td>\n      <td>722.00</td>\n      <td>774.00</td>\n      <td>782.00</td>\n      <td>679.00</td>\n      <td>727.00</td>\n      <td>678.00</td>\n      <td>803.00</td>\n      <td>788.00</td>\n      <td>792.00</td>\n    </tr>\n    <tr>\n      <th>7</th>\n      <td>U Count</td>\n      <td>0.00</td>\n      <td>0.00</td>\n      <td>382.00</td>\n      <td>379.00</td>\n      <td>382.00</td>\n      <td>720.00</td>\n      <td>368.00</td>\n      <td>390.00</td>\n      <td>980.00</td>\n      <td>393.00</td>\n      <td>384.00</td>\n      <td>367.00</td>\n      <td>931.00</td>\n      <td>382.00</td>\n      <td>715.00</td>\n      <td>374.00</td>\n      <td>381.00</td>\n      <td>392.00</td>\n    </tr>\n  </tbody>\n</table>\n</div>"
     },
     "metadata": {},
     "output_type": "execute_result",
     "execution_count": 27
    }
   ],
   "source": [
    "# Statistics of 2015 for centre No 1175\n",
    "print(\"Statistics of 2015 for centre No 1175\")\n",
    "center_no_1175_2015 = generate_center_stats_by_year(df_main2015, \"1175\")\n",
    "center_no_1175_2015_stats = build_subject_stats_dataframe_by_year(center_no_1175_2015)\n",
    "center_no_1175_2015_stats"
   ],
   "metadata": {
    "collapsed": false,
    "pycharm": {
     "name": "#%%\n",
     "is_executing": false
    }
   }
  },
  {
   "cell_type": "code",
   "execution_count": 28,
   "outputs": [
    {
     "name": "stdout",
     "text": [
      "Statistics of 2015 for centre No 1176\n"
     ],
     "output_type": "stream"
    },
    {
     "data": {
      "text/plain": "               Stats      505      510      515      520      525      530  \\\n0  Number Registered  5008.00  4984.00  5021.00  4962.00  4926.00  5003.00   \n1      Number Passed  4155.00  4164.00  3874.00  3832.00  3843.00  3504.00   \n2           % Passed    82.97    83.55    77.16    77.23    78.01    70.04   \n3            A Count  1684.00  1715.00  1557.00  1583.00  1552.00  1412.00   \n4            B Count  1240.00  1223.00  1180.00  1136.00  1162.00  1046.00   \n5            C Count  1231.00  1226.00  1137.00  1113.00  1129.00  1046.00   \n6            D Count   853.00   820.00   775.00   737.00   727.00   762.00   \n7            U Count     0.00     0.00   372.00   393.00   356.00   737.00   \n\n       535     540      545     550     560      565      570      575  \\\n0  4998.00  4995.0  4999.00  5013.0  4992.0  5037.00  4911.00  5039.00   \n1  3835.00  3856.0  3328.00  3875.0  3819.0  3910.00  3286.00  3897.00   \n2    76.73    77.2    66.57    77.3    76.5    77.63    66.91    77.34   \n3  1535.00  1487.0  1319.00  1484.0  1468.0  1596.00  1321.00  1609.00   \n4  1116.00  1173.0   990.00  1161.0  1189.0  1205.00   994.00  1146.00   \n5  1184.00  1196.0  1019.00  1230.0  1162.0  1109.00   971.00  1142.00   \n6   785.00   778.0   676.00   765.0   790.0   783.00   669.00   761.00   \n7   378.00   361.0   995.00   373.0   383.0   344.00   956.00   381.00   \n\n       580      585      590      595  \n0  5001.00  5025.00  5057.00  5041.00  \n1  3560.00  3871.00  3843.00  3911.00  \n2    71.19    77.03    75.99    77.58  \n3  1442.00  1596.00  1566.00  1545.00  \n4  1081.00  1090.00  1090.00  1188.00  \n5  1037.00  1185.00  1187.00  1178.00  \n6   731.00   777.00   782.00   773.00  \n7   710.00   377.00   432.00   357.00  ",
      "text/html": "<div>\n<style scoped>\n    .dataframe tbody tr th:only-of-type {\n        vertical-align: middle;\n    }\n\n    .dataframe tbody tr th {\n        vertical-align: top;\n    }\n\n    .dataframe thead th {\n        text-align: right;\n    }\n</style>\n<table border=\"1\" class=\"dataframe\">\n  <thead>\n    <tr style=\"text-align: right;\">\n      <th></th>\n      <th>Stats</th>\n      <th>505</th>\n      <th>510</th>\n      <th>515</th>\n      <th>520</th>\n      <th>525</th>\n      <th>530</th>\n      <th>535</th>\n      <th>540</th>\n      <th>545</th>\n      <th>550</th>\n      <th>560</th>\n      <th>565</th>\n      <th>570</th>\n      <th>575</th>\n      <th>580</th>\n      <th>585</th>\n      <th>590</th>\n      <th>595</th>\n    </tr>\n  </thead>\n  <tbody>\n    <tr>\n      <th>0</th>\n      <td>Number Registered</td>\n      <td>5008.00</td>\n      <td>4984.00</td>\n      <td>5021.00</td>\n      <td>4962.00</td>\n      <td>4926.00</td>\n      <td>5003.00</td>\n      <td>4998.00</td>\n      <td>4995.0</td>\n      <td>4999.00</td>\n      <td>5013.0</td>\n      <td>4992.0</td>\n      <td>5037.00</td>\n      <td>4911.00</td>\n      <td>5039.00</td>\n      <td>5001.00</td>\n      <td>5025.00</td>\n      <td>5057.00</td>\n      <td>5041.00</td>\n    </tr>\n    <tr>\n      <th>1</th>\n      <td>Number Passed</td>\n      <td>4155.00</td>\n      <td>4164.00</td>\n      <td>3874.00</td>\n      <td>3832.00</td>\n      <td>3843.00</td>\n      <td>3504.00</td>\n      <td>3835.00</td>\n      <td>3856.0</td>\n      <td>3328.00</td>\n      <td>3875.0</td>\n      <td>3819.0</td>\n      <td>3910.00</td>\n      <td>3286.00</td>\n      <td>3897.00</td>\n      <td>3560.00</td>\n      <td>3871.00</td>\n      <td>3843.00</td>\n      <td>3911.00</td>\n    </tr>\n    <tr>\n      <th>2</th>\n      <td>% Passed</td>\n      <td>82.97</td>\n      <td>83.55</td>\n      <td>77.16</td>\n      <td>77.23</td>\n      <td>78.01</td>\n      <td>70.04</td>\n      <td>76.73</td>\n      <td>77.2</td>\n      <td>66.57</td>\n      <td>77.3</td>\n      <td>76.5</td>\n      <td>77.63</td>\n      <td>66.91</td>\n      <td>77.34</td>\n      <td>71.19</td>\n      <td>77.03</td>\n      <td>75.99</td>\n      <td>77.58</td>\n    </tr>\n    <tr>\n      <th>3</th>\n      <td>A Count</td>\n      <td>1684.00</td>\n      <td>1715.00</td>\n      <td>1557.00</td>\n      <td>1583.00</td>\n      <td>1552.00</td>\n      <td>1412.00</td>\n      <td>1535.00</td>\n      <td>1487.0</td>\n      <td>1319.00</td>\n      <td>1484.0</td>\n      <td>1468.0</td>\n      <td>1596.00</td>\n      <td>1321.00</td>\n      <td>1609.00</td>\n      <td>1442.00</td>\n      <td>1596.00</td>\n      <td>1566.00</td>\n      <td>1545.00</td>\n    </tr>\n    <tr>\n      <th>4</th>\n      <td>B Count</td>\n      <td>1240.00</td>\n      <td>1223.00</td>\n      <td>1180.00</td>\n      <td>1136.00</td>\n      <td>1162.00</td>\n      <td>1046.00</td>\n      <td>1116.00</td>\n      <td>1173.0</td>\n      <td>990.00</td>\n      <td>1161.0</td>\n      <td>1189.0</td>\n      <td>1205.00</td>\n      <td>994.00</td>\n      <td>1146.00</td>\n      <td>1081.00</td>\n      <td>1090.00</td>\n      <td>1090.00</td>\n      <td>1188.00</td>\n    </tr>\n    <tr>\n      <th>5</th>\n      <td>C Count</td>\n      <td>1231.00</td>\n      <td>1226.00</td>\n      <td>1137.00</td>\n      <td>1113.00</td>\n      <td>1129.00</td>\n      <td>1046.00</td>\n      <td>1184.00</td>\n      <td>1196.0</td>\n      <td>1019.00</td>\n      <td>1230.0</td>\n      <td>1162.0</td>\n      <td>1109.00</td>\n      <td>971.00</td>\n      <td>1142.00</td>\n      <td>1037.00</td>\n      <td>1185.00</td>\n      <td>1187.00</td>\n      <td>1178.00</td>\n    </tr>\n    <tr>\n      <th>6</th>\n      <td>D Count</td>\n      <td>853.00</td>\n      <td>820.00</td>\n      <td>775.00</td>\n      <td>737.00</td>\n      <td>727.00</td>\n      <td>762.00</td>\n      <td>785.00</td>\n      <td>778.0</td>\n      <td>676.00</td>\n      <td>765.0</td>\n      <td>790.0</td>\n      <td>783.00</td>\n      <td>669.00</td>\n      <td>761.00</td>\n      <td>731.00</td>\n      <td>777.00</td>\n      <td>782.00</td>\n      <td>773.00</td>\n    </tr>\n    <tr>\n      <th>7</th>\n      <td>U Count</td>\n      <td>0.00</td>\n      <td>0.00</td>\n      <td>372.00</td>\n      <td>393.00</td>\n      <td>356.00</td>\n      <td>737.00</td>\n      <td>378.00</td>\n      <td>361.0</td>\n      <td>995.00</td>\n      <td>373.0</td>\n      <td>383.0</td>\n      <td>344.00</td>\n      <td>956.00</td>\n      <td>381.00</td>\n      <td>710.00</td>\n      <td>377.00</td>\n      <td>432.00</td>\n      <td>357.00</td>\n    </tr>\n  </tbody>\n</table>\n</div>"
     },
     "metadata": {},
     "output_type": "execute_result",
     "execution_count": 28
    }
   ],
   "source": [
    "# Statistics of 2015 for centre No 1176\n",
    "print(\"Statistics of 2015 for centre No 1176\")\n",
    "center_no_1176_2015 = generate_center_stats_by_year(df_main2015, \"1176\")\n",
    "center_no_1176_2015_stats = build_subject_stats_dataframe_by_year(center_no_1176_2015)\n",
    "center_no_1176_2015_stats"
   ],
   "metadata": {
    "collapsed": false,
    "pycharm": {
     "name": "#%%\n",
     "is_executing": false
    }
   }
  },
  {
   "cell_type": "code",
   "execution_count": 29,
   "outputs": [
    {
     "name": "stdout",
     "text": [
      "DATAFRAMES FOR 2015 EXAMINATIONS YEAR BY CENTER\n",
      "Print DataFrames for Year 2015\n"
     ],
     "output_type": "stream"
    },
    {
     "data": {
      "text/plain": "                    Student Exam No Center Number Exam Year Student Names  \\\nStudent Exam Number                                                         \nOL1230                       OL1230          1110      2015   njwo0 ngwo0   \nOL1231                       OL1231          1110      2015   njwo1 ngwo1   \nOL1232                       OL1232          1175      2015   njwo2 ngwo2   \nOL1233                       OL1233          1115      2015   njwo3 ngwo3   \nOL1234                       OL1234          1124      2015   njwo4 ngwo4   \nOL1235                       OL1235          1124      2015   njwo5 ngwo5   \nOL1236                       OL1236          1131      2015   njwo6 ngwo6   \nOL1237                       OL1237          1135      2015   njwo7 ngwo7   \nOL1238                       OL1238          1131      2015   njwo8 ngwo8   \nOL1239                       OL1239          1175      2015   njwo9 ngwo9   \n\n                    Gender 505G 510G 515G 520G 525G  ... 565G 570G 575G 580G  \\\nStudent Exam Number                                  ...                       \nOL1230                   M    D    A         D       ...              B        \nOL1231                   M              B    D    C  ...    B    C             \nOL1232                   F    A                      ...    C              B   \nOL1233                   M                        B  ...                       \nOL1234                   F              A    B    A  ...                       \nOL1235                   F    B                   A  ...         U         B   \nOL1236                   M    A              C       ...              B        \nOL1237                   M         A              C  ...         A             \nOL1238                   F              D            ...                   B   \nOL1239                   M              A    C    D  ...         U         A   \n\n                    585G 590G 595G Subjects Registered Subjects Passed Points  \nStudent Exam Number                                                            \nOL1230                           D                   7               3      6  \nOL1231                                               5               4      6  \nOL1232                 B                             6               5     10  \nOL1233                 A                             5               5     13  \nOL1234                           A                   5               5     13  \nOL1235                           A                  10               8     19  \nOL1236                                               6               6     13  \nOL1237                      D                        6               4      8  \nOL1238                      D                        6               3      7  \nOL1239                                               8               5     12  \n\n[10 rows x 26 columns]",
      "text/html": "<div>\n<style scoped>\n    .dataframe tbody tr th:only-of-type {\n        vertical-align: middle;\n    }\n\n    .dataframe tbody tr th {\n        vertical-align: top;\n    }\n\n    .dataframe thead th {\n        text-align: right;\n    }\n</style>\n<table border=\"1\" class=\"dataframe\">\n  <thead>\n    <tr style=\"text-align: right;\">\n      <th></th>\n      <th>Student Exam No</th>\n      <th>Center Number</th>\n      <th>Exam Year</th>\n      <th>Student Names</th>\n      <th>Gender</th>\n      <th>505G</th>\n      <th>510G</th>\n      <th>515G</th>\n      <th>520G</th>\n      <th>525G</th>\n      <th>...</th>\n      <th>565G</th>\n      <th>570G</th>\n      <th>575G</th>\n      <th>580G</th>\n      <th>585G</th>\n      <th>590G</th>\n      <th>595G</th>\n      <th>Subjects Registered</th>\n      <th>Subjects Passed</th>\n      <th>Points</th>\n    </tr>\n    <tr>\n      <th>Student Exam Number</th>\n      <th></th>\n      <th></th>\n      <th></th>\n      <th></th>\n      <th></th>\n      <th></th>\n      <th></th>\n      <th></th>\n      <th></th>\n      <th></th>\n      <th></th>\n      <th></th>\n      <th></th>\n      <th></th>\n      <th></th>\n      <th></th>\n      <th></th>\n      <th></th>\n      <th></th>\n      <th></th>\n      <th></th>\n    </tr>\n  </thead>\n  <tbody>\n    <tr>\n      <th>OL1230</th>\n      <td>OL1230</td>\n      <td>1110</td>\n      <td>2015</td>\n      <td>njwo0 ngwo0</td>\n      <td>M</td>\n      <td>D</td>\n      <td>A</td>\n      <td></td>\n      <td>D</td>\n      <td></td>\n      <td>...</td>\n      <td></td>\n      <td></td>\n      <td>B</td>\n      <td></td>\n      <td></td>\n      <td></td>\n      <td>D</td>\n      <td>7</td>\n      <td>3</td>\n      <td>6</td>\n    </tr>\n    <tr>\n      <th>OL1231</th>\n      <td>OL1231</td>\n      <td>1110</td>\n      <td>2015</td>\n      <td>njwo1 ngwo1</td>\n      <td>M</td>\n      <td></td>\n      <td></td>\n      <td>B</td>\n      <td>D</td>\n      <td>C</td>\n      <td>...</td>\n      <td>B</td>\n      <td>C</td>\n      <td></td>\n      <td></td>\n      <td></td>\n      <td></td>\n      <td></td>\n      <td>5</td>\n      <td>4</td>\n      <td>6</td>\n    </tr>\n    <tr>\n      <th>OL1232</th>\n      <td>OL1232</td>\n      <td>1175</td>\n      <td>2015</td>\n      <td>njwo2 ngwo2</td>\n      <td>F</td>\n      <td>A</td>\n      <td></td>\n      <td></td>\n      <td></td>\n      <td></td>\n      <td>...</td>\n      <td>C</td>\n      <td></td>\n      <td></td>\n      <td>B</td>\n      <td>B</td>\n      <td></td>\n      <td></td>\n      <td>6</td>\n      <td>5</td>\n      <td>10</td>\n    </tr>\n    <tr>\n      <th>OL1233</th>\n      <td>OL1233</td>\n      <td>1115</td>\n      <td>2015</td>\n      <td>njwo3 ngwo3</td>\n      <td>M</td>\n      <td></td>\n      <td></td>\n      <td></td>\n      <td></td>\n      <td>B</td>\n      <td>...</td>\n      <td></td>\n      <td></td>\n      <td></td>\n      <td></td>\n      <td>A</td>\n      <td></td>\n      <td></td>\n      <td>5</td>\n      <td>5</td>\n      <td>13</td>\n    </tr>\n    <tr>\n      <th>OL1234</th>\n      <td>OL1234</td>\n      <td>1124</td>\n      <td>2015</td>\n      <td>njwo4 ngwo4</td>\n      <td>F</td>\n      <td></td>\n      <td></td>\n      <td>A</td>\n      <td>B</td>\n      <td>A</td>\n      <td>...</td>\n      <td></td>\n      <td></td>\n      <td></td>\n      <td></td>\n      <td></td>\n      <td></td>\n      <td>A</td>\n      <td>5</td>\n      <td>5</td>\n      <td>13</td>\n    </tr>\n    <tr>\n      <th>OL1235</th>\n      <td>OL1235</td>\n      <td>1124</td>\n      <td>2015</td>\n      <td>njwo5 ngwo5</td>\n      <td>F</td>\n      <td>B</td>\n      <td></td>\n      <td></td>\n      <td></td>\n      <td>A</td>\n      <td>...</td>\n      <td></td>\n      <td>U</td>\n      <td></td>\n      <td>B</td>\n      <td></td>\n      <td></td>\n      <td>A</td>\n      <td>10</td>\n      <td>8</td>\n      <td>19</td>\n    </tr>\n    <tr>\n      <th>OL1236</th>\n      <td>OL1236</td>\n      <td>1131</td>\n      <td>2015</td>\n      <td>njwo6 ngwo6</td>\n      <td>M</td>\n      <td>A</td>\n      <td></td>\n      <td></td>\n      <td>C</td>\n      <td></td>\n      <td>...</td>\n      <td></td>\n      <td></td>\n      <td>B</td>\n      <td></td>\n      <td></td>\n      <td></td>\n      <td></td>\n      <td>6</td>\n      <td>6</td>\n      <td>13</td>\n    </tr>\n    <tr>\n      <th>OL1237</th>\n      <td>OL1237</td>\n      <td>1135</td>\n      <td>2015</td>\n      <td>njwo7 ngwo7</td>\n      <td>M</td>\n      <td></td>\n      <td>A</td>\n      <td></td>\n      <td></td>\n      <td>C</td>\n      <td>...</td>\n      <td></td>\n      <td>A</td>\n      <td></td>\n      <td></td>\n      <td></td>\n      <td>D</td>\n      <td></td>\n      <td>6</td>\n      <td>4</td>\n      <td>8</td>\n    </tr>\n    <tr>\n      <th>OL1238</th>\n      <td>OL1238</td>\n      <td>1131</td>\n      <td>2015</td>\n      <td>njwo8 ngwo8</td>\n      <td>F</td>\n      <td></td>\n      <td></td>\n      <td>D</td>\n      <td></td>\n      <td></td>\n      <td>...</td>\n      <td></td>\n      <td></td>\n      <td></td>\n      <td>B</td>\n      <td></td>\n      <td>D</td>\n      <td></td>\n      <td>6</td>\n      <td>3</td>\n      <td>7</td>\n    </tr>\n    <tr>\n      <th>OL1239</th>\n      <td>OL1239</td>\n      <td>1175</td>\n      <td>2015</td>\n      <td>njwo9 ngwo9</td>\n      <td>M</td>\n      <td></td>\n      <td></td>\n      <td>A</td>\n      <td>C</td>\n      <td>D</td>\n      <td>...</td>\n      <td></td>\n      <td>U</td>\n      <td></td>\n      <td>A</td>\n      <td></td>\n      <td></td>\n      <td></td>\n      <td>8</td>\n      <td>5</td>\n      <td>12</td>\n    </tr>\n  </tbody>\n</table>\n<p>10 rows × 26 columns</p>\n</div>"
     },
     "metadata": {},
     "output_type": "execute_result",
     "execution_count": 29
    }
   ],
   "source": [
    "# 8. DATAFRAMES FOR 2015 EXAMINATION YEAR BY CENTERS\n",
    "print(\"DATAFRAMES FOR 2015 EXAMINATIONS YEAR BY CENTER\")\n",
    "\n",
    "#DataFrame for Examination Year 2015\n",
    "print(\"Print DataFrames for Year 2015\")\n",
    "df_main2015 = df_main2015.loc[df_main2015['Exam Year'] == '2015']\n",
    "df_main2015.head(10)"
   ],
   "metadata": {
    "collapsed": false,
    "pycharm": {
     "name": "#%%\n",
     "is_executing": false
    }
   }
  },
  {
   "cell_type": "code",
   "execution_count": 30,
   "outputs": [
    {
     "name": "stdout",
     "text": [
      "Print DataFrames for Year Center No 1110\n"
     ],
     "output_type": "stream"
    },
    {
     "data": {
      "text/plain": "                    Student Exam No Center Number Exam Year  Student Names  \\\nStudent Exam Number                                                          \nOL1230                       OL1230          1110      2015    njwo0 ngwo0   \nOL1231                       OL1231          1110      2015    njwo1 ngwo1   \nOL12314                     OL12314          1110      2015  njwo14 ngwo14   \nOL12321                     OL12321          1110      2015  njwo21 ngwo21   \nOL12322                     OL12322          1110      2015  njwo22 ngwo22   \nOL12323                     OL12323          1110      2015  njwo23 ngwo23   \nOL12334                     OL12334          1110      2015  njwo34 ngwo34   \nOL12341                     OL12341          1110      2015  njwo41 ngwo41   \nOL12343                     OL12343          1110      2015  njwo43 ngwo43   \nOL12347                     OL12347          1110      2015  njwo47 ngwo47   \n\n                    Gender 505G 510G 515G 520G 525G  ... 565G 570G 575G 580G  \\\nStudent Exam Number                                  ...                       \nOL1230                   M    D    A         D       ...              B        \nOL1231                   M              B    D    C  ...    B    C             \nOL12314                  M    A    D         U    B  ...                       \nOL12321                  M              A    U    A  ...    B    D         B   \nOL12322                  M    B              C    A  ...                       \nOL12323                  M    C    C    A            ...                       \nOL12334                  M    C                   B  ...    D    C    D        \nOL12341                  F         B              A  ...    U    C         D   \nOL12343                  M         D                 ...    A              A   \nOL12347                  F              C         A  ...    A    B             \n\n                    585G 590G 595G Subjects Registered Subjects Passed Points  \nStudent Exam Number                                                            \nOL1230                           D                   7               3      6  \nOL1231                                               5               4      6  \nOL12314                     A                        7               5     13  \nOL12321                          C                   9               5     11  \nOL12322                     D                        8               7     14  \nOL12323                     D                        6               4      8  \nOL12334                          B                   7               5      8  \nOL12341                A                             9               7     13  \nOL12343                     B                        8               6     14  \nOL12347                B                             9               8     17  \n\n[10 rows x 26 columns]",
      "text/html": "<div>\n<style scoped>\n    .dataframe tbody tr th:only-of-type {\n        vertical-align: middle;\n    }\n\n    .dataframe tbody tr th {\n        vertical-align: top;\n    }\n\n    .dataframe thead th {\n        text-align: right;\n    }\n</style>\n<table border=\"1\" class=\"dataframe\">\n  <thead>\n    <tr style=\"text-align: right;\">\n      <th></th>\n      <th>Student Exam No</th>\n      <th>Center Number</th>\n      <th>Exam Year</th>\n      <th>Student Names</th>\n      <th>Gender</th>\n      <th>505G</th>\n      <th>510G</th>\n      <th>515G</th>\n      <th>520G</th>\n      <th>525G</th>\n      <th>...</th>\n      <th>565G</th>\n      <th>570G</th>\n      <th>575G</th>\n      <th>580G</th>\n      <th>585G</th>\n      <th>590G</th>\n      <th>595G</th>\n      <th>Subjects Registered</th>\n      <th>Subjects Passed</th>\n      <th>Points</th>\n    </tr>\n    <tr>\n      <th>Student Exam Number</th>\n      <th></th>\n      <th></th>\n      <th></th>\n      <th></th>\n      <th></th>\n      <th></th>\n      <th></th>\n      <th></th>\n      <th></th>\n      <th></th>\n      <th></th>\n      <th></th>\n      <th></th>\n      <th></th>\n      <th></th>\n      <th></th>\n      <th></th>\n      <th></th>\n      <th></th>\n      <th></th>\n      <th></th>\n    </tr>\n  </thead>\n  <tbody>\n    <tr>\n      <th>OL1230</th>\n      <td>OL1230</td>\n      <td>1110</td>\n      <td>2015</td>\n      <td>njwo0 ngwo0</td>\n      <td>M</td>\n      <td>D</td>\n      <td>A</td>\n      <td></td>\n      <td>D</td>\n      <td></td>\n      <td>...</td>\n      <td></td>\n      <td></td>\n      <td>B</td>\n      <td></td>\n      <td></td>\n      <td></td>\n      <td>D</td>\n      <td>7</td>\n      <td>3</td>\n      <td>6</td>\n    </tr>\n    <tr>\n      <th>OL1231</th>\n      <td>OL1231</td>\n      <td>1110</td>\n      <td>2015</td>\n      <td>njwo1 ngwo1</td>\n      <td>M</td>\n      <td></td>\n      <td></td>\n      <td>B</td>\n      <td>D</td>\n      <td>C</td>\n      <td>...</td>\n      <td>B</td>\n      <td>C</td>\n      <td></td>\n      <td></td>\n      <td></td>\n      <td></td>\n      <td></td>\n      <td>5</td>\n      <td>4</td>\n      <td>6</td>\n    </tr>\n    <tr>\n      <th>OL12314</th>\n      <td>OL12314</td>\n      <td>1110</td>\n      <td>2015</td>\n      <td>njwo14 ngwo14</td>\n      <td>M</td>\n      <td>A</td>\n      <td>D</td>\n      <td></td>\n      <td>U</td>\n      <td>B</td>\n      <td>...</td>\n      <td></td>\n      <td></td>\n      <td></td>\n      <td></td>\n      <td></td>\n      <td>A</td>\n      <td></td>\n      <td>7</td>\n      <td>5</td>\n      <td>13</td>\n    </tr>\n    <tr>\n      <th>OL12321</th>\n      <td>OL12321</td>\n      <td>1110</td>\n      <td>2015</td>\n      <td>njwo21 ngwo21</td>\n      <td>M</td>\n      <td></td>\n      <td></td>\n      <td>A</td>\n      <td>U</td>\n      <td>A</td>\n      <td>...</td>\n      <td>B</td>\n      <td>D</td>\n      <td></td>\n      <td>B</td>\n      <td></td>\n      <td></td>\n      <td>C</td>\n      <td>9</td>\n      <td>5</td>\n      <td>11</td>\n    </tr>\n    <tr>\n      <th>OL12322</th>\n      <td>OL12322</td>\n      <td>1110</td>\n      <td>2015</td>\n      <td>njwo22 ngwo22</td>\n      <td>M</td>\n      <td>B</td>\n      <td></td>\n      <td></td>\n      <td>C</td>\n      <td>A</td>\n      <td>...</td>\n      <td></td>\n      <td></td>\n      <td></td>\n      <td></td>\n      <td></td>\n      <td>D</td>\n      <td></td>\n      <td>8</td>\n      <td>7</td>\n      <td>14</td>\n    </tr>\n    <tr>\n      <th>OL12323</th>\n      <td>OL12323</td>\n      <td>1110</td>\n      <td>2015</td>\n      <td>njwo23 ngwo23</td>\n      <td>M</td>\n      <td>C</td>\n      <td>C</td>\n      <td>A</td>\n      <td></td>\n      <td></td>\n      <td>...</td>\n      <td></td>\n      <td></td>\n      <td></td>\n      <td></td>\n      <td></td>\n      <td>D</td>\n      <td></td>\n      <td>6</td>\n      <td>4</td>\n      <td>8</td>\n    </tr>\n    <tr>\n      <th>OL12334</th>\n      <td>OL12334</td>\n      <td>1110</td>\n      <td>2015</td>\n      <td>njwo34 ngwo34</td>\n      <td>M</td>\n      <td>C</td>\n      <td></td>\n      <td></td>\n      <td></td>\n      <td>B</td>\n      <td>...</td>\n      <td>D</td>\n      <td>C</td>\n      <td>D</td>\n      <td></td>\n      <td></td>\n      <td></td>\n      <td>B</td>\n      <td>7</td>\n      <td>5</td>\n      <td>8</td>\n    </tr>\n    <tr>\n      <th>OL12341</th>\n      <td>OL12341</td>\n      <td>1110</td>\n      <td>2015</td>\n      <td>njwo41 ngwo41</td>\n      <td>F</td>\n      <td></td>\n      <td>B</td>\n      <td></td>\n      <td></td>\n      <td>A</td>\n      <td>...</td>\n      <td>U</td>\n      <td>C</td>\n      <td></td>\n      <td>D</td>\n      <td>A</td>\n      <td></td>\n      <td></td>\n      <td>9</td>\n      <td>7</td>\n      <td>13</td>\n    </tr>\n    <tr>\n      <th>OL12343</th>\n      <td>OL12343</td>\n      <td>1110</td>\n      <td>2015</td>\n      <td>njwo43 ngwo43</td>\n      <td>M</td>\n      <td></td>\n      <td>D</td>\n      <td></td>\n      <td></td>\n      <td></td>\n      <td>...</td>\n      <td>A</td>\n      <td></td>\n      <td></td>\n      <td>A</td>\n      <td></td>\n      <td>B</td>\n      <td></td>\n      <td>8</td>\n      <td>6</td>\n      <td>14</td>\n    </tr>\n    <tr>\n      <th>OL12347</th>\n      <td>OL12347</td>\n      <td>1110</td>\n      <td>2015</td>\n      <td>njwo47 ngwo47</td>\n      <td>F</td>\n      <td></td>\n      <td></td>\n      <td>C</td>\n      <td></td>\n      <td>A</td>\n      <td>...</td>\n      <td>A</td>\n      <td>B</td>\n      <td></td>\n      <td></td>\n      <td>B</td>\n      <td></td>\n      <td></td>\n      <td>9</td>\n      <td>8</td>\n      <td>17</td>\n    </tr>\n  </tbody>\n</table>\n<p>10 rows × 26 columns</p>\n</div>"
     },
     "metadata": {},
     "output_type": "execute_result",
     "execution_count": 30
    }
   ],
   "source": [
    "#DataFrame for Examination Year 2015 for Center 1110\n",
    "print(\"Print DataFrames for Year Center No 1110\")\n",
    "df_main2015_1110 = df_main2015.loc[df_main2015['Center Number'] == '1110']\n",
    "df_main2015_1110.head(10)"
   ],
   "metadata": {
    "collapsed": false,
    "pycharm": {
     "name": "#%%\n",
     "is_executing": false
    }
   }
  },
  {
   "cell_type": "code",
   "execution_count": 31,
   "outputs": [
    {
     "name": "stdout",
     "text": [
      "Print DataFrames for Year Center No 1115\n"
     ],
     "output_type": "stream"
    },
    {
     "data": {
      "text/plain": "                    Student Exam No Center Number Exam Year  Student Names  \\\nStudent Exam Number                                                          \nOL1233                       OL1233          1115      2015    njwo3 ngwo3   \nOL12326                     OL12326          1115      2015  njwo26 ngwo26   \nOL12350                     OL12350          1115      2015  njwo50 ngwo50   \nOL12360                     OL12360          1115      2015  njwo60 ngwo60   \nOL12362                     OL12362          1115      2015  njwo62 ngwo62   \nOL12363                     OL12363          1115      2015  njwo63 ngwo63   \nOL12364                     OL12364          1115      2015  njwo64 ngwo64   \nOL12369                     OL12369          1115      2015  njwo69 ngwo69   \nOL12384                     OL12384          1115      2015  njwo84 ngwo84   \nOL12392                     OL12392          1115      2015  njwo92 ngwo92   \n\n                    Gender 505G 510G 515G 520G 525G  ... 565G 570G 575G 580G  \\\nStudent Exam Number                                  ...                       \nOL1233                   M                        B  ...                       \nOL12326                  F              A         A  ...    A                  \nOL12350                  M    A              A    C  ...    B    C    B        \nOL12360                  F              A    A    A  ...    A              B   \nOL12362                  M    C    B    B            ...    A              C   \nOL12363                  M         B                 ...                   B   \nOL12364                  M                   C       ...    A              A   \nOL12369                  F         A    A         D  ...    A         A        \nOL12384                  F    C    B    C    U       ...                       \nOL12392                  F              A         B  ...    A                  \n\n                    585G 590G 595G Subjects Registered Subjects Passed Points  \nStudent Exam Number                                                            \nOL1233                 A                             5               5     13  \nOL12326                     B    A                   9               9     24  \nOL12350                          A                  11              11     24  \nOL12360                A                            10               8     20  \nOL12362                     A                       11              10     22  \nOL12363                B    U    D                   8               5     10  \nOL12364                     C    U                   5               4      8  \nOL12369                A         C                   8               7     19  \nOL12384                U         C                   8               6      7  \nOL12392                                              6               4     10  \n\n[10 rows x 26 columns]",
      "text/html": "<div>\n<style scoped>\n    .dataframe tbody tr th:only-of-type {\n        vertical-align: middle;\n    }\n\n    .dataframe tbody tr th {\n        vertical-align: top;\n    }\n\n    .dataframe thead th {\n        text-align: right;\n    }\n</style>\n<table border=\"1\" class=\"dataframe\">\n  <thead>\n    <tr style=\"text-align: right;\">\n      <th></th>\n      <th>Student Exam No</th>\n      <th>Center Number</th>\n      <th>Exam Year</th>\n      <th>Student Names</th>\n      <th>Gender</th>\n      <th>505G</th>\n      <th>510G</th>\n      <th>515G</th>\n      <th>520G</th>\n      <th>525G</th>\n      <th>...</th>\n      <th>565G</th>\n      <th>570G</th>\n      <th>575G</th>\n      <th>580G</th>\n      <th>585G</th>\n      <th>590G</th>\n      <th>595G</th>\n      <th>Subjects Registered</th>\n      <th>Subjects Passed</th>\n      <th>Points</th>\n    </tr>\n    <tr>\n      <th>Student Exam Number</th>\n      <th></th>\n      <th></th>\n      <th></th>\n      <th></th>\n      <th></th>\n      <th></th>\n      <th></th>\n      <th></th>\n      <th></th>\n      <th></th>\n      <th></th>\n      <th></th>\n      <th></th>\n      <th></th>\n      <th></th>\n      <th></th>\n      <th></th>\n      <th></th>\n      <th></th>\n      <th></th>\n      <th></th>\n    </tr>\n  </thead>\n  <tbody>\n    <tr>\n      <th>OL1233</th>\n      <td>OL1233</td>\n      <td>1115</td>\n      <td>2015</td>\n      <td>njwo3 ngwo3</td>\n      <td>M</td>\n      <td></td>\n      <td></td>\n      <td></td>\n      <td></td>\n      <td>B</td>\n      <td>...</td>\n      <td></td>\n      <td></td>\n      <td></td>\n      <td></td>\n      <td>A</td>\n      <td></td>\n      <td></td>\n      <td>5</td>\n      <td>5</td>\n      <td>13</td>\n    </tr>\n    <tr>\n      <th>OL12326</th>\n      <td>OL12326</td>\n      <td>1115</td>\n      <td>2015</td>\n      <td>njwo26 ngwo26</td>\n      <td>F</td>\n      <td></td>\n      <td></td>\n      <td>A</td>\n      <td></td>\n      <td>A</td>\n      <td>...</td>\n      <td>A</td>\n      <td></td>\n      <td></td>\n      <td></td>\n      <td></td>\n      <td>B</td>\n      <td>A</td>\n      <td>9</td>\n      <td>9</td>\n      <td>24</td>\n    </tr>\n    <tr>\n      <th>OL12350</th>\n      <td>OL12350</td>\n      <td>1115</td>\n      <td>2015</td>\n      <td>njwo50 ngwo50</td>\n      <td>M</td>\n      <td>A</td>\n      <td></td>\n      <td></td>\n      <td>A</td>\n      <td>C</td>\n      <td>...</td>\n      <td>B</td>\n      <td>C</td>\n      <td>B</td>\n      <td></td>\n      <td></td>\n      <td></td>\n      <td>A</td>\n      <td>11</td>\n      <td>11</td>\n      <td>24</td>\n    </tr>\n    <tr>\n      <th>OL12360</th>\n      <td>OL12360</td>\n      <td>1115</td>\n      <td>2015</td>\n      <td>njwo60 ngwo60</td>\n      <td>F</td>\n      <td></td>\n      <td></td>\n      <td>A</td>\n      <td>A</td>\n      <td>A</td>\n      <td>...</td>\n      <td>A</td>\n      <td></td>\n      <td></td>\n      <td>B</td>\n      <td>A</td>\n      <td></td>\n      <td></td>\n      <td>10</td>\n      <td>8</td>\n      <td>20</td>\n    </tr>\n    <tr>\n      <th>OL12362</th>\n      <td>OL12362</td>\n      <td>1115</td>\n      <td>2015</td>\n      <td>njwo62 ngwo62</td>\n      <td>M</td>\n      <td>C</td>\n      <td>B</td>\n      <td>B</td>\n      <td></td>\n      <td></td>\n      <td>...</td>\n      <td>A</td>\n      <td></td>\n      <td></td>\n      <td>C</td>\n      <td></td>\n      <td>A</td>\n      <td></td>\n      <td>11</td>\n      <td>10</td>\n      <td>22</td>\n    </tr>\n    <tr>\n      <th>OL12363</th>\n      <td>OL12363</td>\n      <td>1115</td>\n      <td>2015</td>\n      <td>njwo63 ngwo63</td>\n      <td>M</td>\n      <td></td>\n      <td>B</td>\n      <td></td>\n      <td></td>\n      <td></td>\n      <td>...</td>\n      <td></td>\n      <td></td>\n      <td></td>\n      <td>B</td>\n      <td>B</td>\n      <td>U</td>\n      <td>D</td>\n      <td>8</td>\n      <td>5</td>\n      <td>10</td>\n    </tr>\n    <tr>\n      <th>OL12364</th>\n      <td>OL12364</td>\n      <td>1115</td>\n      <td>2015</td>\n      <td>njwo64 ngwo64</td>\n      <td>M</td>\n      <td></td>\n      <td></td>\n      <td></td>\n      <td>C</td>\n      <td></td>\n      <td>...</td>\n      <td>A</td>\n      <td></td>\n      <td></td>\n      <td>A</td>\n      <td></td>\n      <td>C</td>\n      <td>U</td>\n      <td>5</td>\n      <td>4</td>\n      <td>8</td>\n    </tr>\n    <tr>\n      <th>OL12369</th>\n      <td>OL12369</td>\n      <td>1115</td>\n      <td>2015</td>\n      <td>njwo69 ngwo69</td>\n      <td>F</td>\n      <td></td>\n      <td>A</td>\n      <td>A</td>\n      <td></td>\n      <td>D</td>\n      <td>...</td>\n      <td>A</td>\n      <td></td>\n      <td>A</td>\n      <td></td>\n      <td>A</td>\n      <td></td>\n      <td>C</td>\n      <td>8</td>\n      <td>7</td>\n      <td>19</td>\n    </tr>\n    <tr>\n      <th>OL12384</th>\n      <td>OL12384</td>\n      <td>1115</td>\n      <td>2015</td>\n      <td>njwo84 ngwo84</td>\n      <td>F</td>\n      <td>C</td>\n      <td>B</td>\n      <td>C</td>\n      <td>U</td>\n      <td></td>\n      <td>...</td>\n      <td></td>\n      <td></td>\n      <td></td>\n      <td></td>\n      <td>U</td>\n      <td></td>\n      <td>C</td>\n      <td>8</td>\n      <td>6</td>\n      <td>7</td>\n    </tr>\n    <tr>\n      <th>OL12392</th>\n      <td>OL12392</td>\n      <td>1115</td>\n      <td>2015</td>\n      <td>njwo92 ngwo92</td>\n      <td>F</td>\n      <td></td>\n      <td></td>\n      <td>A</td>\n      <td></td>\n      <td>B</td>\n      <td>...</td>\n      <td>A</td>\n      <td></td>\n      <td></td>\n      <td></td>\n      <td></td>\n      <td></td>\n      <td></td>\n      <td>6</td>\n      <td>4</td>\n      <td>10</td>\n    </tr>\n  </tbody>\n</table>\n<p>10 rows × 26 columns</p>\n</div>"
     },
     "metadata": {},
     "output_type": "execute_result",
     "execution_count": 31
    }
   ],
   "source": [
    "#DataFrame for Examination Year 2015 for Center 1115\n",
    "print(\"Print DataFrames for Year Center No 1115\")\n",
    "df_main2015_1115 = df_main2015.loc[df_main2015['Center Number'] == '1115']\n",
    "df_main2015_1115.head(10)"
   ],
   "metadata": {
    "collapsed": false,
    "pycharm": {
     "name": "#%%\n",
     "is_executing": false
    }
   }
  },
  {
   "cell_type": "code",
   "execution_count": 32,
   "outputs": [
    {
     "name": "stdout",
     "text": [
      "Print DataFrames for Year Center No 1124\n"
     ],
     "output_type": "stream"
    },
    {
     "data": {
      "text/plain": "                    Student Exam No Center Number Exam Year  Student Names  \\\nStudent Exam Number                                                          \nOL1234                       OL1234          1124      2015    njwo4 ngwo4   \nOL1235                       OL1235          1124      2015    njwo5 ngwo5   \nOL12312                     OL12312          1124      2015  njwo12 ngwo12   \nOL12313                     OL12313          1124      2015  njwo13 ngwo13   \nOL12318                     OL12318          1124      2015  njwo18 ngwo18   \nOL12337                     OL12337          1124      2015  njwo37 ngwo37   \nOL12338                     OL12338          1124      2015  njwo38 ngwo38   \nOL12339                     OL12339          1124      2015  njwo39 ngwo39   \nOL12348                     OL12348          1124      2015  njwo48 ngwo48   \nOL12375                     OL12375          1124      2015  njwo75 ngwo75   \n\n                    Gender 505G 510G 515G 520G 525G  ... 565G 570G 575G 580G  \\\nStudent Exam Number                                  ...                       \nOL1234                   F              A    B    A  ...                       \nOL1235                   F    B                   A  ...         U         B   \nOL12312                  M         A              D  ...    C    B         U   \nOL12313                  M                        C  ...    C    U    A        \nOL12318                  F              D    B    U  ...    B    A    D        \nOL12337                  F    C    A         A       ...         C             \nOL12338                  M              C            ...    A    A    C        \nOL12339                  M    C    A         A    A  ...         B             \nOL12348                  M    C                   A  ...         A    A        \nOL12375                  F    B    B                 ...                   D   \n\n                    585G 590G 595G Subjects Registered Subjects Passed Points  \nStudent Exam Number                                                            \nOL1234                           A                   5               5     13  \nOL1235                           A                  10               8     19  \nOL12312                          B                   8               5     11  \nOL12313                     U                       10               7     10  \nOL12318                     A                       10               6     14  \nOL12337                A    U                        8               6     13  \nOL12338                D                             9               7     15  \nOL12339                     A                        6               6     15  \nOL12348                A    D    B                  10               9     21  \nOL12375                     B    A                   9               6     13  \n\n[10 rows x 26 columns]",
      "text/html": "<div>\n<style scoped>\n    .dataframe tbody tr th:only-of-type {\n        vertical-align: middle;\n    }\n\n    .dataframe tbody tr th {\n        vertical-align: top;\n    }\n\n    .dataframe thead th {\n        text-align: right;\n    }\n</style>\n<table border=\"1\" class=\"dataframe\">\n  <thead>\n    <tr style=\"text-align: right;\">\n      <th></th>\n      <th>Student Exam No</th>\n      <th>Center Number</th>\n      <th>Exam Year</th>\n      <th>Student Names</th>\n      <th>Gender</th>\n      <th>505G</th>\n      <th>510G</th>\n      <th>515G</th>\n      <th>520G</th>\n      <th>525G</th>\n      <th>...</th>\n      <th>565G</th>\n      <th>570G</th>\n      <th>575G</th>\n      <th>580G</th>\n      <th>585G</th>\n      <th>590G</th>\n      <th>595G</th>\n      <th>Subjects Registered</th>\n      <th>Subjects Passed</th>\n      <th>Points</th>\n    </tr>\n    <tr>\n      <th>Student Exam Number</th>\n      <th></th>\n      <th></th>\n      <th></th>\n      <th></th>\n      <th></th>\n      <th></th>\n      <th></th>\n      <th></th>\n      <th></th>\n      <th></th>\n      <th></th>\n      <th></th>\n      <th></th>\n      <th></th>\n      <th></th>\n      <th></th>\n      <th></th>\n      <th></th>\n      <th></th>\n      <th></th>\n      <th></th>\n    </tr>\n  </thead>\n  <tbody>\n    <tr>\n      <th>OL1234</th>\n      <td>OL1234</td>\n      <td>1124</td>\n      <td>2015</td>\n      <td>njwo4 ngwo4</td>\n      <td>F</td>\n      <td></td>\n      <td></td>\n      <td>A</td>\n      <td>B</td>\n      <td>A</td>\n      <td>...</td>\n      <td></td>\n      <td></td>\n      <td></td>\n      <td></td>\n      <td></td>\n      <td></td>\n      <td>A</td>\n      <td>5</td>\n      <td>5</td>\n      <td>13</td>\n    </tr>\n    <tr>\n      <th>OL1235</th>\n      <td>OL1235</td>\n      <td>1124</td>\n      <td>2015</td>\n      <td>njwo5 ngwo5</td>\n      <td>F</td>\n      <td>B</td>\n      <td></td>\n      <td></td>\n      <td></td>\n      <td>A</td>\n      <td>...</td>\n      <td></td>\n      <td>U</td>\n      <td></td>\n      <td>B</td>\n      <td></td>\n      <td></td>\n      <td>A</td>\n      <td>10</td>\n      <td>8</td>\n      <td>19</td>\n    </tr>\n    <tr>\n      <th>OL12312</th>\n      <td>OL12312</td>\n      <td>1124</td>\n      <td>2015</td>\n      <td>njwo12 ngwo12</td>\n      <td>M</td>\n      <td></td>\n      <td>A</td>\n      <td></td>\n      <td></td>\n      <td>D</td>\n      <td>...</td>\n      <td>C</td>\n      <td>B</td>\n      <td></td>\n      <td>U</td>\n      <td></td>\n      <td></td>\n      <td>B</td>\n      <td>8</td>\n      <td>5</td>\n      <td>11</td>\n    </tr>\n    <tr>\n      <th>OL12313</th>\n      <td>OL12313</td>\n      <td>1124</td>\n      <td>2015</td>\n      <td>njwo13 ngwo13</td>\n      <td>M</td>\n      <td></td>\n      <td></td>\n      <td></td>\n      <td></td>\n      <td>C</td>\n      <td>...</td>\n      <td>C</td>\n      <td>U</td>\n      <td>A</td>\n      <td></td>\n      <td></td>\n      <td>U</td>\n      <td></td>\n      <td>10</td>\n      <td>7</td>\n      <td>10</td>\n    </tr>\n    <tr>\n      <th>OL12318</th>\n      <td>OL12318</td>\n      <td>1124</td>\n      <td>2015</td>\n      <td>njwo18 ngwo18</td>\n      <td>F</td>\n      <td></td>\n      <td></td>\n      <td>D</td>\n      <td>B</td>\n      <td>U</td>\n      <td>...</td>\n      <td>B</td>\n      <td>A</td>\n      <td>D</td>\n      <td></td>\n      <td></td>\n      <td>A</td>\n      <td></td>\n      <td>10</td>\n      <td>6</td>\n      <td>14</td>\n    </tr>\n    <tr>\n      <th>OL12337</th>\n      <td>OL12337</td>\n      <td>1124</td>\n      <td>2015</td>\n      <td>njwo37 ngwo37</td>\n      <td>F</td>\n      <td>C</td>\n      <td>A</td>\n      <td></td>\n      <td>A</td>\n      <td></td>\n      <td>...</td>\n      <td></td>\n      <td>C</td>\n      <td></td>\n      <td></td>\n      <td>A</td>\n      <td>U</td>\n      <td></td>\n      <td>8</td>\n      <td>6</td>\n      <td>13</td>\n    </tr>\n    <tr>\n      <th>OL12338</th>\n      <td>OL12338</td>\n      <td>1124</td>\n      <td>2015</td>\n      <td>njwo38 ngwo38</td>\n      <td>M</td>\n      <td></td>\n      <td></td>\n      <td>C</td>\n      <td></td>\n      <td></td>\n      <td>...</td>\n      <td>A</td>\n      <td>A</td>\n      <td>C</td>\n      <td></td>\n      <td>D</td>\n      <td></td>\n      <td></td>\n      <td>9</td>\n      <td>7</td>\n      <td>15</td>\n    </tr>\n    <tr>\n      <th>OL12339</th>\n      <td>OL12339</td>\n      <td>1124</td>\n      <td>2015</td>\n      <td>njwo39 ngwo39</td>\n      <td>M</td>\n      <td>C</td>\n      <td>A</td>\n      <td></td>\n      <td>A</td>\n      <td>A</td>\n      <td>...</td>\n      <td></td>\n      <td>B</td>\n      <td></td>\n      <td></td>\n      <td></td>\n      <td>A</td>\n      <td></td>\n      <td>6</td>\n      <td>6</td>\n      <td>15</td>\n    </tr>\n    <tr>\n      <th>OL12348</th>\n      <td>OL12348</td>\n      <td>1124</td>\n      <td>2015</td>\n      <td>njwo48 ngwo48</td>\n      <td>M</td>\n      <td>C</td>\n      <td></td>\n      <td></td>\n      <td></td>\n      <td>A</td>\n      <td>...</td>\n      <td></td>\n      <td>A</td>\n      <td>A</td>\n      <td></td>\n      <td>A</td>\n      <td>D</td>\n      <td>B</td>\n      <td>10</td>\n      <td>9</td>\n      <td>21</td>\n    </tr>\n    <tr>\n      <th>OL12375</th>\n      <td>OL12375</td>\n      <td>1124</td>\n      <td>2015</td>\n      <td>njwo75 ngwo75</td>\n      <td>F</td>\n      <td>B</td>\n      <td>B</td>\n      <td></td>\n      <td></td>\n      <td></td>\n      <td>...</td>\n      <td></td>\n      <td></td>\n      <td></td>\n      <td>D</td>\n      <td></td>\n      <td>B</td>\n      <td>A</td>\n      <td>9</td>\n      <td>6</td>\n      <td>13</td>\n    </tr>\n  </tbody>\n</table>\n<p>10 rows × 26 columns</p>\n</div>"
     },
     "metadata": {},
     "output_type": "execute_result",
     "execution_count": 32
    }
   ],
   "source": [
    "#DataFrame for Examination Year 2015 for Center 1124\n",
    "print(\"Print DataFrames for Year Center No 1124\")\n",
    "df_main2015_1124 = df_main2015.loc[df_main2015['Center Number'] == '1124']\n",
    "df_main2015_1124.head(10)"
   ],
   "metadata": {
    "collapsed": false,
    "pycharm": {
     "name": "#%%\n",
     "is_executing": false
    }
   }
  },
  {
   "cell_type": "code",
   "execution_count": 33,
   "outputs": [
    {
     "name": "stdout",
     "text": [
      "Print DataFrames for Year Center No 1131\n"
     ],
     "output_type": "stream"
    },
    {
     "data": {
      "text/plain": "                    Student Exam No Center Number Exam Year  Student Names  \\\nStudent Exam Number                                                          \nOL1236                       OL1236          1131      2015    njwo6 ngwo6   \nOL1238                       OL1238          1131      2015    njwo8 ngwo8   \nOL12324                     OL12324          1131      2015  njwo24 ngwo24   \nOL12325                     OL12325          1131      2015  njwo25 ngwo25   \nOL12328                     OL12328          1131      2015  njwo28 ngwo28   \nOL12330                     OL12330          1131      2015  njwo30 ngwo30   \nOL12332                     OL12332          1131      2015  njwo32 ngwo32   \nOL12333                     OL12333          1131      2015  njwo33 ngwo33   \nOL12342                     OL12342          1131      2015  njwo42 ngwo42   \nOL12352                     OL12352          1131      2015  njwo52 ngwo52   \n\n                    Gender 505G 510G 515G 520G 525G  ... 565G 570G 575G 580G  \\\nStudent Exam Number                                  ...                       \nOL1236                   M    A              C       ...              B        \nOL1238                   F              D            ...                   B   \nOL12324                  F         D                 ...    A    C    A    U   \nOL12325                  F                        C  ...    C         A    B   \nOL12328                  F    B         A    A       ...         C             \nOL12330                  M         A    C    C    A  ...         C         B   \nOL12332                  F    D         A            ...    A    B    U    A   \nOL12333                  M    B              C    C  ...    B                  \nOL12342                  F                           ...    D              C   \nOL12352                  M              D            ...         C             \n\n                    585G 590G 595G Subjects Registered Subjects Passed Points  \nStudent Exam Number                                                            \nOL1236                                               6               6     13  \nOL1238                      D                        6               3      7  \nOL12324                     A                        8               6     16  \nOL12325                     B    U                   7               6     11  \nOL12328                A         A                   6               6     15  \nOL12330                D    A                       11               9     18  \nOL12332                D    U                       11               7     15  \nOL12333                     D                       10               9     15  \nOL12342                A         U                   7               3      5  \nOL12352                     A                        5               2      4  \n\n[10 rows x 26 columns]",
      "text/html": "<div>\n<style scoped>\n    .dataframe tbody tr th:only-of-type {\n        vertical-align: middle;\n    }\n\n    .dataframe tbody tr th {\n        vertical-align: top;\n    }\n\n    .dataframe thead th {\n        text-align: right;\n    }\n</style>\n<table border=\"1\" class=\"dataframe\">\n  <thead>\n    <tr style=\"text-align: right;\">\n      <th></th>\n      <th>Student Exam No</th>\n      <th>Center Number</th>\n      <th>Exam Year</th>\n      <th>Student Names</th>\n      <th>Gender</th>\n      <th>505G</th>\n      <th>510G</th>\n      <th>515G</th>\n      <th>520G</th>\n      <th>525G</th>\n      <th>...</th>\n      <th>565G</th>\n      <th>570G</th>\n      <th>575G</th>\n      <th>580G</th>\n      <th>585G</th>\n      <th>590G</th>\n      <th>595G</th>\n      <th>Subjects Registered</th>\n      <th>Subjects Passed</th>\n      <th>Points</th>\n    </tr>\n    <tr>\n      <th>Student Exam Number</th>\n      <th></th>\n      <th></th>\n      <th></th>\n      <th></th>\n      <th></th>\n      <th></th>\n      <th></th>\n      <th></th>\n      <th></th>\n      <th></th>\n      <th></th>\n      <th></th>\n      <th></th>\n      <th></th>\n      <th></th>\n      <th></th>\n      <th></th>\n      <th></th>\n      <th></th>\n      <th></th>\n      <th></th>\n    </tr>\n  </thead>\n  <tbody>\n    <tr>\n      <th>OL1236</th>\n      <td>OL1236</td>\n      <td>1131</td>\n      <td>2015</td>\n      <td>njwo6 ngwo6</td>\n      <td>M</td>\n      <td>A</td>\n      <td></td>\n      <td></td>\n      <td>C</td>\n      <td></td>\n      <td>...</td>\n      <td></td>\n      <td></td>\n      <td>B</td>\n      <td></td>\n      <td></td>\n      <td></td>\n      <td></td>\n      <td>6</td>\n      <td>6</td>\n      <td>13</td>\n    </tr>\n    <tr>\n      <th>OL1238</th>\n      <td>OL1238</td>\n      <td>1131</td>\n      <td>2015</td>\n      <td>njwo8 ngwo8</td>\n      <td>F</td>\n      <td></td>\n      <td></td>\n      <td>D</td>\n      <td></td>\n      <td></td>\n      <td>...</td>\n      <td></td>\n      <td></td>\n      <td></td>\n      <td>B</td>\n      <td></td>\n      <td>D</td>\n      <td></td>\n      <td>6</td>\n      <td>3</td>\n      <td>7</td>\n    </tr>\n    <tr>\n      <th>OL12324</th>\n      <td>OL12324</td>\n      <td>1131</td>\n      <td>2015</td>\n      <td>njwo24 ngwo24</td>\n      <td>F</td>\n      <td></td>\n      <td>D</td>\n      <td></td>\n      <td></td>\n      <td></td>\n      <td>...</td>\n      <td>A</td>\n      <td>C</td>\n      <td>A</td>\n      <td>U</td>\n      <td></td>\n      <td>A</td>\n      <td></td>\n      <td>8</td>\n      <td>6</td>\n      <td>16</td>\n    </tr>\n    <tr>\n      <th>OL12325</th>\n      <td>OL12325</td>\n      <td>1131</td>\n      <td>2015</td>\n      <td>njwo25 ngwo25</td>\n      <td>F</td>\n      <td></td>\n      <td></td>\n      <td></td>\n      <td></td>\n      <td>C</td>\n      <td>...</td>\n      <td>C</td>\n      <td></td>\n      <td>A</td>\n      <td>B</td>\n      <td></td>\n      <td>B</td>\n      <td>U</td>\n      <td>7</td>\n      <td>6</td>\n      <td>11</td>\n    </tr>\n    <tr>\n      <th>OL12328</th>\n      <td>OL12328</td>\n      <td>1131</td>\n      <td>2015</td>\n      <td>njwo28 ngwo28</td>\n      <td>F</td>\n      <td>B</td>\n      <td></td>\n      <td>A</td>\n      <td>A</td>\n      <td></td>\n      <td>...</td>\n      <td></td>\n      <td>C</td>\n      <td></td>\n      <td></td>\n      <td>A</td>\n      <td></td>\n      <td>A</td>\n      <td>6</td>\n      <td>6</td>\n      <td>15</td>\n    </tr>\n    <tr>\n      <th>OL12330</th>\n      <td>OL12330</td>\n      <td>1131</td>\n      <td>2015</td>\n      <td>njwo30 ngwo30</td>\n      <td>M</td>\n      <td></td>\n      <td>A</td>\n      <td>C</td>\n      <td>C</td>\n      <td>A</td>\n      <td>...</td>\n      <td></td>\n      <td>C</td>\n      <td></td>\n      <td>B</td>\n      <td>D</td>\n      <td>A</td>\n      <td></td>\n      <td>11</td>\n      <td>9</td>\n      <td>18</td>\n    </tr>\n    <tr>\n      <th>OL12332</th>\n      <td>OL12332</td>\n      <td>1131</td>\n      <td>2015</td>\n      <td>njwo32 ngwo32</td>\n      <td>F</td>\n      <td>D</td>\n      <td></td>\n      <td>A</td>\n      <td></td>\n      <td></td>\n      <td>...</td>\n      <td>A</td>\n      <td>B</td>\n      <td>U</td>\n      <td>A</td>\n      <td>D</td>\n      <td>U</td>\n      <td></td>\n      <td>11</td>\n      <td>7</td>\n      <td>15</td>\n    </tr>\n    <tr>\n      <th>OL12333</th>\n      <td>OL12333</td>\n      <td>1131</td>\n      <td>2015</td>\n      <td>njwo33 ngwo33</td>\n      <td>M</td>\n      <td>B</td>\n      <td></td>\n      <td></td>\n      <td>C</td>\n      <td>C</td>\n      <td>...</td>\n      <td>B</td>\n      <td></td>\n      <td></td>\n      <td></td>\n      <td></td>\n      <td>D</td>\n      <td></td>\n      <td>10</td>\n      <td>9</td>\n      <td>15</td>\n    </tr>\n    <tr>\n      <th>OL12342</th>\n      <td>OL12342</td>\n      <td>1131</td>\n      <td>2015</td>\n      <td>njwo42 ngwo42</td>\n      <td>F</td>\n      <td></td>\n      <td></td>\n      <td></td>\n      <td></td>\n      <td></td>\n      <td>...</td>\n      <td>D</td>\n      <td></td>\n      <td></td>\n      <td>C</td>\n      <td>A</td>\n      <td></td>\n      <td>U</td>\n      <td>7</td>\n      <td>3</td>\n      <td>5</td>\n    </tr>\n    <tr>\n      <th>OL12352</th>\n      <td>OL12352</td>\n      <td>1131</td>\n      <td>2015</td>\n      <td>njwo52 ngwo52</td>\n      <td>M</td>\n      <td></td>\n      <td></td>\n      <td>D</td>\n      <td></td>\n      <td></td>\n      <td>...</td>\n      <td></td>\n      <td>C</td>\n      <td></td>\n      <td></td>\n      <td></td>\n      <td>A</td>\n      <td></td>\n      <td>5</td>\n      <td>2</td>\n      <td>4</td>\n    </tr>\n  </tbody>\n</table>\n<p>10 rows × 26 columns</p>\n</div>"
     },
     "metadata": {},
     "output_type": "execute_result",
     "execution_count": 33
    }
   ],
   "source": [
    "#DataFrame for Examination Year 2015 for Center 1131\n",
    "print(\"Print DataFrames for Year Center No 1131\")\n",
    "df_main2015_1131 = df_main2015.loc[df_main2015['Center Number'] == '1131']\n",
    "df_main2015_1131.head(10)"
   ],
   "metadata": {
    "collapsed": false,
    "pycharm": {
     "name": "#%%\n",
     "is_executing": false
    }
   }
  },
  {
   "cell_type": "code",
   "execution_count": 34,
   "outputs": [
    {
     "name": "stdout",
     "text": [
      "Print DataFrames for Year Center No 1135\n"
     ],
     "output_type": "stream"
    },
    {
     "data": {
      "text/plain": "                    Student Exam No Center Number Exam Year  Student Names  \\\nStudent Exam Number                                                          \nOL1237                       OL1237          1135      2015    njwo7 ngwo7   \nOL12336                     OL12336          1135      2015  njwo36 ngwo36   \nOL12340                     OL12340          1135      2015  njwo40 ngwo40   \nOL12361                     OL12361          1135      2015  njwo61 ngwo61   \nOL12367                     OL12367          1135      2015  njwo67 ngwo67   \nOL12371                     OL12371          1135      2015  njwo71 ngwo71   \nOL12373                     OL12373          1135      2015  njwo73 ngwo73   \nOL12378                     OL12378          1135      2015  njwo78 ngwo78   \nOL12388                     OL12388          1135      2015  njwo88 ngwo88   \nOL12393                     OL12393          1135      2015  njwo93 ngwo93   \n\n                    Gender 505G 510G 515G 520G 525G  ... 565G 570G 575G 580G  \\\nStudent Exam Number                                  ...                       \nOL1237                   M         A              C  ...         A             \nOL12336                  M         A         A       ...                   A   \nOL12340                  M                           ...         A    C    C   \nOL12361                  M         D                 ...              C        \nOL12367                  M         A    A         B  ...         C             \nOL12371                  M              A         A  ...         C             \nOL12373                  F         A    C    C    U  ...    C              B   \nOL12378                  M                   C       ...    C              B   \nOL12388                  M    B    C    A            ...    D    A    B    U   \nOL12393                  M    B              A    C  ...    B                  \n\n                    585G 590G 595G Subjects Registered Subjects Passed Points  \nStudent Exam Number                                                            \nOL1237                      D                        6               4      8  \nOL12336                                              6               4     10  \nOL12340                     A                        7               6     13  \nOL12361                          A                   6               2      4  \nOL12367                A    B    C                   9               8     16  \nOL12371                          D                   8               6     10  \nOL12373                                              8               6     11  \nOL12378                     C    B                   7               7     12  \nOL12388                                             10               7     15  \nOL12393                A    U                       11               9     18  \n\n[10 rows x 26 columns]",
      "text/html": "<div>\n<style scoped>\n    .dataframe tbody tr th:only-of-type {\n        vertical-align: middle;\n    }\n\n    .dataframe tbody tr th {\n        vertical-align: top;\n    }\n\n    .dataframe thead th {\n        text-align: right;\n    }\n</style>\n<table border=\"1\" class=\"dataframe\">\n  <thead>\n    <tr style=\"text-align: right;\">\n      <th></th>\n      <th>Student Exam No</th>\n      <th>Center Number</th>\n      <th>Exam Year</th>\n      <th>Student Names</th>\n      <th>Gender</th>\n      <th>505G</th>\n      <th>510G</th>\n      <th>515G</th>\n      <th>520G</th>\n      <th>525G</th>\n      <th>...</th>\n      <th>565G</th>\n      <th>570G</th>\n      <th>575G</th>\n      <th>580G</th>\n      <th>585G</th>\n      <th>590G</th>\n      <th>595G</th>\n      <th>Subjects Registered</th>\n      <th>Subjects Passed</th>\n      <th>Points</th>\n    </tr>\n    <tr>\n      <th>Student Exam Number</th>\n      <th></th>\n      <th></th>\n      <th></th>\n      <th></th>\n      <th></th>\n      <th></th>\n      <th></th>\n      <th></th>\n      <th></th>\n      <th></th>\n      <th></th>\n      <th></th>\n      <th></th>\n      <th></th>\n      <th></th>\n      <th></th>\n      <th></th>\n      <th></th>\n      <th></th>\n      <th></th>\n      <th></th>\n    </tr>\n  </thead>\n  <tbody>\n    <tr>\n      <th>OL1237</th>\n      <td>OL1237</td>\n      <td>1135</td>\n      <td>2015</td>\n      <td>njwo7 ngwo7</td>\n      <td>M</td>\n      <td></td>\n      <td>A</td>\n      <td></td>\n      <td></td>\n      <td>C</td>\n      <td>...</td>\n      <td></td>\n      <td>A</td>\n      <td></td>\n      <td></td>\n      <td></td>\n      <td>D</td>\n      <td></td>\n      <td>6</td>\n      <td>4</td>\n      <td>8</td>\n    </tr>\n    <tr>\n      <th>OL12336</th>\n      <td>OL12336</td>\n      <td>1135</td>\n      <td>2015</td>\n      <td>njwo36 ngwo36</td>\n      <td>M</td>\n      <td></td>\n      <td>A</td>\n      <td></td>\n      <td>A</td>\n      <td></td>\n      <td>...</td>\n      <td></td>\n      <td></td>\n      <td></td>\n      <td>A</td>\n      <td></td>\n      <td></td>\n      <td></td>\n      <td>6</td>\n      <td>4</td>\n      <td>10</td>\n    </tr>\n    <tr>\n      <th>OL12340</th>\n      <td>OL12340</td>\n      <td>1135</td>\n      <td>2015</td>\n      <td>njwo40 ngwo40</td>\n      <td>M</td>\n      <td></td>\n      <td></td>\n      <td></td>\n      <td></td>\n      <td></td>\n      <td>...</td>\n      <td></td>\n      <td>A</td>\n      <td>C</td>\n      <td>C</td>\n      <td></td>\n      <td>A</td>\n      <td></td>\n      <td>7</td>\n      <td>6</td>\n      <td>13</td>\n    </tr>\n    <tr>\n      <th>OL12361</th>\n      <td>OL12361</td>\n      <td>1135</td>\n      <td>2015</td>\n      <td>njwo61 ngwo61</td>\n      <td>M</td>\n      <td></td>\n      <td>D</td>\n      <td></td>\n      <td></td>\n      <td></td>\n      <td>...</td>\n      <td></td>\n      <td></td>\n      <td>C</td>\n      <td></td>\n      <td></td>\n      <td></td>\n      <td>A</td>\n      <td>6</td>\n      <td>2</td>\n      <td>4</td>\n    </tr>\n    <tr>\n      <th>OL12367</th>\n      <td>OL12367</td>\n      <td>1135</td>\n      <td>2015</td>\n      <td>njwo67 ngwo67</td>\n      <td>M</td>\n      <td></td>\n      <td>A</td>\n      <td>A</td>\n      <td></td>\n      <td>B</td>\n      <td>...</td>\n      <td></td>\n      <td>C</td>\n      <td></td>\n      <td></td>\n      <td>A</td>\n      <td>B</td>\n      <td>C</td>\n      <td>9</td>\n      <td>8</td>\n      <td>16</td>\n    </tr>\n    <tr>\n      <th>OL12371</th>\n      <td>OL12371</td>\n      <td>1135</td>\n      <td>2015</td>\n      <td>njwo71 ngwo71</td>\n      <td>M</td>\n      <td></td>\n      <td></td>\n      <td>A</td>\n      <td></td>\n      <td>A</td>\n      <td>...</td>\n      <td></td>\n      <td>C</td>\n      <td></td>\n      <td></td>\n      <td></td>\n      <td></td>\n      <td>D</td>\n      <td>8</td>\n      <td>6</td>\n      <td>10</td>\n    </tr>\n    <tr>\n      <th>OL12373</th>\n      <td>OL12373</td>\n      <td>1135</td>\n      <td>2015</td>\n      <td>njwo73 ngwo73</td>\n      <td>F</td>\n      <td></td>\n      <td>A</td>\n      <td>C</td>\n      <td>C</td>\n      <td>U</td>\n      <td>...</td>\n      <td>C</td>\n      <td></td>\n      <td></td>\n      <td>B</td>\n      <td></td>\n      <td></td>\n      <td></td>\n      <td>8</td>\n      <td>6</td>\n      <td>11</td>\n    </tr>\n    <tr>\n      <th>OL12378</th>\n      <td>OL12378</td>\n      <td>1135</td>\n      <td>2015</td>\n      <td>njwo78 ngwo78</td>\n      <td>M</td>\n      <td></td>\n      <td></td>\n      <td></td>\n      <td>C</td>\n      <td></td>\n      <td>...</td>\n      <td>C</td>\n      <td></td>\n      <td></td>\n      <td>B</td>\n      <td></td>\n      <td>C</td>\n      <td>B</td>\n      <td>7</td>\n      <td>7</td>\n      <td>12</td>\n    </tr>\n    <tr>\n      <th>OL12388</th>\n      <td>OL12388</td>\n      <td>1135</td>\n      <td>2015</td>\n      <td>njwo88 ngwo88</td>\n      <td>M</td>\n      <td>B</td>\n      <td>C</td>\n      <td>A</td>\n      <td></td>\n      <td></td>\n      <td>...</td>\n      <td>D</td>\n      <td>A</td>\n      <td>B</td>\n      <td>U</td>\n      <td></td>\n      <td></td>\n      <td></td>\n      <td>10</td>\n      <td>7</td>\n      <td>15</td>\n    </tr>\n    <tr>\n      <th>OL12393</th>\n      <td>OL12393</td>\n      <td>1135</td>\n      <td>2015</td>\n      <td>njwo93 ngwo93</td>\n      <td>M</td>\n      <td>B</td>\n      <td></td>\n      <td></td>\n      <td>A</td>\n      <td>C</td>\n      <td>...</td>\n      <td>B</td>\n      <td></td>\n      <td></td>\n      <td></td>\n      <td>A</td>\n      <td>U</td>\n      <td></td>\n      <td>11</td>\n      <td>9</td>\n      <td>18</td>\n    </tr>\n  </tbody>\n</table>\n<p>10 rows × 26 columns</p>\n</div>"
     },
     "metadata": {},
     "output_type": "execute_result",
     "execution_count": 34
    }
   ],
   "source": [
    "#DataFrame for Examination Year 2015 for Center 1135\n",
    "print(\"Print DataFrames for Year Center No 1135\")\n",
    "df_main2015_1135 = df_main2015.loc[df_main2015['Center Number'] == '1135']\n",
    "df_main2015_1135.head(10)"
   ],
   "metadata": {
    "collapsed": false,
    "pycharm": {
     "name": "#%%\n",
     "is_executing": false
    }
   }
  },
  {
   "cell_type": "code",
   "execution_count": 35,
   "outputs": [
    {
     "name": "stdout",
     "text": [
      "Print DataFrames for Year Center No 1146\n"
     ],
     "output_type": "stream"
    },
    {
     "data": {
      "text/plain": "                    Student Exam No Center Number Exam Year    Student Names  \\\nStudent Exam Number                                                            \nOL12315                     OL12315          1146      2015    njwo15 ngwo15   \nOL12329                     OL12329          1146      2015    njwo29 ngwo29   \nOL12331                     OL12331          1146      2015    njwo31 ngwo31   \nOL12346                     OL12346          1146      2015    njwo46 ngwo46   \nOL12351                     OL12351          1146      2015    njwo51 ngwo51   \nOL12354                     OL12354          1146      2015    njwo54 ngwo54   \nOL12359                     OL12359          1146      2015    njwo59 ngwo59   \nOL12372                     OL12372          1146      2015    njwo72 ngwo72   \nOL12381                     OL12381          1146      2015    njwo81 ngwo81   \nOL123102                   OL123102          1146      2015  njwo102 ngwo102   \n\n                    Gender 505G 510G 515G 520G 525G  ... 565G 570G 575G 580G  \\\nStudent Exam Number                                  ...                       \nOL12315                  M    C    C    C         C  ...    A    A    B    A   \nOL12329                  F    B         B            ...    B                  \nOL12331                  M         C         C       ...    D         C        \nOL12346                  M    A    A              D  ...    A    U         A   \nOL12351                  M         B    B         B  ...                   C   \nOL12354                  F    D         A            ...                       \nOL12359                  F                        C  ...    C    B    D        \nOL12372                  F              D    U       ...         B             \nOL12381                  M    A              B       ...                       \nOL123102                 F                           ...              C        \n\n                    585G 590G 595G Subjects Registered Subjects Passed Points  \nStudent Exam Number                                                            \nOL12315                          B                   9               9     17  \nOL12329                          A                   7               6     15  \nOL12331                                              5               4      6  \nOL12346                A    B                       11               8     23  \nOL12351                B    A                       11               9     21  \nOL12354                C                             7               5     11  \nOL12359                     U    B                   8               6     11  \nOL12372                C                             6               4      8  \nOL12381                     C                        5               4      8  \nOL123102               B    C                        6               4      5  \n\n[10 rows x 26 columns]",
      "text/html": "<div>\n<style scoped>\n    .dataframe tbody tr th:only-of-type {\n        vertical-align: middle;\n    }\n\n    .dataframe tbody tr th {\n        vertical-align: top;\n    }\n\n    .dataframe thead th {\n        text-align: right;\n    }\n</style>\n<table border=\"1\" class=\"dataframe\">\n  <thead>\n    <tr style=\"text-align: right;\">\n      <th></th>\n      <th>Student Exam No</th>\n      <th>Center Number</th>\n      <th>Exam Year</th>\n      <th>Student Names</th>\n      <th>Gender</th>\n      <th>505G</th>\n      <th>510G</th>\n      <th>515G</th>\n      <th>520G</th>\n      <th>525G</th>\n      <th>...</th>\n      <th>565G</th>\n      <th>570G</th>\n      <th>575G</th>\n      <th>580G</th>\n      <th>585G</th>\n      <th>590G</th>\n      <th>595G</th>\n      <th>Subjects Registered</th>\n      <th>Subjects Passed</th>\n      <th>Points</th>\n    </tr>\n    <tr>\n      <th>Student Exam Number</th>\n      <th></th>\n      <th></th>\n      <th></th>\n      <th></th>\n      <th></th>\n      <th></th>\n      <th></th>\n      <th></th>\n      <th></th>\n      <th></th>\n      <th></th>\n      <th></th>\n      <th></th>\n      <th></th>\n      <th></th>\n      <th></th>\n      <th></th>\n      <th></th>\n      <th></th>\n      <th></th>\n      <th></th>\n    </tr>\n  </thead>\n  <tbody>\n    <tr>\n      <th>OL12315</th>\n      <td>OL12315</td>\n      <td>1146</td>\n      <td>2015</td>\n      <td>njwo15 ngwo15</td>\n      <td>M</td>\n      <td>C</td>\n      <td>C</td>\n      <td>C</td>\n      <td></td>\n      <td>C</td>\n      <td>...</td>\n      <td>A</td>\n      <td>A</td>\n      <td>B</td>\n      <td>A</td>\n      <td></td>\n      <td></td>\n      <td>B</td>\n      <td>9</td>\n      <td>9</td>\n      <td>17</td>\n    </tr>\n    <tr>\n      <th>OL12329</th>\n      <td>OL12329</td>\n      <td>1146</td>\n      <td>2015</td>\n      <td>njwo29 ngwo29</td>\n      <td>F</td>\n      <td>B</td>\n      <td></td>\n      <td>B</td>\n      <td></td>\n      <td></td>\n      <td>...</td>\n      <td>B</td>\n      <td></td>\n      <td></td>\n      <td></td>\n      <td></td>\n      <td></td>\n      <td>A</td>\n      <td>7</td>\n      <td>6</td>\n      <td>15</td>\n    </tr>\n    <tr>\n      <th>OL12331</th>\n      <td>OL12331</td>\n      <td>1146</td>\n      <td>2015</td>\n      <td>njwo31 ngwo31</td>\n      <td>M</td>\n      <td></td>\n      <td>C</td>\n      <td></td>\n      <td>C</td>\n      <td></td>\n      <td>...</td>\n      <td>D</td>\n      <td></td>\n      <td>C</td>\n      <td></td>\n      <td></td>\n      <td></td>\n      <td></td>\n      <td>5</td>\n      <td>4</td>\n      <td>6</td>\n    </tr>\n    <tr>\n      <th>OL12346</th>\n      <td>OL12346</td>\n      <td>1146</td>\n      <td>2015</td>\n      <td>njwo46 ngwo46</td>\n      <td>M</td>\n      <td>A</td>\n      <td>A</td>\n      <td></td>\n      <td></td>\n      <td>D</td>\n      <td>...</td>\n      <td>A</td>\n      <td>U</td>\n      <td></td>\n      <td>A</td>\n      <td>A</td>\n      <td>B</td>\n      <td></td>\n      <td>11</td>\n      <td>8</td>\n      <td>23</td>\n    </tr>\n    <tr>\n      <th>OL12351</th>\n      <td>OL12351</td>\n      <td>1146</td>\n      <td>2015</td>\n      <td>njwo51 ngwo51</td>\n      <td>M</td>\n      <td></td>\n      <td>B</td>\n      <td>B</td>\n      <td></td>\n      <td>B</td>\n      <td>...</td>\n      <td></td>\n      <td></td>\n      <td></td>\n      <td>C</td>\n      <td>B</td>\n      <td>A</td>\n      <td></td>\n      <td>11</td>\n      <td>9</td>\n      <td>21</td>\n    </tr>\n    <tr>\n      <th>OL12354</th>\n      <td>OL12354</td>\n      <td>1146</td>\n      <td>2015</td>\n      <td>njwo54 ngwo54</td>\n      <td>F</td>\n      <td>D</td>\n      <td></td>\n      <td>A</td>\n      <td></td>\n      <td></td>\n      <td>...</td>\n      <td></td>\n      <td></td>\n      <td></td>\n      <td></td>\n      <td>C</td>\n      <td></td>\n      <td></td>\n      <td>7</td>\n      <td>5</td>\n      <td>11</td>\n    </tr>\n    <tr>\n      <th>OL12359</th>\n      <td>OL12359</td>\n      <td>1146</td>\n      <td>2015</td>\n      <td>njwo59 ngwo59</td>\n      <td>F</td>\n      <td></td>\n      <td></td>\n      <td></td>\n      <td></td>\n      <td>C</td>\n      <td>...</td>\n      <td>C</td>\n      <td>B</td>\n      <td>D</td>\n      <td></td>\n      <td></td>\n      <td>U</td>\n      <td>B</td>\n      <td>8</td>\n      <td>6</td>\n      <td>11</td>\n    </tr>\n    <tr>\n      <th>OL12372</th>\n      <td>OL12372</td>\n      <td>1146</td>\n      <td>2015</td>\n      <td>njwo72 ngwo72</td>\n      <td>F</td>\n      <td></td>\n      <td></td>\n      <td>D</td>\n      <td>U</td>\n      <td></td>\n      <td>...</td>\n      <td></td>\n      <td>B</td>\n      <td></td>\n      <td></td>\n      <td>C</td>\n      <td></td>\n      <td></td>\n      <td>6</td>\n      <td>4</td>\n      <td>8</td>\n    </tr>\n    <tr>\n      <th>OL12381</th>\n      <td>OL12381</td>\n      <td>1146</td>\n      <td>2015</td>\n      <td>njwo81 ngwo81</td>\n      <td>M</td>\n      <td>A</td>\n      <td></td>\n      <td></td>\n      <td>B</td>\n      <td></td>\n      <td>...</td>\n      <td></td>\n      <td></td>\n      <td></td>\n      <td></td>\n      <td></td>\n      <td>C</td>\n      <td></td>\n      <td>5</td>\n      <td>4</td>\n      <td>8</td>\n    </tr>\n    <tr>\n      <th>OL123102</th>\n      <td>OL123102</td>\n      <td>1146</td>\n      <td>2015</td>\n      <td>njwo102 ngwo102</td>\n      <td>F</td>\n      <td></td>\n      <td></td>\n      <td></td>\n      <td></td>\n      <td></td>\n      <td>...</td>\n      <td></td>\n      <td></td>\n      <td>C</td>\n      <td></td>\n      <td>B</td>\n      <td>C</td>\n      <td></td>\n      <td>6</td>\n      <td>4</td>\n      <td>5</td>\n    </tr>\n  </tbody>\n</table>\n<p>10 rows × 26 columns</p>\n</div>"
     },
     "metadata": {},
     "output_type": "execute_result",
     "execution_count": 35
    }
   ],
   "source": [
    "#DataFrame for Examination Year 2015 for Center 1146\n",
    "print(\"Print DataFrames for Year Center No 1146\")\n",
    "df_main2015_1146 = df_main2015.loc[df_main2015['Center Number'] == '1146']\n",
    "df_main2015_1146.head(10)"
   ],
   "metadata": {
    "collapsed": false,
    "pycharm": {
     "name": "#%%\n",
     "is_executing": false
    }
   }
  },
  {
   "cell_type": "code",
   "execution_count": 36,
   "outputs": [
    {
     "name": "stdout",
     "text": [
      "Print DataFrames for Year Center No 1175\n"
     ],
     "output_type": "stream"
    },
    {
     "data": {
      "text/plain": "                    Student Exam No Center Number Exam Year  Student Names  \\\nStudent Exam Number                                                          \nOL1232                       OL1232          1175      2015    njwo2 ngwo2   \nOL1239                       OL1239          1175      2015    njwo9 ngwo9   \nOL12327                     OL12327          1175      2015  njwo27 ngwo27   \nOL12344                     OL12344          1175      2015  njwo44 ngwo44   \nOL12349                     OL12349          1175      2015  njwo49 ngwo49   \nOL12353                     OL12353          1175      2015  njwo53 ngwo53   \nOL12377                     OL12377          1175      2015  njwo77 ngwo77   \nOL12379                     OL12379          1175      2015  njwo79 ngwo79   \nOL12385                     OL12385          1175      2015  njwo85 ngwo85   \nOL12386                     OL12386          1175      2015  njwo86 ngwo86   \n\n                    Gender 505G 510G 515G 520G 525G  ... 565G 570G 575G 580G  \\\nStudent Exam Number                                  ...                       \nOL1232                   F    A                      ...    C              B   \nOL1239                   M              A    C    D  ...         U         A   \nOL12327                  M    C         B    B    A  ...              A    B   \nOL12344                  F         A         D       ...                       \nOL12349                  M              A    B       ...    D                  \nOL12353                  M         C         C       ...                       \nOL12377                  M    C    B    A            ...              D        \nOL12379                  F              U    U       ...                       \nOL12385                  F         A                 ...         A    B        \nOL12386                  M    C         C            ...                   U   \n\n                    585G 590G 595G Subjects Registered Subjects Passed Points  \nStudent Exam Number                                                            \nOL1232                 B                             6               5     10  \nOL1239                                               8               5     12  \nOL12327                C         C                  11              11     19  \nOL12344                     B    A                   5               4     10  \nOL12349                D    A                        9               7     16  \nOL12353                                              6               5      6  \nOL12377                                              6               5     11  \nOL12379                                              6               3      5  \nOL12385                     C    C                   9               8     17  \nOL12386                     U                        5               3      5  \n\n[10 rows x 26 columns]",
      "text/html": "<div>\n<style scoped>\n    .dataframe tbody tr th:only-of-type {\n        vertical-align: middle;\n    }\n\n    .dataframe tbody tr th {\n        vertical-align: top;\n    }\n\n    .dataframe thead th {\n        text-align: right;\n    }\n</style>\n<table border=\"1\" class=\"dataframe\">\n  <thead>\n    <tr style=\"text-align: right;\">\n      <th></th>\n      <th>Student Exam No</th>\n      <th>Center Number</th>\n      <th>Exam Year</th>\n      <th>Student Names</th>\n      <th>Gender</th>\n      <th>505G</th>\n      <th>510G</th>\n      <th>515G</th>\n      <th>520G</th>\n      <th>525G</th>\n      <th>...</th>\n      <th>565G</th>\n      <th>570G</th>\n      <th>575G</th>\n      <th>580G</th>\n      <th>585G</th>\n      <th>590G</th>\n      <th>595G</th>\n      <th>Subjects Registered</th>\n      <th>Subjects Passed</th>\n      <th>Points</th>\n    </tr>\n    <tr>\n      <th>Student Exam Number</th>\n      <th></th>\n      <th></th>\n      <th></th>\n      <th></th>\n      <th></th>\n      <th></th>\n      <th></th>\n      <th></th>\n      <th></th>\n      <th></th>\n      <th></th>\n      <th></th>\n      <th></th>\n      <th></th>\n      <th></th>\n      <th></th>\n      <th></th>\n      <th></th>\n      <th></th>\n      <th></th>\n      <th></th>\n    </tr>\n  </thead>\n  <tbody>\n    <tr>\n      <th>OL1232</th>\n      <td>OL1232</td>\n      <td>1175</td>\n      <td>2015</td>\n      <td>njwo2 ngwo2</td>\n      <td>F</td>\n      <td>A</td>\n      <td></td>\n      <td></td>\n      <td></td>\n      <td></td>\n      <td>...</td>\n      <td>C</td>\n      <td></td>\n      <td></td>\n      <td>B</td>\n      <td>B</td>\n      <td></td>\n      <td></td>\n      <td>6</td>\n      <td>5</td>\n      <td>10</td>\n    </tr>\n    <tr>\n      <th>OL1239</th>\n      <td>OL1239</td>\n      <td>1175</td>\n      <td>2015</td>\n      <td>njwo9 ngwo9</td>\n      <td>M</td>\n      <td></td>\n      <td></td>\n      <td>A</td>\n      <td>C</td>\n      <td>D</td>\n      <td>...</td>\n      <td></td>\n      <td>U</td>\n      <td></td>\n      <td>A</td>\n      <td></td>\n      <td></td>\n      <td></td>\n      <td>8</td>\n      <td>5</td>\n      <td>12</td>\n    </tr>\n    <tr>\n      <th>OL12327</th>\n      <td>OL12327</td>\n      <td>1175</td>\n      <td>2015</td>\n      <td>njwo27 ngwo27</td>\n      <td>M</td>\n      <td>C</td>\n      <td></td>\n      <td>B</td>\n      <td>B</td>\n      <td>A</td>\n      <td>...</td>\n      <td></td>\n      <td></td>\n      <td>A</td>\n      <td>B</td>\n      <td>C</td>\n      <td></td>\n      <td>C</td>\n      <td>11</td>\n      <td>11</td>\n      <td>19</td>\n    </tr>\n    <tr>\n      <th>OL12344</th>\n      <td>OL12344</td>\n      <td>1175</td>\n      <td>2015</td>\n      <td>njwo44 ngwo44</td>\n      <td>F</td>\n      <td></td>\n      <td>A</td>\n      <td></td>\n      <td>D</td>\n      <td></td>\n      <td>...</td>\n      <td></td>\n      <td></td>\n      <td></td>\n      <td></td>\n      <td></td>\n      <td>B</td>\n      <td>A</td>\n      <td>5</td>\n      <td>4</td>\n      <td>10</td>\n    </tr>\n    <tr>\n      <th>OL12349</th>\n      <td>OL12349</td>\n      <td>1175</td>\n      <td>2015</td>\n      <td>njwo49 ngwo49</td>\n      <td>M</td>\n      <td></td>\n      <td></td>\n      <td>A</td>\n      <td>B</td>\n      <td></td>\n      <td>...</td>\n      <td>D</td>\n      <td></td>\n      <td></td>\n      <td></td>\n      <td>D</td>\n      <td>A</td>\n      <td></td>\n      <td>9</td>\n      <td>7</td>\n      <td>16</td>\n    </tr>\n    <tr>\n      <th>OL12353</th>\n      <td>OL12353</td>\n      <td>1175</td>\n      <td>2015</td>\n      <td>njwo53 ngwo53</td>\n      <td>M</td>\n      <td></td>\n      <td>C</td>\n      <td></td>\n      <td>C</td>\n      <td></td>\n      <td>...</td>\n      <td></td>\n      <td></td>\n      <td></td>\n      <td></td>\n      <td></td>\n      <td></td>\n      <td></td>\n      <td>6</td>\n      <td>5</td>\n      <td>6</td>\n    </tr>\n    <tr>\n      <th>OL12377</th>\n      <td>OL12377</td>\n      <td>1175</td>\n      <td>2015</td>\n      <td>njwo77 ngwo77</td>\n      <td>M</td>\n      <td>C</td>\n      <td>B</td>\n      <td>A</td>\n      <td></td>\n      <td></td>\n      <td>...</td>\n      <td></td>\n      <td></td>\n      <td>D</td>\n      <td></td>\n      <td></td>\n      <td></td>\n      <td></td>\n      <td>6</td>\n      <td>5</td>\n      <td>11</td>\n    </tr>\n    <tr>\n      <th>OL12379</th>\n      <td>OL12379</td>\n      <td>1175</td>\n      <td>2015</td>\n      <td>njwo79 ngwo79</td>\n      <td>F</td>\n      <td></td>\n      <td></td>\n      <td>U</td>\n      <td>U</td>\n      <td></td>\n      <td>...</td>\n      <td></td>\n      <td></td>\n      <td></td>\n      <td></td>\n      <td></td>\n      <td></td>\n      <td></td>\n      <td>6</td>\n      <td>3</td>\n      <td>5</td>\n    </tr>\n    <tr>\n      <th>OL12385</th>\n      <td>OL12385</td>\n      <td>1175</td>\n      <td>2015</td>\n      <td>njwo85 ngwo85</td>\n      <td>F</td>\n      <td></td>\n      <td>A</td>\n      <td></td>\n      <td></td>\n      <td></td>\n      <td>...</td>\n      <td></td>\n      <td>A</td>\n      <td>B</td>\n      <td></td>\n      <td></td>\n      <td>C</td>\n      <td>C</td>\n      <td>9</td>\n      <td>8</td>\n      <td>17</td>\n    </tr>\n    <tr>\n      <th>OL12386</th>\n      <td>OL12386</td>\n      <td>1175</td>\n      <td>2015</td>\n      <td>njwo86 ngwo86</td>\n      <td>M</td>\n      <td>C</td>\n      <td></td>\n      <td>C</td>\n      <td></td>\n      <td></td>\n      <td>...</td>\n      <td></td>\n      <td></td>\n      <td></td>\n      <td>U</td>\n      <td></td>\n      <td>U</td>\n      <td></td>\n      <td>5</td>\n      <td>3</td>\n      <td>5</td>\n    </tr>\n  </tbody>\n</table>\n<p>10 rows × 26 columns</p>\n</div>"
     },
     "metadata": {},
     "output_type": "execute_result",
     "execution_count": 36
    }
   ],
   "source": [
    "#DataFrame for Examination Year 2015 for Center 1175\n",
    "print(\"Print DataFrames for Year Center No 1175\")\n",
    "df_main2015_1175 = df_main2015.loc[df_main2015['Center Number'] == '1175']\n",
    "df_main2015_1175.head(10)"
   ],
   "metadata": {
    "collapsed": false,
    "pycharm": {
     "name": "#%%\n",
     "is_executing": false
    }
   }
  },
  {
   "cell_type": "code",
   "execution_count": 37,
   "outputs": [
    {
     "name": "stdout",
     "text": [
      "Print DataFrames for Year Center No 1176\n"
     ],
     "output_type": "stream"
    },
    {
     "data": {
      "text/plain": "                    Student Exam No Center Number Exam Year  Student Names  \\\nStudent Exam Number                                                          \nOL12310                     OL12310          1176      2015  njwo10 ngwo10   \nOL12311                     OL12311          1176      2015  njwo11 ngwo11   \nOL12316                     OL12316          1176      2015  njwo16 ngwo16   \nOL12317                     OL12317          1176      2015  njwo17 ngwo17   \nOL12319                     OL12319          1176      2015  njwo19 ngwo19   \nOL12320                     OL12320          1176      2015  njwo20 ngwo20   \nOL12335                     OL12335          1176      2015  njwo35 ngwo35   \nOL12345                     OL12345          1176      2015  njwo45 ngwo45   \nOL12356                     OL12356          1176      2015  njwo56 ngwo56   \nOL12357                     OL12357          1176      2015  njwo57 ngwo57   \n\n                    Gender 505G 510G 515G 520G 525G  ... 565G 570G 575G 580G  \\\nStudent Exam Number                                  ...                       \nOL12310                  F                           ...                       \nOL12311                  F                        C  ...         U             \nOL12316                  F         B              B  ...                       \nOL12317                  F         A    C    B       ...    A    D             \nOL12319                  M    A                      ...                       \nOL12320                  F    A    D                 ...    C              U   \nOL12335                  M    D         C            ...    B    C             \nOL12345                  F                        A  ...    B    U         A   \nOL12356                  F         B         A    B  ...    C         D    C   \nOL12357                  F    B         C         C  ...    B              D   \n\n                    585G 590G 595G Subjects Registered Subjects Passed Points  \nStudent Exam Number                                                            \nOL12310                B    A    C                   5               5     10  \nOL12311                                              5               3      5  \nOL12316                     A    D                   6               4      9  \nOL12317                C         B                  11              10     21  \nOL12319                A         A                   7               7     18  \nOL12320                     A                        8               5     10  \nOL12335                B    D                       11               8     15  \nOL12345                C                             8               7     14  \nOL12356                U         D                  11               6     11  \nOL12357                                              8               5      9  \n\n[10 rows x 26 columns]",
      "text/html": "<div>\n<style scoped>\n    .dataframe tbody tr th:only-of-type {\n        vertical-align: middle;\n    }\n\n    .dataframe tbody tr th {\n        vertical-align: top;\n    }\n\n    .dataframe thead th {\n        text-align: right;\n    }\n</style>\n<table border=\"1\" class=\"dataframe\">\n  <thead>\n    <tr style=\"text-align: right;\">\n      <th></th>\n      <th>Student Exam No</th>\n      <th>Center Number</th>\n      <th>Exam Year</th>\n      <th>Student Names</th>\n      <th>Gender</th>\n      <th>505G</th>\n      <th>510G</th>\n      <th>515G</th>\n      <th>520G</th>\n      <th>525G</th>\n      <th>...</th>\n      <th>565G</th>\n      <th>570G</th>\n      <th>575G</th>\n      <th>580G</th>\n      <th>585G</th>\n      <th>590G</th>\n      <th>595G</th>\n      <th>Subjects Registered</th>\n      <th>Subjects Passed</th>\n      <th>Points</th>\n    </tr>\n    <tr>\n      <th>Student Exam Number</th>\n      <th></th>\n      <th></th>\n      <th></th>\n      <th></th>\n      <th></th>\n      <th></th>\n      <th></th>\n      <th></th>\n      <th></th>\n      <th></th>\n      <th></th>\n      <th></th>\n      <th></th>\n      <th></th>\n      <th></th>\n      <th></th>\n      <th></th>\n      <th></th>\n      <th></th>\n      <th></th>\n      <th></th>\n    </tr>\n  </thead>\n  <tbody>\n    <tr>\n      <th>OL12310</th>\n      <td>OL12310</td>\n      <td>1176</td>\n      <td>2015</td>\n      <td>njwo10 ngwo10</td>\n      <td>F</td>\n      <td></td>\n      <td></td>\n      <td></td>\n      <td></td>\n      <td></td>\n      <td>...</td>\n      <td></td>\n      <td></td>\n      <td></td>\n      <td></td>\n      <td>B</td>\n      <td>A</td>\n      <td>C</td>\n      <td>5</td>\n      <td>5</td>\n      <td>10</td>\n    </tr>\n    <tr>\n      <th>OL12311</th>\n      <td>OL12311</td>\n      <td>1176</td>\n      <td>2015</td>\n      <td>njwo11 ngwo11</td>\n      <td>F</td>\n      <td></td>\n      <td></td>\n      <td></td>\n      <td></td>\n      <td>C</td>\n      <td>...</td>\n      <td></td>\n      <td>U</td>\n      <td></td>\n      <td></td>\n      <td></td>\n      <td></td>\n      <td></td>\n      <td>5</td>\n      <td>3</td>\n      <td>5</td>\n    </tr>\n    <tr>\n      <th>OL12316</th>\n      <td>OL12316</td>\n      <td>1176</td>\n      <td>2015</td>\n      <td>njwo16 ngwo16</td>\n      <td>F</td>\n      <td></td>\n      <td>B</td>\n      <td></td>\n      <td></td>\n      <td>B</td>\n      <td>...</td>\n      <td></td>\n      <td></td>\n      <td></td>\n      <td></td>\n      <td></td>\n      <td>A</td>\n      <td>D</td>\n      <td>6</td>\n      <td>4</td>\n      <td>9</td>\n    </tr>\n    <tr>\n      <th>OL12317</th>\n      <td>OL12317</td>\n      <td>1176</td>\n      <td>2015</td>\n      <td>njwo17 ngwo17</td>\n      <td>F</td>\n      <td></td>\n      <td>A</td>\n      <td>C</td>\n      <td>B</td>\n      <td></td>\n      <td>...</td>\n      <td>A</td>\n      <td>D</td>\n      <td></td>\n      <td></td>\n      <td>C</td>\n      <td></td>\n      <td>B</td>\n      <td>11</td>\n      <td>10</td>\n      <td>21</td>\n    </tr>\n    <tr>\n      <th>OL12319</th>\n      <td>OL12319</td>\n      <td>1176</td>\n      <td>2015</td>\n      <td>njwo19 ngwo19</td>\n      <td>M</td>\n      <td>A</td>\n      <td></td>\n      <td></td>\n      <td></td>\n      <td></td>\n      <td>...</td>\n      <td></td>\n      <td></td>\n      <td></td>\n      <td></td>\n      <td>A</td>\n      <td></td>\n      <td>A</td>\n      <td>7</td>\n      <td>7</td>\n      <td>18</td>\n    </tr>\n    <tr>\n      <th>OL12320</th>\n      <td>OL12320</td>\n      <td>1176</td>\n      <td>2015</td>\n      <td>njwo20 ngwo20</td>\n      <td>F</td>\n      <td>A</td>\n      <td>D</td>\n      <td></td>\n      <td></td>\n      <td></td>\n      <td>...</td>\n      <td>C</td>\n      <td></td>\n      <td></td>\n      <td>U</td>\n      <td></td>\n      <td>A</td>\n      <td></td>\n      <td>8</td>\n      <td>5</td>\n      <td>10</td>\n    </tr>\n    <tr>\n      <th>OL12335</th>\n      <td>OL12335</td>\n      <td>1176</td>\n      <td>2015</td>\n      <td>njwo35 ngwo35</td>\n      <td>M</td>\n      <td>D</td>\n      <td></td>\n      <td>C</td>\n      <td></td>\n      <td></td>\n      <td>...</td>\n      <td>B</td>\n      <td>C</td>\n      <td></td>\n      <td></td>\n      <td>B</td>\n      <td>D</td>\n      <td></td>\n      <td>11</td>\n      <td>8</td>\n      <td>15</td>\n    </tr>\n    <tr>\n      <th>OL12345</th>\n      <td>OL12345</td>\n      <td>1176</td>\n      <td>2015</td>\n      <td>njwo45 ngwo45</td>\n      <td>F</td>\n      <td></td>\n      <td></td>\n      <td></td>\n      <td></td>\n      <td>A</td>\n      <td>...</td>\n      <td>B</td>\n      <td>U</td>\n      <td></td>\n      <td>A</td>\n      <td>C</td>\n      <td></td>\n      <td></td>\n      <td>8</td>\n      <td>7</td>\n      <td>14</td>\n    </tr>\n    <tr>\n      <th>OL12356</th>\n      <td>OL12356</td>\n      <td>1176</td>\n      <td>2015</td>\n      <td>njwo56 ngwo56</td>\n      <td>F</td>\n      <td></td>\n      <td>B</td>\n      <td></td>\n      <td>A</td>\n      <td>B</td>\n      <td>...</td>\n      <td>C</td>\n      <td></td>\n      <td>D</td>\n      <td>C</td>\n      <td>U</td>\n      <td></td>\n      <td>D</td>\n      <td>11</td>\n      <td>6</td>\n      <td>11</td>\n    </tr>\n    <tr>\n      <th>OL12357</th>\n      <td>OL12357</td>\n      <td>1176</td>\n      <td>2015</td>\n      <td>njwo57 ngwo57</td>\n      <td>F</td>\n      <td>B</td>\n      <td></td>\n      <td>C</td>\n      <td></td>\n      <td>C</td>\n      <td>...</td>\n      <td>B</td>\n      <td></td>\n      <td></td>\n      <td>D</td>\n      <td></td>\n      <td></td>\n      <td></td>\n      <td>8</td>\n      <td>5</td>\n      <td>9</td>\n    </tr>\n  </tbody>\n</table>\n<p>10 rows × 26 columns</p>\n</div>"
     },
     "metadata": {},
     "output_type": "execute_result",
     "execution_count": 37
    }
   ],
   "source": [
    "#DataFrame for Examination Year 2015 for Center 1176\n",
    "print(\"Print DataFrames for Year Center No 1176\")\n",
    "df_main2015_1176 = df_main2015.loc[df_main2015['Center Number'] == '1176']\n",
    "df_main2015_1176.head(10)\n"
   ],
   "metadata": {
    "collapsed": false,
    "pycharm": {
     "name": "#%%\n",
     "is_executing": false
    }
   }
  },
  {
   "cell_type": "code",
   "execution_count": 38,
   "outputs": [
    {
     "name": "stdout",
     "text": [
      "STATISTICS OF PERFORMANE BY EACH CENTRE FOR 2015 EXAM YEAR\n",
      "Statistics of Number of passes and failures in Centre 1110 for 2015\n",
      "{'Passed': 10350, 'Failed': 1008, 'Percentage Pass': 91.13}\n"
     ],
     "output_type": "stream"
    }
   ],
   "source": [
    "# 9. COMPUTING STATISTICS FOR CENTRES FOR EXAM YEAR 2015\n",
    "# Computation statistics of number of passed in Centre 1110 for 2015\n",
    "print(\"STATISTICS OF PERFORMANE BY EACH CENTRE FOR 2015 EXAM YEAR\")\n",
    "print(\"Statistics of Number of passes and failures in Centre 1110 for 2015\")\n",
    "def pass_fail(dataframe):\n",
    "    return {\"Passed\":len(dataframe[dataframe['Subjects Passed'] >= 4]), \n",
    "            \"Failed\":len(dataframe[dataframe['Subjects Passed'] < 4 ]),\n",
    "            \"Percentage Pass\":round(float(len(dataframe[dataframe['Subjects Passed'] \n",
    "                                >= 4])*100/(len(dataframe[dataframe['Subjects Passed'] \n",
    "                                >= 4])+(len(dataframe[dataframe['Subjects Passed'] < 4 ])))),2)}\n",
    "print(pass_fail(df_main2015_1110))"
   ],
   "metadata": {
    "collapsed": false,
    "pycharm": {
     "name": "#%%\n",
     "is_executing": false
    }
   }
  },
  {
   "cell_type": "code",
   "execution_count": 39,
   "outputs": [
    {
     "name": "stdout",
     "text": [
      "Statistics of Number of passes and failures in Centre 1115 for 2015\n",
      "{'Passed': 10273, 'Failed': 949, 'Percentage Pass': 91.54}\n"
     ],
     "output_type": "stream"
    }
   ],
   "source": [
    "# Computation statistics of number of passed in Centre 1115 for 2015\n",
    "print(\"Statistics of Number of passes and failures in Centre 1115 for 2015\")\n",
    "def pass_fail(dataframe):\n",
    "    return {\"Passed\":len(dataframe[dataframe['Subjects Passed'] >= 4]), \n",
    "            \"Failed\":len(dataframe[dataframe['Subjects Passed'] < 4 ]),\n",
    "            \"Percentage Pass\":round(float(len(dataframe[dataframe['Subjects Passed'] \n",
    "                                >= 4])*100/(len(dataframe[dataframe['Subjects Passed'] \n",
    "                                >= 4])+(len(dataframe[dataframe['Subjects Passed'] < 4 ])))),2)}\n",
    "print(pass_fail(df_main2015_1115))"
   ],
   "metadata": {
    "collapsed": false,
    "pycharm": {
     "name": "#%%\n",
     "is_executing": false
    }
   }
  },
  {
   "cell_type": "code",
   "execution_count": 40,
   "outputs": [
    {
     "name": "stdout",
     "text": [
      "Statistics of Number of passes and failures in Centre 1124 for 2015\n",
      "{'Passed': 10189, 'Failed': 987, 'Percentage Pass': 91.17}\n"
     ],
     "output_type": "stream"
    }
   ],
   "source": [
    "# Computation statistics of number of passed in Centre 1124 for 2015\n",
    "print(\"Statistics of Number of passes and failures in Centre 1124 for 2015\")\n",
    "def pass_fail(dataframe):\n",
    "    return {\"Passed\":len(dataframe[dataframe['Subjects Passed'] >= 4]), \n",
    "            \"Failed\":len(dataframe[dataframe['Subjects Passed'] < 4 ]),\n",
    "            \"Percentage Pass\":round(float(len(dataframe[dataframe['Subjects Passed'] \n",
    "                                >= 4])*100/(len(dataframe[dataframe['Subjects Passed'] \n",
    "                                >= 4])+(len(dataframe[dataframe['Subjects Passed'] < 4 ])))),2)}\n",
    "print(pass_fail(df_main2015_1124))"
   ],
   "metadata": {
    "collapsed": false,
    "pycharm": {
     "name": "#%%\n",
     "is_executing": false
    }
   }
  },
  {
   "cell_type": "code",
   "execution_count": 41,
   "outputs": [
    {
     "name": "stdout",
     "text": [
      "Statistics of Number of passes and failures in Centre 1131 for 2015\n",
      "{'Passed': 10204, 'Failed': 991, 'Percentage Pass': 91.15}\n"
     ],
     "output_type": "stream"
    }
   ],
   "source": [
    "# Computing statistics of number of subjects passed in Centre 1131 for 2015\n",
    "print(\"Statistics of Number of passes and failures in Centre 1131 for 2015\")\n",
    "def pass_fail(dataframe):\n",
    "    return {\"Passed\":len(dataframe[dataframe['Subjects Passed'] >= 4]), \n",
    "            \"Failed\":len(dataframe[dataframe['Subjects Passed'] < 4 ]),\n",
    "            \"Percentage Pass\":round(float(len(dataframe[dataframe['Subjects Passed'] \n",
    "                                >= 4])*100/(len(dataframe[dataframe['Subjects Passed'] \n",
    "                                >= 4])+(len(dataframe[dataframe['Subjects Passed'] < 4 ])))),2)}\n",
    "print(pass_fail(df_main2015_1131))"
   ],
   "metadata": {
    "collapsed": false,
    "pycharm": {
     "name": "#%%\n",
     "is_executing": false
    }
   }
  },
  {
   "cell_type": "code",
   "execution_count": 42,
   "outputs": [
    {
     "name": "stdout",
     "text": [
      "Statistics of Number of passes and failures in Centre 1110 for 2015\n",
      "{'Passed': 10249, 'Failed': 1021, 'Percentage Pass': 90.94}\n"
     ],
     "output_type": "stream"
    }
   ],
   "source": [
    "# Computing statistics of number of passed in Centre 1135 for 2015\n",
    "print(\"Statistics of Number of passes and failures in Centre 1110 for 2015\")\n",
    "def pass_fail(dataframe):\n",
    "    return {\"Passed\":len(dataframe[dataframe['Subjects Passed'] >= 4]), \n",
    "            \"Failed\":len(dataframe[dataframe['Subjects Passed'] < 4 ]),\n",
    "            \"Percentage Pass\":round(float(len(dataframe[dataframe['Subjects Passed'] \n",
    "                                >= 4])*100/(len(dataframe[dataframe['Subjects Passed'] \n",
    "                                >= 4])+(len(dataframe[dataframe['Subjects Passed'] < 4 ])))),2)}\n",
    "print(pass_fail(df_main2015_1135))"
   ],
   "metadata": {
    "collapsed": false,
    "pycharm": {
     "name": "#%%\n",
     "is_executing": false
    }
   }
  },
  {
   "cell_type": "code",
   "execution_count": 43,
   "outputs": [
    {
     "name": "stdout",
     "text": [
      "Statistics of Number of passes and failures in Centre 1146 for 2015\n",
      "{'Passed': 10342, 'Failed': 971, 'Percentage Pass': 91.42}\n"
     ],
     "output_type": "stream"
    }
   ],
   "source": [
    "# Computing statistics of number of passed in Centre 1146 for 2015\n",
    "print(\"Statistics of Number of passes and failures in Centre 1146 for 2015\")\n",
    "def pass_fail(dataframe):\n",
    "    return {\"Passed\":len(dataframe[dataframe['Subjects Passed'] >= 4]), \n",
    "            \"Failed\":len(dataframe[dataframe['Subjects Passed'] < 4 ]),\n",
    "            \"Percentage Pass\":round(float(len(dataframe[dataframe['Subjects Passed'] \n",
    "                                >= 4])*100/(len(dataframe[dataframe['Subjects Passed'] \n",
    "                                >= 4])+(len(dataframe[dataframe['Subjects Passed'] < 4 ])))),2)}\n",
    "print(pass_fail(df_main2015_1146))"
   ],
   "metadata": {
    "collapsed": false,
    "pycharm": {
     "name": "#%%\n",
     "is_executing": false
    }
   }
  },
  {
   "cell_type": "code",
   "execution_count": 44,
   "outputs": [
    {
     "name": "stdout",
     "text": [
      "Statistics of Number of passes and failures in Centre 1175 for 2015\n",
      "{'Passed': 10226, 'Failed': 993, 'Percentage Pass': 91.15}\n"
     ],
     "output_type": "stream"
    }
   ],
   "source": [
    "# Computing statistics of number of passed in Centre 1175 for 2015\n",
    "print(\"Statistics of Number of passes and failures in Centre 1175 for 2015\")\n",
    "def pass_fail(dataframe):\n",
    "    return {\"Passed\":len(dataframe[dataframe['Subjects Passed'] >= 4]), \n",
    "            \"Failed\":len(dataframe[dataframe['Subjects Passed'] < 4 ]),\n",
    "            \"Percentage Pass\":round(float(len(dataframe[dataframe['Subjects Passed'] \n",
    "                                >= 4])*100/(len(dataframe[dataframe['Subjects Passed'] \n",
    "                                >= 4])+(len(dataframe[dataframe['Subjects Passed'] < 4 ])))),2)}\n",
    "print(pass_fail(df_main2015_1175))"
   ],
   "metadata": {
    "collapsed": false,
    "pycharm": {
     "name": "#%%\n",
     "is_executing": false
    }
   }
  },
  {
   "cell_type": "code",
   "execution_count": 45,
   "outputs": [
    {
     "name": "stdout",
     "text": [
      "Statistics of Number of passes and failures in Centre 1176 for 2015\n",
      "{'Passed': 10309, 'Failed': 938, 'Percentage Pass': 91.66}\n"
     ],
     "output_type": "stream"
    }
   ],
   "source": [
    "# Computing statistics of number of passed in Centre 1176 for 2015\n",
    "print(\"Statistics of Number of passes and failures in Centre 1176 for 2015\")\n",
    "def pass_fail(dataframe):\n",
    "    return {\"Passed\":len(dataframe[dataframe['Subjects Passed'] >= 4]), \n",
    "            \"Failed\":len(dataframe[dataframe['Subjects Passed'] < 4 ]),\n",
    "            \"Percentage Pass\":round(float(len(dataframe[dataframe['Subjects Passed'] \n",
    "                                >= 4])*100/(len(dataframe[dataframe['Subjects Passed'] \n",
    "                                >= 4])+(len(dataframe[dataframe['Subjects Passed'] < 4 ])))),2)}\n",
    "print(pass_fail(df_main2015_1176))"
   ],
   "metadata": {
    "collapsed": false,
    "pycharm": {
     "name": "#%%\n",
     "is_executing": false
    }
   }
  },
  {
   "cell_type": "markdown",
   "source": [
    "10 PRINT STUDENT INDIVIDUAL RESULT SLIP.\n",
    "Function will take a list which represents a row in the above \n",
    "DataFrame whihch represents a student's record"
   ],
   "metadata": {
    "collapsed": false,
    "pycharm": {
     "name": "#%% md\n"
    }
   }
  },
  {
   "cell_type": "code",
   "execution_count": 46,
   "outputs": [],
   "source": [
    "def print_slip(list_of_student_record):\n",
    "    #to print student name\n",
    "    print()\n",
    "    print(\"STUDENT INDIVIDUAL RESULT SLIP\")\n",
    "    print(\"Student Names: \" + list_of_student_record[3])\n",
    "    print(\"Student Exam Number: \"+ list_of_student_record[0])\n",
    "    print(\"Centre Number: \" + list_of_student_record[1])\n",
    "    print(\"Examination Year: \" + list_of_student_record[2])\n",
    "    print(\"Gender: \" + list_of_student_record[4])\n",
    "    \n",
    "    acc = list_of_student_record[5]\n",
    "    bio = list_of_student_record[6]\n",
    "    chm = list_of_student_record[7]\n",
    "    com = list_of_student_record[8]\n",
    "    eco = list_of_student_record[9]\n",
    "    enl = list_of_student_record[10]\n",
    "    lit = list_of_student_record[11]\n",
    "    fre = list_of_student_record[12]\n",
    "    fnu = list_of_student_record[13]\n",
    "    geo = list_of_student_record[14]\n",
    "    his = list_of_student_record[15]\n",
    "    hbi = list_of_student_record[16]\n",
    "    mat = list_of_student_record[17]\n",
    "    adm = list_of_student_record[18]\n",
    "    phy = list_of_student_record[19]\n",
    "    rel = list_of_student_record[20]\n",
    "    csc = list_of_student_record[21]\n",
    "    hec = list_of_student_record[22]\n",
    "    \n",
    "    if acc != '':\n",
    "        print(\"505 Accounting  \"+ acc)\n",
    "    if bio != '':\n",
    "        print(\"510 Biology  \"+bio)\n",
    "    if chm != '':\n",
    "        print(\"515 Chemistry  \"+chm)\n",
    "    if com != '':\n",
    "        print(\"520 Commerce  \"+com)\n",
    "    if eco != '':\n",
    "        print(\"525 Economics  \"+eco)\n",
    "    if enl != '':\n",
    "        print(\"530 English Language  \"+enl)\n",
    "    if lit != '':\n",
    "        print(\"535 English Literature  \"+lit)\n",
    "    if fre != '':\n",
    "        print(\"545 French  \"+fre)\n",
    "    if fnu != '':\n",
    "        print(\"540 Food and Nutrition  \"+fnu)\n",
    "    if geo != '':\n",
    "        print(\"550 Geography  \"+geo)\n",
    "    if his != '':\n",
    "        print(\"560 History  \"+his)\n",
    "    if hbi != '':\n",
    "        print(\"565 Human Biology  \"+hbi)\n",
    "    if mat != '':\n",
    "        print(\"570 Mathematics  \"+mat)    \n",
    "    if adm != '':\n",
    "        print(\"575 Additional Mathematics  \"+adm)\n",
    "    if phy != '':\n",
    "        print(\"580 Physics  \"+phy)\n",
    "    if rel != '':\n",
    "        print(\"585 Religious Studies  \"+rel)    \n",
    "    if csc != '':\n",
    "        print(\"590 Computer Computer Science  \"+csc)\n",
    "    if csc != '':\n",
    "        print(\"595 Home Economics  \"+hec)\n",
    "    \n",
    "        "
   ],
   "metadata": {
    "collapsed": false,
    "pycharm": {
     "name": "#%%\n",
     "is_executing": false
    }
   }
  },
  {
   "cell_type": "code",
   "execution_count": 47,
   "outputs": [
    {
     "name": "stdout",
     "text": [
      "\n",
      "STUDENT INDIVIDUAL RESULT SLIP\n",
      "Student Names: njwo0 ngwo0\n",
      "Student Exam Number: OL1230\n",
      "Centre Number: 1110\n",
      "Examination Year: 2015\n",
      "Gender: M\n",
      "505 Accounting  D\n",
      "510 Biology  A\n",
      "520 Commerce  D\n",
      "535 English Literature  C\n",
      "540 Food and Nutrition  U\n",
      "575 Additional Mathematics  B\n",
      "\n",
      "STUDENT INDIVIDUAL RESULT SLIP\n",
      "Student Names: njwo1 ngwo1\n",
      "Student Exam Number: OL1231\n",
      "Centre Number: 1110\n",
      "Examination Year: 2015\n",
      "Gender: M\n",
      "515 Chemistry  B\n",
      "520 Commerce  D\n",
      "525 Economics  C\n",
      "565 Human Biology  B\n",
      "570 Mathematics  C\n",
      "\n",
      "STUDENT INDIVIDUAL RESULT SLIP\n",
      "Student Names: njwo2 ngwo2\n",
      "Student Exam Number: OL1232\n",
      "Centre Number: 1175\n",
      "Examination Year: 2015\n",
      "Gender: F\n",
      "505 Accounting  A\n",
      "530 English Language  B\n",
      "550 Geography  D\n",
      "565 Human Biology  C\n",
      "580 Physics  B\n",
      "585 Religious Studies  B\n",
      "\n",
      "STUDENT INDIVIDUAL RESULT SLIP\n",
      "Student Names: njwo3 ngwo3\n",
      "Student Exam Number: OL1233\n",
      "Centre Number: 1115\n",
      "Examination Year: 2015\n",
      "Gender: M\n",
      "525 Economics  B\n",
      "530 English Language  A\n",
      "545 French  B\n",
      "540 Food and Nutrition  A\n",
      "585 Religious Studies  A\n",
      "\n",
      "STUDENT INDIVIDUAL RESULT SLIP\n",
      "Student Names: njwo4 ngwo4\n",
      "Student Exam Number: OL1234\n",
      "Centre Number: 1124\n",
      "Examination Year: 2015\n",
      "Gender: F\n",
      "515 Chemistry  A\n",
      "520 Commerce  B\n",
      "525 Economics  A\n",
      "560 History  B\n",
      "\n",
      "STUDENT INDIVIDUAL RESULT SLIP\n",
      "Student Names: njwo5 ngwo5\n",
      "Student Exam Number: OL1235\n",
      "Centre Number: 1124\n",
      "Examination Year: 2015\n",
      "Gender: F\n",
      "505 Accounting  B\n",
      "525 Economics  A\n",
      "530 English Language  U\n",
      "535 English Literature  A\n",
      "545 French  B\n",
      "540 Food and Nutrition  C\n",
      "560 History  A\n",
      "570 Mathematics  U\n",
      "580 Physics  B\n",
      "\n",
      "STUDENT INDIVIDUAL RESULT SLIP\n",
      "Student Names: njwo6 ngwo6\n",
      "Student Exam Number: OL1236\n",
      "Centre Number: 1131\n",
      "Examination Year: 2015\n",
      "Gender: M\n",
      "505 Accounting  A\n",
      "520 Commerce  C\n",
      "535 English Literature  A\n",
      "550 Geography  C\n",
      "560 History  A\n",
      "575 Additional Mathematics  B\n",
      "\n",
      "STUDENT INDIVIDUAL RESULT SLIP\n",
      "Student Names: njwo7 ngwo7\n",
      "Student Exam Number: OL1237\n",
      "Centre Number: 1135\n",
      "Examination Year: 2015\n",
      "Gender: M\n",
      "510 Biology  A\n",
      "525 Economics  C\n",
      "530 English Language  C\n",
      "540 Food and Nutrition  U\n",
      "570 Mathematics  A\n",
      "590 Computer Computer Science  D\n",
      "595 Home Economics  \n",
      "\n",
      "STUDENT INDIVIDUAL RESULT SLIP\n",
      "Student Names: njwo8 ngwo8\n",
      "Student Exam Number: OL1238\n",
      "Centre Number: 1131\n",
      "Examination Year: 2015\n",
      "Gender: F\n",
      "515 Chemistry  D\n",
      "540 Food and Nutrition  A\n",
      "550 Geography  D\n",
      "560 History  B\n",
      "580 Physics  B\n",
      "590 Computer Computer Science  D\n",
      "595 Home Economics  \n",
      "\n",
      "STUDENT INDIVIDUAL RESULT SLIP\n",
      "Student Names: njwo9 ngwo9\n",
      "Student Exam Number: OL1239\n",
      "Centre Number: 1175\n",
      "Examination Year: 2015\n",
      "Gender: M\n",
      "515 Chemistry  A\n",
      "520 Commerce  C\n",
      "525 Economics  D\n",
      "545 French  B\n",
      "550 Geography  A\n",
      "560 History  D\n",
      "570 Mathematics  U\n",
      "580 Physics  A\n"
     ],
     "output_type": "stream"
    }
   ],
   "source": [
    "for row in range(0,10):\n",
    "    print_slip(df_main2015.values[row])"
   ],
   "metadata": {
    "collapsed": false,
    "pycharm": {
     "name": "#%%\n",
     "is_executing": false
    }
   }
  },
  {
   "cell_type": "code",
   "execution_count": null,
   "outputs": [],
   "source": [
    "\n"
   ],
   "metadata": {
    "collapsed": false,
    "pycharm": {
     "name": "#%%\n"
    }
   }
  }
 ],
 "metadata": {
  "kernelspec": {
   "display_name": "Python 3",
   "language": "python",
   "name": "python3"
  },
  "language_info": {
   "codemirror_mode": {
    "name": "ipython",
    "version": 2
   },
   "file_extension": ".py",
   "mimetype": "text/x-python",
   "name": "python",
   "nbconvert_exporter": "python",
   "pygments_lexer": "ipython2",
   "version": "2.7.6"
  },
  "pycharm": {
   "stem_cell": {
    "cell_type": "raw",
    "source": [],
    "metadata": {
     "collapsed": false
    }
   }
  }
 },
 "nbformat": 4,
 "nbformat_minor": 0
}